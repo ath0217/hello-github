{
  "nbformat": 4,
  "nbformat_minor": 0,
  "metadata": {
    "colab": {
      "name": "Lab Session #09.ipynb",
      "private_outputs": true,
      "provenance": [],
      "authorship_tag": "ABX9TyMOUm/0Ih1ymfaB0EdiVzSo",
      "include_colab_link": true
    },
    "kernelspec": {
      "name": "python3",
      "display_name": "Python 3"
    },
    "language_info": {
      "name": "python"
    }
  },
  "cells": [
    {
      "cell_type": "markdown",
      "metadata": {
        "id": "view-in-github",
        "colab_type": "text"
      },
      "source": [
        "<a href=\"https://colab.research.google.com/github/ath0217/hello-github/blob/main/Lab_Session_09.ipynb\" target=\"_parent\"><img src=\"https://colab.research.google.com/assets/colab-badge.svg\" alt=\"Open In Colab\"/></a>"
      ]
    },
    {
      "cell_type": "markdown",
      "source": [
        "**Importing libraries**\n"
      ],
      "metadata": {
        "id": "kl4kxR4XoCbv"
      }
    },
    {
      "cell_type": "code",
      "execution_count": null,
      "metadata": {
        "id": "Uq0Hmf21nsFC"
      },
      "outputs": [],
      "source": [
        "import pandas as pd\n",
        "import numpy as np\n",
        "import matplotlib.pyplot as plt\n",
        "import seaborn as sns\n",
        "import plotly.express as px\n",
        "import plotly.graph_objects as go"
      ]
    },
    {
      "cell_type": "code",
      "source": [
        "sns.set_style(\"darkgrid\")"
      ],
      "metadata": {
        "id": "kko306uZoFOh"
      },
      "execution_count": null,
      "outputs": []
    },
    {
      "cell_type": "code",
      "source": [
        "\n",
        "!mkdir data"
      ],
      "metadata": {
        "id": "TjIvaeVXoHFR"
      },
      "execution_count": null,
      "outputs": []
    },
    {
      "cell_type": "code",
      "source": [
        "import gdown\n",
        "\n",
        "urls = ['https://drive.google.com/uc?export=download&id=1EeB75LhKj1ofiXjm7Su9WEUh_u62YiCW', # USArrests  https://drive.google.com/file/d/1EeB75LhKj1ofiXjm7Su9WEUh_u62YiCW/view?usp=sharing\n",
        "        'https://drive.google.com/uc?export=download&id=1bqKHru3xACYpcDLqvjJlXM8FZHAwMC1f', # residential  https://drive.google.com/file/d/1bqKHru3xACYpcDLqvjJlXM8FZHAwMC1f/view?usp=sharing\n",
        "]\n",
        "outputs = ['USArrests.csv','residential.csv']\n",
        "for url,output in zip(urls,outputs):\n",
        "  gdown.download(url, f'data/{output}', quiet=False)"
      ],
      "metadata": {
        "id": "PuHN6DbfoJ-m"
      },
      "execution_count": null,
      "outputs": []
    },
    {
      "cell_type": "markdown",
      "source": [
        "**Principal component analysis**\n"
      ],
      "metadata": {
        "id": "oxaSlbnWoMyV"
      }
    },
    {
      "cell_type": "code",
      "source": [
        "df = pd.read_csv('data/USArrests.csv', index_col=0)\n",
        "df.head(3)"
      ],
      "metadata": {
        "id": "ijVROF-noLI9"
      },
      "execution_count": null,
      "outputs": []
    },
    {
      "cell_type": "code",
      "source": [
        "\n",
        "df.shape"
      ],
      "metadata": {
        "id": "b45ckDmBoPua"
      },
      "execution_count": null,
      "outputs": []
    },
    {
      "cell_type": "code",
      "source": [
        "\n",
        "df.info()"
      ],
      "metadata": {
        "id": "s560QWLtoQ9p"
      },
      "execution_count": null,
      "outputs": []
    },
    {
      "cell_type": "code",
      "source": [
        "\n",
        "sns.pairplot(df)"
      ],
      "metadata": {
        "id": "SxREcyPVoR5z"
      },
      "execution_count": null,
      "outputs": []
    },
    {
      "cell_type": "markdown",
      "source": [
        "**We should normalize our data**\n",
        "\n"
      ],
      "metadata": {
        "id": "ePe60FrcoWUH"
      }
    },
    {
      "cell_type": "code",
      "source": [
        "normalized_df=(df-df.mean())/df.std()"
      ],
      "metadata": {
        "id": "R6JGGR83oS5A"
      },
      "execution_count": null,
      "outputs": []
    },
    {
      "cell_type": "code",
      "source": [
        "\n",
        "normalized_df.mean().round(6)"
      ],
      "metadata": {
        "id": "jZtxHy3soY4u"
      },
      "execution_count": null,
      "outputs": []
    },
    {
      "cell_type": "code",
      "source": [
        "\n",
        "from sklearn.decomposition import PCA"
      ],
      "metadata": {
        "id": "IZgDLJRdoZ52"
      },
      "execution_count": null,
      "outputs": []
    },
    {
      "cell_type": "code",
      "source": [
        "\n",
        "pca = PCA(random_state=714)\n",
        "pca.fit(normalized_df)"
      ],
      "metadata": {
        "id": "TfzdvDTqoa92"
      },
      "execution_count": null,
      "outputs": []
    },
    {
      "cell_type": "code",
      "source": [
        "print(pca.n_components_)\n",
        "print(pca.components_) #loading vectors\n",
        "print(pca.components_.shape)"
      ],
      "metadata": {
        "id": "m_2uQInPoccH"
      },
      "execution_count": null,
      "outputs": []
    },
    {
      "cell_type": "code",
      "source": [
        "print(pca.explained_variance_)\n",
        "[print('{:.6f}'.format(i)) for i in pca.explained_variance_ ]"
      ],
      "metadata": {
        "id": "Sjcaw8a9odoC"
      },
      "execution_count": null,
      "outputs": []
    },
    {
      "cell_type": "code",
      "source": [
        "print(pca.explained_variance_ratio_)\n",
        "[print('{:.6f}'.format(i)) for i in pca.explained_variance_ratio_ ]"
      ],
      "metadata": {
        "id": "JX1vyNnSofej"
      },
      "execution_count": null,
      "outputs": []
    },
    {
      "cell_type": "code",
      "source": [
        "variance_ratio_cumsum = np.cumsum(np.pad(pca.explained_variance_ratio_, (1, 0), \"constant\"))\n",
        "variance_ratio_cumsum"
      ],
      "metadata": {
        "id": "TOpWD2glog2m"
      },
      "execution_count": null,
      "outputs": []
    },
    {
      "cell_type": "code",
      "source": [
        "#proportion of variance explained\n",
        "sns.lineplot(x=range(len(pca.explained_variance_ratio_)), y=pca.explained_variance_ratio_, marker='o')"
      ],
      "metadata": {
        "id": "UP5CyXxdoh_U"
      },
      "execution_count": null,
      "outputs": []
    },
    {
      "cell_type": "code",
      "source": [
        "\n",
        "#cumulative proportion of variance explained\n",
        "sns.lineplot(x=range(len(variance_ratio_cumsum)), y=variance_ratio_cumsum,marker='o')"
      ],
      "metadata": {
        "id": "M7w4JQtlojXo"
      },
      "execution_count": null,
      "outputs": []
    },
    {
      "cell_type": "code",
      "source": [
        "# The loading vectors\n",
        "pca_loadings = pd.DataFrame(pca.components_.T, index=df.columns, columns=['V1', 'V2', 'V3', 'V4'])\n",
        "pca_loadings"
      ],
      "metadata": {
        "id": "YSexhyUUokeZ"
      },
      "execution_count": null,
      "outputs": []
    },
    {
      "cell_type": "code",
      "source": [
        "(pca_loadings**2).sum(axis=0)"
      ],
      "metadata": {
        "id": "M8quMRMTomSn"
      },
      "execution_count": null,
      "outputs": []
    },
    {
      "cell_type": "code",
      "source": [
        "projected_df = pca.transform(normalized_df) #PC score vectors\n",
        "projected_df = pd.DataFrame(projected_df, index = normalized_df.index, columns=[f'PC{i+1}' for i in range(len(normalized_df.columns))])\n",
        "projected_df"
      ],
      "metadata": {
        "id": "eE4Mhhrnond7"
      },
      "execution_count": null,
      "outputs": []
    },
    {
      "cell_type": "code",
      "source": [
        "projected_df.mean(axis = 0).round(6)"
      ],
      "metadata": {
        "id": "-foV67groo16"
      },
      "execution_count": null,
      "outputs": []
    },
    {
      "cell_type": "code",
      "source": [
        "fig , ax1 = plt.subplots(figsize=(9,7))\n",
        "\n",
        "ax1.set_xlim(-3.5,3.5)\n",
        "ax1.set_ylim(-3.5,3.5)\n",
        "\n",
        "# Plot Principal Components 1 and 2\n",
        "for i in projected_df.index:\n",
        "    ax1.annotate(i, (projected_df.PC1.loc[i], -projected_df.PC2.loc[i]), ha='center')\n",
        "\n",
        "# Plot reference lines\n",
        "ax1.hlines(0,-3.5,3.5, linestyles='dotted', colors='grey')\n",
        "ax1.vlines(0,-3.5,3.5, linestyles='dotted', colors='grey')\n",
        "\n",
        "ax1.set_xlabel('First Principal Component')\n",
        "ax1.set_ylabel('Second Principal Component')\n",
        "    \n",
        "# Plot Principal Component loading vectors, using a second y-axis.\n",
        "ax2 = ax1.twinx().twiny() \n",
        "\n",
        "ax2.set_ylim(-1,1)\n",
        "ax2.set_xlim(-1,1)\n",
        "ax2.tick_params(axis='y', colors='orange')\n",
        "ax2.set_xlabel('Principal Component 1 loading vectors', color='orange')\n",
        "\n",
        "# Plot labels for vectors. Variable 'a' is a small offset parameter to separate arrow tip and text.\n",
        "a = 1.07  \n",
        "for i in pca_loadings[['V1', 'V2']].index:\n",
        "    ax2.annotate(i, (pca_loadings.V1.loc[i]*a, -pca_loadings.V2.loc[i]*a), color='orange')\n",
        "\n",
        "# Plot vectors\n",
        "ax2.arrow(0,0,pca_loadings.V1[0], -pca_loadings.V2[0],color='orange')\n",
        "ax2.arrow(0,0,pca_loadings.V1[1], -pca_loadings.V2[1],color='orange')\n",
        "ax2.arrow(0,0,pca_loadings.V1[2], -pca_loadings.V2[2],color='orange')\n",
        "ax2.arrow(0,0,pca_loadings.V1[3], -pca_loadings.V2[3],color='orange')\n",
        "plt.tight_layout()"
      ],
      "metadata": {
        "id": "6lyU5FOWoqBZ"
      },
      "execution_count": null,
      "outputs": []
    },
    {
      "cell_type": "markdown",
      "source": [
        "PCA for visualization: Hand-written digits\n",
        "**굵은 텍스트**"
      ],
      "metadata": {
        "id": "ZydW4mxQotSr"
      }
    },
    {
      "cell_type": "code",
      "source": [
        "from sklearn.datasets import load_digits\n",
        "digits = load_digits()\n",
        "digits.data.shape"
      ],
      "metadata": {
        "id": "WvCbOczFor3k"
      },
      "execution_count": null,
      "outputs": []
    },
    {
      "cell_type": "code",
      "source": [
        "normalized_digits=(digits.data-digits.data.mean())/digits.data.std()"
      ],
      "metadata": {
        "id": "SztoZRn1owDd"
      },
      "execution_count": null,
      "outputs": []
    },
    {
      "cell_type": "code",
      "source": [
        "pca = PCA(n_components=2)  # project from 64 to 2 dimensions\n",
        "projected = pca.fit_transform(normalized_digits)\n",
        "print(normalized_digits.shape)\n",
        "print(projected.shape)"
      ],
      "metadata": {
        "id": "YViBdM7XoxGb"
      },
      "execution_count": null,
      "outputs": []
    },
    {
      "cell_type": "code",
      "source": [
        "pca.explained_variance_ratio_"
      ],
      "metadata": {
        "id": "KPrOPmf-oyoQ"
      },
      "execution_count": null,
      "outputs": []
    },
    {
      "cell_type": "code",
      "source": [
        "plt.scatter(projected[:, 0], projected[:, 1],\n",
        "            c=digits.target, edgecolor='none', alpha=0.5,\n",
        "            cmap=plt.cm.get_cmap('Spectral', 10))\n",
        "plt.xlabel('Principal Component 1')\n",
        "plt.ylabel('Principal Component 2')\n",
        "plt.colorbar();"
      ],
      "metadata": {
        "id": "Yz_EVUvpozyZ"
      },
      "execution_count": null,
      "outputs": []
    },
    {
      "cell_type": "markdown",
      "source": [
        "**PCA Regression**\n"
      ],
      "metadata": {
        "id": "R6xS0djoo2gO"
      }
    },
    {
      "cell_type": "code",
      "source": [
        "from sklearn.linear_model import LinearRegression\n",
        "from sklearn.model_selection import train_test_split\n",
        "from sklearn.pipeline import Pipeline\n",
        "from sklearn.model_selection import cross_val_score, cross_val_predict\n",
        "from sklearn.metrics import mean_squared_error, make_scorer"
      ],
      "metadata": {
        "id": "PkU5H8f6o1FD"
      },
      "execution_count": null,
      "outputs": []
    },
    {
      "cell_type": "code",
      "source": [
        "res = pd.read_csv('data/residential.csv')\n",
        "res.head(3)"
      ],
      "metadata": {
        "id": "tGcR76v3o677"
      },
      "execution_count": null,
      "outputs": []
    },
    {
      "cell_type": "code",
      "source": [
        "\n",
        "res.shape"
      ],
      "metadata": {
        "id": "bq2yTLoto8V1"
      },
      "execution_count": null,
      "outputs": []
    },
    {
      "cell_type": "code",
      "source": [
        "X = res[res.columns[:-1]]\n",
        "y = res[res.columns[-1]]\n",
        "\n",
        "X_train, X_test, y_train, y_test = train_test_split(X,y,random_state=714,test_size=0.20)"
      ],
      "metadata": {
        "id": "xkdpLoRmo9bT"
      },
      "execution_count": null,
      "outputs": []
    },
    {
      "cell_type": "code",
      "source": [
        "lr = LinearRegression()\n",
        "cross_val_lr  = cross_val_score(lr, X_train, y_train, cv=5, scoring=make_scorer(mean_squared_error))\n",
        "print(cross_val_lr)\n",
        "print('=================================================')\n",
        "print('MSE of LR')\n",
        "print(f'Mean: {cross_val_lr.mean()}, Std: {cross_val_lr.std()}')"
      ],
      "metadata": {
        "id": "irJrKF-5o-oR"
      },
      "execution_count": null,
      "outputs": []
    },
    {
      "cell_type": "code",
      "source": [
        "pca_lr_pipe = Pipeline([('pca', PCA(n_components=50,random_state=714)),\n",
        "                   ('lr', LinearRegression())])\n",
        "\n",
        "cross_val_pca  = cross_val_score(pca_lr_pipe, X_train, y_train, cv=5,scoring=make_scorer(mean_squared_error))\n",
        "print(cross_val_pca)\n",
        "print('=================================================')\n",
        "print('Result of PCR')\n",
        "print(f'Mean: {cross_val_pca.mean()}, Std: {cross_val_pca.std()}')"
      ],
      "metadata": {
        "id": "avfde9_hpASd"
      },
      "execution_count": null,
      "outputs": []
    },
    {
      "cell_type": "code",
      "source": [
        "pca_lr_pipe = Pipeline([('pca', PCA(n_components=25,random_state=714)),\n",
        "                   ('lr', LinearRegression())])\n",
        "\n",
        "cross_val_pca  = cross_val_score(pca_lr_pipe, X_train, y_train, cv=5,scoring=make_scorer(mean_squared_error))\n",
        "print(cross_val_pca)\n",
        "print('=================================================')\n",
        "print('Result of PCR')\n",
        "print(f'Mean: {cross_val_pca.mean()}, Std: {cross_val_pca.std()}')"
      ],
      "metadata": {
        "id": "JZmJe3aHpByi"
      },
      "execution_count": null,
      "outputs": []
    },
    {
      "cell_type": "code",
      "source": [
        "pca_lr_pipe = Pipeline([('pca', PCA(n_components=5,random_state=714)),\n",
        "                   ('lr', LinearRegression())])\n",
        "\n",
        "cross_val_pca  = cross_val_score(pca_lr_pipe, X_train, y_train, cv=5,scoring=make_scorer(mean_squared_error))\n",
        "print(cross_val_pca)\n",
        "print('=================================================')\n",
        "print('Result of PCR')\n",
        "print(f'Mean: {cross_val_pca.mean()}, Std: {cross_val_pca.std()}')"
      ],
      "metadata": {
        "id": "pxobIPhHpDGF"
      },
      "execution_count": null,
      "outputs": []
    },
    {
      "cell_type": "code",
      "source": [
        ""
      ],
      "metadata": {
        "id": "gvFiFXOIpEWM"
      },
      "execution_count": null,
      "outputs": []
    }
  ]
}
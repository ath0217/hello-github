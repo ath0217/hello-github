{
  "nbformat": 4,
  "nbformat_minor": 0,
  "metadata": {
    "colab": {
      "name": "Lab Session #05",
      "private_outputs": true,
      "provenance": [],
      "authorship_tag": "ABX9TyNEiVEz5xHQwjx37gaB5MV8",
      "include_colab_link": true
    },
    "kernelspec": {
      "name": "python3",
      "display_name": "Python 3"
    },
    "language_info": {
      "name": "python"
    }
  },
  "cells": [
    {
      "cell_type": "markdown",
      "metadata": {
        "id": "view-in-github",
        "colab_type": "text"
      },
      "source": [
        "<a href=\"https://colab.research.google.com/github/ath0217/hello-github/blob/main/Lab_Session_05.ipynb\" target=\"_parent\"><img src=\"https://colab.research.google.com/assets/colab-badge.svg\" alt=\"Open In Colab\"/></a>"
      ]
    },
    {
      "cell_type": "markdown",
      "source": [
        "**Importing libraries**"
      ],
      "metadata": {
        "id": "YZgltQhIZceg"
      }
    },
    {
      "cell_type": "code",
      "execution_count": null,
      "metadata": {
        "id": "IG63gAcsZX5O"
      },
      "outputs": [],
      "source": [
        "import pandas as pd\n",
        "import numpy as np\n",
        "import matplotlib.pyplot as plt\n",
        "import seaborn as sns"
      ]
    },
    {
      "cell_type": "code",
      "source": [
        "!mkdir data"
      ],
      "metadata": {
        "id": "_NrtpAEXZina"
      },
      "execution_count": null,
      "outputs": []
    },
    {
      "cell_type": "code",
      "source": [
        "import gdown\n",
        "\n",
        "urls = ['https://drive.google.com/uc?export=download&id=1LE4HPyxDcx3-QB-tTPUft8RTlzgybn7k', # Default data  https://drive.google.com/file/d/1LE4HPyxDcx3-QB-tTPUft8RTlzgybn7k/view?usp=sharing\n",
        "        ]\n",
        "outputs = ['Default.csv']\n",
        "for url,output in zip(urls,outputs):\n",
        "  gdown.download(url, f'data/{output}', quiet=False)"
      ],
      "metadata": {
        "id": "jOW07hiEZ7La"
      },
      "execution_count": null,
      "outputs": []
    },
    {
      "cell_type": "markdown",
      "source": [
        "**Default** **data**"
      ],
      "metadata": {
        "id": "XDDKvLcraGqj"
      }
    },
    {
      "cell_type": "code",
      "source": [
        "import sklearn.linear_model as skl_lm\n",
        "from sklearn.metrics import confusion_matrix, classification_report, precision_score\n",
        "from sklearn import preprocessing\n",
        "\n",
        "import statsmodels.api as sm\n",
        "import statsmodels.formula.api as smf"
      ],
      "metadata": {
        "id": "t1qZe1PHaD2F"
      },
      "execution_count": null,
      "outputs": []
    },
    {
      "cell_type": "code",
      "source": [
        "df = pd.read_csv('data/Default.csv')\n",
        "df.head(3)"
      ],
      "metadata": {
        "id": "Gy5fvIopaLX3"
      },
      "execution_count": null,
      "outputs": []
    },
    {
      "cell_type": "code",
      "source": [
        "df.default.factorize()"
      ],
      "metadata": {
        "id": "hdBz2JemapUt"
      },
      "execution_count": null,
      "outputs": []
    },
    {
      "cell_type": "code",
      "source": [
        "df['default2'] = df.default.factorize()[0]\n",
        "df['student2'] = df.student.factorize()[0]\n",
        "df.head(3)"
      ],
      "metadata": {
        "id": "m27tYJTAalDr"
      },
      "execution_count": null,
      "outputs": []
    },
    {
      "cell_type": "code",
      "source": [
        "# Take a fraction of the samples where target value (default) is 'no'\n",
        "df_no = df[df.default2 == 0].sample(frac=0.15, random_state=714)\n",
        "# Take all samples  where target value is 'yes'\n",
        "df_yes = df[df.default2 == 1]\n",
        "df2 = df_no.append(df_yes)\n",
        "\n",
        "fig, axes = plt.subplots(ncols=3,figsize=(12,5),gridspec_kw={'width_ratios': [3, 1,1]})\n",
        "\n",
        "c_palette = {'No':'lightblue', 'Yes':'orange'}\n",
        "\n",
        "sns.scatterplot(data=df2, x='balance',y='income',hue='default', style='default',palette=c_palette,alpha=0.6,ax=axes[0])\n",
        "sns.boxplot('default', 'balance', data=df, orient='v', ax=axes[1], palette=c_palette)\n",
        "sns.boxplot('default', 'income', data=df, orient='v', ax=axes[2], palette=c_palette)\n",
        "\n",
        "plt.tight_layout()"
      ],
      "metadata": {
        "id": "_vkffydraNUI"
      },
      "execution_count": null,
      "outputs": []
    },
    {
      "cell_type": "code",
      "source": [
        "fig, axes = plt.subplots(ncols=3,figsize=(18,5))\n",
        "sns.histplot(x=df.balance, hue=df.default2, multiple='stack',element='step', ax=axes[0])\n",
        "axes[0].set_title('Stacked histogram')\n",
        "sns.kdeplot(x=df.balance, hue=df.default2, multiple='fill', ax=axes[1])\n",
        "axes[1].set_title('Conditional density plot (kde)')\n",
        "sns.histplot(x=df.balance, hue=df.default2, multiple='fill', element='step',ax=axes[2])\n",
        "axes[2].set_title('Conditional density plot (histogram)')"
      ],
      "metadata": {
        "id": "-ag1_5b6apaN"
      },
      "execution_count": null,
      "outputs": []
    },
    {
      "cell_type": "markdown",
      "source": [
        "**Logistic Regression**"
      ],
      "metadata": {
        "id": "LY0rcdr8a1-X"
      }
    },
    {
      "cell_type": "code",
      "source": [
        "sns.regplot(x=df.balance, y=df.default2, order=1, logistic=True, ci=None, n_boot=5,\n",
        "            scatter=False,\n",
        "            line_kws={'color':'blue', 'lw':2})\n",
        "sns.scatterplot(x=df.balance, y=df.default2, hue=df.default)"
      ],
      "metadata": {
        "id": "w7O3DdTYa0UL"
      },
      "execution_count": null,
      "outputs": []
    },
    {
      "cell_type": "code",
      "source": [
        "X_train = df[['balance']]\n",
        "y = df.default2\n",
        "\n",
        "# Create array of test data. Calculate the classification probability\n",
        "# and predicted classification.\n",
        "X_test = np.arange(df.balance.min(), df.balance.max()).reshape(-1,1)\n",
        "\n",
        "clf = skl_lm.LogisticRegression(penalty='none')\n",
        "clf.fit(X_train,y)\n",
        "prob = clf.predict_proba(X_test)\n",
        "\n",
        "fig, (ax1, ax2) = plt.subplots(1,2, figsize=(12,5))\n",
        "# Left plot\n",
        "sns.histplot(x=df.balance, hue=df.default2, multiple='fill', element='step',ax=ax1)\n",
        "sns.scatterplot(x=df.balance, y=df.default2, hue=df.default,ax=ax1)\n",
        "sns.regplot(x=df.balance, y=df.default2, order=1, ci=None, scatter=False,\n",
        "            line_kws={'color':'blue', 'lw':2}, ax=ax1)\n",
        "# Right plot\n",
        "sns.histplot(x=df.balance, hue=df.default2, multiple='fill', element='step',ax=ax2)\n",
        "sns.scatterplot(x=df.balance, y=df.default2, hue=df.default,ax=ax2)\n",
        "sns.regplot(x=df.balance, y=df.default2, order=1, logistic=True, ci=None, n_boot=5,\n",
        "            scatter=False,\n",
        "            line_kws={'color':'blue', 'lw':2}, ax=ax2)\n",
        "\n",
        "for ax in fig.axes:\n",
        "    ax.set_ylabel('Probability of default')"
      ],
      "metadata": {
        "id": "qjUxAY9Qa57J"
      },
      "execution_count": null,
      "outputs": []
    },
    {
      "cell_type": "markdown",
      "source": [
        "**Using Scikit-learn**"
      ],
      "metadata": {
        "id": "ZQkLdb_aa_Rr"
      }
    },
    {
      "cell_type": "code",
      "source": [
        "clf = skl_lm.LogisticRegression(penalty='none')#,solver='newton-cg')\n",
        "X_train = df[['balance']]\n",
        "clf.fit(X_train,y)\n",
        "print(clf)\n",
        "print('classes: ',clf.classes_)\n",
        "print('coefficients: ',clf.coef_)\n",
        "print('intercept :', clf.intercept_)"
      ],
      "metadata": {
        "id": "QYgyzxIPa9Ce"
      },
      "execution_count": null,
      "outputs": []
    },
    {
      "cell_type": "code",
      "source": [
        "X_train.head(3)"
      ],
      "metadata": {
        "id": "efJ8e7u3bDyS"
      },
      "execution_count": null,
      "outputs": []
    },
    {
      "cell_type": "markdown",
      "source": [
        "**Using statsmodel**"
      ],
      "metadata": {
        "id": "KpR-5u2SbGOZ"
      }
    },
    {
      "cell_type": "code",
      "source": [
        "est = sm.Logit(y.ravel(), X_train).fit()\n",
        "est.summary2().tables[1]"
      ],
      "metadata": {
        "id": "H7ez3zplbFIw"
      },
      "execution_count": null,
      "outputs": []
    },
    {
      "cell_type": "code",
      "source": [
        "X_train = sm.add_constant(X_train['balance'])\n",
        "est = sm.Logit(y.ravel(), X_train).fit()\n",
        "est.summary2().tables[1]"
      ],
      "metadata": {
        "id": "mhXyziUobKI-"
      },
      "execution_count": null,
      "outputs": []
    },
    {
      "cell_type": "code",
      "source": [
        "# using the formula api\n",
        "est = smf.logit('default2 ~ balance',df).fit()\n",
        "est.summary2().tables[1]"
      ],
      "metadata": {
        "id": "UE3eefu4bLic"
      },
      "execution_count": null,
      "outputs": []
    },
    {
      "cell_type": "code",
      "source": [
        "est = smf.logit('default2 ~ student2',df).fit()\n",
        "est.summary2().tables[1]"
      ],
      "metadata": {
        "id": "mab4vIfrbNOU"
      },
      "execution_count": null,
      "outputs": []
    },
    {
      "cell_type": "code",
      "source": [
        "est = smf.logit('default2 ~ balance + income + student2',df).fit()\n",
        "est.summary2().tables[1]"
      ],
      "metadata": {
        "id": "xBc4s581bPeJ"
      },
      "execution_count": null,
      "outputs": []
    },
    {
      "cell_type": "markdown",
      "source": [
        "**Confounding**"
      ],
      "metadata": {
        "id": "SHqUNBI1bSMB"
      }
    },
    {
      "cell_type": "code",
      "source": [
        "est_student = smf.logit('default2 ~ balance ',df[df['student']=='Yes']).fit()\n",
        "print(est_student.summary2().tables[1])\n",
        "est_no_student = smf.logit('default2 ~ balance ',df[df['student']=='No']).fit()\n",
        "print(est_no_student.summary2().tables[1])"
      ],
      "metadata": {
        "id": "B1-jeb2qbRFd"
      },
      "execution_count": null,
      "outputs": []
    },
    {
      "cell_type": "code",
      "source": [
        "X_test = pd.DataFrame(np.arange(df.balance.min(), df.balance.max()), columns=['balance'])\n",
        "X_test.head(3)"
      ],
      "metadata": {
        "id": "Oqxk_Dp_bjWf"
      },
      "execution_count": null,
      "outputs": []
    },
    {
      "cell_type": "code",
      "source": [
        "# creating plot\n",
        "fig, (ax1, ax2) = plt.subplots(1,2, figsize=(12,5))\n",
        "\n",
        "# Left plot\n",
        "ax1.plot(X_test, est_student.predict(X_test), color='orange', label='Student')\n",
        "ax1.plot(X_test, est_no_student.predict(X_test), color='lightblue', label='Non-student')\n",
        "ax1.hlines(127/2817, colors='orange', label='Overall Student',\n",
        "           xmin=ax1.xaxis.get_data_interval()[0],\n",
        "           xmax=ax1.xaxis.get_data_interval()[1], linestyles='dashed')\n",
        "ax1.hlines(206/6850, colors='lightblue', label='Overall Non-Student',\n",
        "           xmin=ax1.xaxis.get_data_interval()[0],\n",
        "           xmax=ax1.xaxis.get_data_interval()[1], linestyles='dashed')\n",
        "ax1.set_ylabel('Default Rate')\n",
        "ax1.set_xlabel('Credit Card Balance')\n",
        "ax1.set_yticks([0, 0.2, 0.4, 0.6, 0.8, 1.])\n",
        "ax1.set_xlim(450,2500)\n",
        "ax1.legend(loc=2)\n",
        "\n",
        "# Right plot\n",
        "sns.boxplot('student', 'balance', data=df, orient='v', ax=ax2,  palette=c_palette);"
      ],
      "metadata": {
        "id": "H9_PGJ3Ubk6-"
      },
      "execution_count": null,
      "outputs": []
    },
    {
      "cell_type": "markdown",
      "source": [
        "**Decision boundaries**"
      ],
      "metadata": {
        "id": "BUQMB6mJboFc"
      }
    },
    {
      "cell_type": "code",
      "source": [
        "from mlxtend.plotting import plot_decision_regions"
      ],
      "metadata": {
        "id": "xu9W5o-fbm37"
      },
      "execution_count": null,
      "outputs": []
    },
    {
      "cell_type": "code",
      "source": [
        "X_train=df[['balance','income']].values\n",
        "y_train=df['default2'].values\n",
        "\n",
        "clf = skl_lm.LogisticRegression(penalty='none')\n",
        "clf.fit(X_train,y_train)"
      ],
      "metadata": {
        "id": "jYXqzvDMbr3c"
      },
      "execution_count": null,
      "outputs": []
    },
    {
      "cell_type": "code",
      "source": [
        "fig = plt.figure(figsize=(6,4))\n",
        "scatter_kwargs = {'s': 20, 'edgecolor': None, 'alpha': 0.8}\n",
        "plot_decision_regions(X=X_train, y=y_train, clf=clf, scatter_kwargs=scatter_kwargs)"
      ],
      "metadata": {
        "id": "73cMclK2btTF"
      },
      "execution_count": null,
      "outputs": []
    },
    {
      "cell_type": "markdown",
      "source": [
        "**k-NN Classifier**\n"
      ],
      "metadata": {
        "id": "s0iSUV-zbwgf"
      }
    },
    {
      "cell_type": "code",
      "source": [
        "from sklearn.datasets import make_classification\n",
        "from sklearn.neighbors import KNeighborsClassifier"
      ],
      "metadata": {
        "id": "yIdhxH2Sbu2k"
      },
      "execution_count": null,
      "outputs": []
    },
    {
      "cell_type": "code",
      "source": [
        "X, y = make_classification(n_samples=300,n_features=2, n_redundant=0, n_clusters_per_class=1, random_state=714)\n",
        "rng = np.random.RandomState(2)\n",
        "X += 2 * rng.uniform(size=X.shape)\n",
        "sns.scatterplot(x=X[:,0],y=X[:,1],hue=y, style=y,alpha=0.6)"
      ],
      "metadata": {
        "id": "rwHnc7iUb0Jx"
      },
      "execution_count": null,
      "outputs": []
    },
    {
      "cell_type": "code",
      "source": [
        "%%time\n",
        "K=[3,10,50,100]\n",
        "fig,axes = plt.subplots(ncols=len(K),figsize=(6*len(K),4))\n",
        "for i, k in enumerate(K):\n",
        "  clf = KNeighborsClassifier(n_neighbors=k, n_jobs=-1)\n",
        "  clf.fit(X,y)\n",
        "  plot_decision_regions(X=X, y=y, clf=clf, ax=axes[i])\n",
        "  axes[i].set_title(f'{k}-NN classification')"
      ],
      "metadata": {
        "id": "TLQt53tmb1pl"
      },
      "execution_count": null,
      "outputs": []
    },
    {
      "cell_type": "markdown",
      "source": [
        "**Linear Discriminant Analysis (LDA)**"
      ],
      "metadata": {
        "id": "WzkyvKxXcOg_"
      }
    },
    {
      "cell_type": "code",
      "source": [
        "from sklearn.discriminant_analysis import LinearDiscriminantAnalysis\n",
        "from sklearn.discriminant_analysis import QuadraticDiscriminantAnalysis\n",
        "from sklearn.naive_bayes import GaussianNB\n",
        "from sklearn.metrics import confusion_matrix, ConfusionMatrixDisplay"
      ],
      "metadata": {
        "id": "2RUk8Opfb3UQ"
      },
      "execution_count": null,
      "outputs": []
    },
    {
      "cell_type": "markdown",
      "source": [
        "Decision boundaries\n",
        "2 classes *"
      ],
      "metadata": {
        "id": "eeCtYfjPcUek"
      }
    },
    {
      "cell_type": "code",
      "source": [
        "X, y = make_classification(n_samples=1000, n_classes=2, n_features=2, n_redundant=0, n_clusters_per_class=1, random_state=714)\n",
        "rng = np.random.RandomState(2)\n",
        "X += 2 * rng.uniform(size=X.shape)\n",
        "c_palette = {0:'red', 1:'blue', 2: 'green'}\n",
        "sns.scatterplot(x=X[:,0],y=X[:,1],hue=y, style=y,alpha=0.6, palette=c_palette)"
      ],
      "metadata": {
        "id": "rIx4awJMcTW1"
      },
      "execution_count": null,
      "outputs": []
    },
    {
      "cell_type": "code",
      "source": [
        "lda = LinearDiscriminantAnalysis()\n",
        "qda = QuadraticDiscriminantAnalysis()\n",
        "nb = GaussianNB()\n",
        "clfs = [lda, qda, nb]\n",
        "fig,axes = plt.subplots(ncols=len(clfs),figsize=(6*len(clfs),4))\n",
        "for i, clf in enumerate(clfs):  \n",
        "  clf.fit(X,y)\n",
        "  plot_decision_regions(X=X, y=y, clf=clf, ax=axes[i], colors='red,blue,green')\n",
        "  axes[i].set_title(str(clf))"
      ],
      "metadata": {
        "id": "vsIaC0Ddcc9o"
      },
      "execution_count": null,
      "outputs": []
    },
    {
      "cell_type": "markdown",
      "source": [
        "**3 classes**"
      ],
      "metadata": {
        "id": "vFrcpidSciGo"
      }
    },
    {
      "cell_type": "code",
      "source": [
        "X, y = make_classification(n_samples=1000, n_classes=3, n_features=2, n_redundant=0,class_sep=0.8, n_clusters_per_class=1, random_state=714)\n",
        "rng = np.random.RandomState(2)\n",
        "X += 2 * rng.uniform(size=X.shape)\n",
        "\n",
        "c_palette = {0:'red', 1:'blue', 2: 'green'}\n",
        "sns.scatterplot(x=X[:,0],y=X[:,1],hue=y, style=y,alpha=0.6, palette=c_palette)"
      ],
      "metadata": {
        "id": "mSZQWVKfce5I"
      },
      "execution_count": null,
      "outputs": []
    },
    {
      "cell_type": "code",
      "source": [
        "lda = LinearDiscriminantAnalysis()\n",
        "qda = QuadraticDiscriminantAnalysis()\n",
        "nb = GaussianNB()\n",
        "clfs = [lda, qda, nb]\n",
        "fig,axes = plt.subplots(ncols=len(clfs),figsize=(6*len(clfs),4))\n",
        "for i, clf in enumerate(clfs):  \n",
        "  clf.fit(X,y)\n",
        "  plot_decision_regions(X=X, y=y, clf=clf, ax=axes[i], colors='red,blue,green')\n",
        "  axes[i].set_title(str(clf))"
      ],
      "metadata": {
        "id": "Dle2dF5mcmbq"
      },
      "execution_count": null,
      "outputs": []
    },
    {
      "cell_type": "markdown",
      "source": [
        "**Default data**"
      ],
      "metadata": {
        "id": "j38voUxacr9K"
      }
    },
    {
      "cell_type": "code",
      "source": [
        "X = df[['balance', 'income', 'student2']]\n",
        "y = df.default2\n",
        "\n",
        "lda = LinearDiscriminantAnalysis()\n",
        "y_pred = lda.fit(X, y).predict(X)\n",
        "cm = confusion_matrix(y,y_pred)\n",
        "print(cm)\n",
        "ConfusionMatrixDisplay(confusion_matrix=cm,display_labels=lda.classes_).plot()"
      ],
      "metadata": {
        "id": "T1GHLbp4cqUN"
      },
      "execution_count": null,
      "outputs": []
    },
    {
      "cell_type": "code",
      "source": [
        "alpha = 0.2\n",
        "y_prob = lda.fit(X, y).predict_proba(X)\n",
        "y_pred_02 = (y_prob[:, 1] > alpha).astype('float')\n",
        "cm = confusion_matrix(y,y_pred_02)\n",
        "print(cm)\n",
        "ConfusionMatrixDisplay(confusion_matrix=cm,display_labels=lda.classes_).plot()"
      ],
      "metadata": {
        "id": "A_KJ9ffxcvvx"
      },
      "execution_count": null,
      "outputs": []
    },
    {
      "cell_type": "code",
      "source": [
        ""
      ],
      "metadata": {
        "id": "r40GmyURcxdW"
      },
      "execution_count": null,
      "outputs": []
    }
  ]
}
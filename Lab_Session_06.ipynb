{
  "nbformat": 4,
  "nbformat_minor": 0,
  "metadata": {
    "colab": {
      "name": "Lab Session #06",
      "private_outputs": true,
      "provenance": [],
      "authorship_tag": "ABX9TyOX8XNb9rTqapSqkdnHfmov",
      "include_colab_link": true
    },
    "kernelspec": {
      "name": "python3",
      "display_name": "Python 3"
    },
    "language_info": {
      "name": "python"
    }
  },
  "cells": [
    {
      "cell_type": "markdown",
      "metadata": {
        "id": "view-in-github",
        "colab_type": "text"
      },
      "source": [
        "<a href=\"https://colab.research.google.com/github/ath0217/hello-github/blob/main/Lab_Session_06.ipynb\" target=\"_parent\"><img src=\"https://colab.research.google.com/assets/colab-badge.svg\" alt=\"Open In Colab\"/></a>"
      ]
    },
    {
      "cell_type": "markdown",
      "source": [
        "**Importing libraries**"
      ],
      "metadata": {
        "id": "bZG8zmXQfAqA"
      }
    },
    {
      "cell_type": "code",
      "execution_count": null,
      "metadata": {
        "id": "_CmUqDsQeU0N"
      },
      "outputs": [],
      "source": [
        "import pandas as pd\n",
        "import numpy as np\n",
        "import matplotlib.pyplot as plt\n",
        "import seaborn as sns\n",
        "import plotly.express as px\n",
        "import plotly.graph_objects as go"
      ]
    },
    {
      "cell_type": "code",
      "source": [
        "sns.set_style(\"darkgrid\")"
      ],
      "metadata": {
        "id": "OEjUO5yseiPv"
      },
      "execution_count": null,
      "outputs": []
    },
    {
      "cell_type": "code",
      "source": [
        "!pip list | grep imb"
      ],
      "metadata": {
        "id": "jZm1XxLTemTu"
      },
      "execution_count": null,
      "outputs": []
    },
    {
      "cell_type": "code",
      "source": [
        "!mkdir data"
      ],
      "metadata": {
        "id": "thTV6luzepYO"
      },
      "execution_count": null,
      "outputs": []
    },
    {
      "cell_type": "code",
      "source": [
        "import gdown\n",
        "\n",
        "urls = ['https://drive.google.com/uc?export=download&id=1NnDVngq_4OlIeMHHAZ8miD_isbfF6B5V', # autoMPG6  https://drive.google.com/file/d/1NnDVngq_4OlIeMHHAZ8miD_isbfF6B5V/view?usp=sharing\n",
        "        ]\n",
        "outputs = ['autoMPG6.csv']\n",
        "for url,output in zip(urls,outputs):\n",
        "  gdown.download(url, f'data/{output}', quiet=False)"
      ],
      "metadata": {
        "id": "miWgy4k5er3T"
      },
      "execution_count": null,
      "outputs": []
    },
    {
      "cell_type": "markdown",
      "source": [
        "**Bias-Variance decomposition**"
      ],
      "metadata": {
        "id": "x-J-thJcfINQ"
      }
    },
    {
      "cell_type": "code",
      "source": [
        "!pip install --upgrade mlxtend"
      ],
      "metadata": {
        "id": "v92kdtqTexha"
      },
      "execution_count": null,
      "outputs": []
    },
    {
      "cell_type": "code",
      "source": [
        "from mlxtend.evaluate import bias_variance_decomp\n",
        "\n",
        "from sklearn.preprocessing import PolynomialFeatures, SplineTransformer\n",
        "from sklearn.linear_model import LinearRegression \n",
        "from sklearn.pipeline import Pipeline\n",
        "\n",
        "from sklearn.model_selection import train_test_split"
      ],
      "metadata": {
        "id": "MfFIuSgIfLqG"
      },
      "execution_count": null,
      "outputs": []
    },
    {
      "cell_type": "code",
      "source": [
        "X= df[['Horse_power','Displacement']]\n",
        "y = df['Mpg']"
      ],
      "metadata": {
        "id": "UDV76qoefQdb"
      },
      "execution_count": null,
      "outputs": []
    },
    {
      "cell_type": "code",
      "source": [
        "pipe = Pipeline([('poly',PolynomialFeatures()),\n",
        "                                  ('lr',LinearRegression())])\n",
        "pipe"
      ],
      "metadata": {
        "id": "4QwupQF5fSOJ"
      },
      "execution_count": null,
      "outputs": []
    },
    {
      "cell_type": "code",
      "source": [
        "from sklearn import set_config\n",
        "set_config(display=\"diagram\")"
      ],
      "metadata": {
        "id": "ZWwp6xOBfT4m"
      },
      "execution_count": null,
      "outputs": []
    },
    {
      "cell_type": "code",
      "source": [
        "pipe"
      ],
      "metadata": {
        "id": "P_bE78BtfWbJ"
      },
      "execution_count": null,
      "outputs": []
    },
    {
      "cell_type": "code",
      "source": [
        "X_train, X_test, y_train, y_test = train_test_split(X,y,test_size=.50, shuffle=True,random_state=i)"
      ],
      "metadata": {
        "id": "u7Glqa82iIQb"
      },
      "execution_count": null,
      "outputs": []
    },
    {
      "cell_type": "code",
      "source": [
        "pipe.fit(X_train,y_train)"
      ],
      "metadata": {
        "id": "bG-I-0G4iNzs"
      },
      "execution_count": null,
      "outputs": []
    },
    {
      "cell_type": "code",
      "source": [
        "pipe.predict(X_test)"
      ],
      "metadata": {
        "id": "41-F_x2IiehS"
      },
      "execution_count": null,
      "outputs": []
    },
    {
      "cell_type": "code",
      "source": [
        "loss, bias, var = [],[],[]\n",
        "range_ = range(1,5)\n",
        "for i in range_:\n",
        "  X_train, X_test, y_train, y_test = train_test_split(X,y,test_size=.50, shuffle=True,random_state=i)\n",
        "  pipe = Pipeline([('poly',PolynomialFeatures(degree=i)),('lr',LinearRegression())])\n",
        "  avg_expected_loss, avg_bias, avg_var = bias_variance_decomp(\n",
        "        pipe, X_train.values, y_train.values, X_test.values, y_test.values, \n",
        "        loss='mse',\n",
        "        random_seed=i)\n",
        "  loss.append(avg_expected_loss)\n",
        "  bias.append(avg_bias)\n",
        "  var.append(avg_var)\n",
        "#plotting the results\n",
        "sns.lineplot(x=range_, y=loss, color='tab:red')\n",
        "sns.lineplot(x=range_, y=bias, color ='tab:blue')\n",
        "sns.lineplot(x=range_, y=var, color='tab:orange')\n",
        "plt.xlabel('Flexibility')\n",
        "plt.legend(['Mse','Bias','Variance'])"
      ],
      "metadata": {
        "id": "2W9rQK6wfX1Q"
      },
      "execution_count": null,
      "outputs": []
    },
    {
      "cell_type": "code",
      "source": [
        "df['Mpg'].plot()"
      ],
      "metadata": {
        "id": "v1V1HifMgdNk"
      },
      "execution_count": null,
      "outputs": []
    },
    {
      "cell_type": "code",
      "source": [
        "X= df[['Weight','Acceleration']]\n",
        "y = df['Mpg']"
      ],
      "metadata": {
        "id": "or5VJed4gg3r"
      },
      "execution_count": null,
      "outputs": []
    },
    {
      "cell_type": "code",
      "source": [
        "loss, bias, var = [],[],[]\n",
        "range_ = range(1,5)\n",
        "for i in range_:\n",
        "  X_train, X_test, y_train, y_test = train_test_split(X,y,test_size=.50,random_state=i)\n",
        "  pipe = Pipeline([('poly',SplineTransformer(degree=i)),('lr',LinearRegression())])\n",
        "  avg_expected_loss, avg_bias, avg_var = bias_variance_decomp(\n",
        "        pipe, X_train.values, y_train.values, X_test.values, y_test.values, \n",
        "        loss='mse',\n",
        "        random_seed=i)\n",
        "  loss.append(avg_expected_loss)\n",
        "  bias.append(avg_bias)\n",
        "  var.append(avg_var)\n",
        "#plotting the results\n",
        "sns.lineplot(x=range_, y=loss, color='tab:red')\n",
        "sns.lineplot(x=range_, y=bias, color ='tab:blue')\n",
        "sns.lineplot(x=range_, y=var, color='tab:orange')\n",
        "plt.xlabel('Flexibility')\n",
        "plt.legend(['Mse','Bias','Variance'])"
      ],
      "metadata": {
        "id": "Gslb2uUXgjbY"
      },
      "execution_count": null,
      "outputs": []
    },
    {
      "cell_type": "markdown",
      "source": [
        "**Validation set**"
      ],
      "metadata": {
        "id": "FnHRQKnPgsJR"
      }
    },
    {
      "cell_type": "code",
      "source": [
        "from sklearn.metrics import mean_squared_error"
      ],
      "metadata": {
        "id": "RVOUwF7UglHX"
      },
      "execution_count": null,
      "outputs": []
    },
    {
      "cell_type": "code",
      "source": [
        "X= df[['Horse_power']]\n",
        "y = df['Mpg']\n",
        "print(X.shape)"
      ],
      "metadata": {
        "id": "T2a-81uWnjkJ"
      },
      "execution_count": null,
      "outputs": []
    },
    {
      "cell_type": "code",
      "source": [
        "%%time\n",
        "range_ = range(1,11)\n",
        "for i in range(10):\n",
        "  mses=[]\n",
        "  X_train, X_test, y_train, y_test = train_test_split(X,y,test_size=.50,random_state=i+1)\n",
        "  for j in range_:    \n",
        "    pipe = Pipeline([('poly',PolynomialFeatures(degree=j)),('lr',LinearRegression())])\n",
        "    pipe.fit(X_train, y_train)  \n",
        "    #plotting the results\n",
        "    y_pred = pipe.predict(X_test)\n",
        "    mse = mean_squared_error(y_test,y_pred)\n",
        "    mses.append(mse)\n",
        "  sns.lineplot(x=range_, y=mses)\n",
        "plt.xlabel('Flexibility')\n",
        "plt.ylabel('$MSE_{Test}$')"
      ],
      "metadata": {
        "id": "dFPzvMKNnktP"
      },
      "execution_count": null,
      "outputs": []
    },
    {
      "cell_type": "markdown",
      "source": [
        "**Cross-validation**"
      ],
      "metadata": {
        "id": "lVOUev7vnpMM"
      }
    },
    {
      "cell_type": "code",
      "source": [
        "from sklearn.model_selection import KFold,LeaveOneOut"
      ],
      "metadata": {
        "id": "nQM2e253nmAK"
      },
      "execution_count": null,
      "outputs": []
    },
    {
      "cell_type": "code",
      "source": [
        "cv = KFold(n_splits=10, shuffle=True, random_state=714)\n",
        "cv"
      ],
      "metadata": {
        "id": "rDXhrjqIntB3"
      },
      "execution_count": null,
      "outputs": []
    },
    {
      "cell_type": "code",
      "source": [
        "%%time\n",
        "range_ = range(1,11)\n",
        "mses=[]\n",
        "# run 9 times with differet seed (i)\n",
        "for i in range(9):  \n",
        "  mses.append([])\n",
        "  cv = KFold(n_splits=10, shuffle=True, random_state=i)\n",
        "  # this is 10-fold CV\n",
        "  for k, (train_index, test_index) in enumerate(cv.split(X)):\n",
        "    X_train, X_test = X.iloc[train_index], X.iloc[test_index]\n",
        "    y_train, y_test = y[train_index], y[test_index]    \n",
        "    mses[i].append([]) \n",
        "    # this is running 10 different LR with degrees from 1 to 10\n",
        "    for j in range_:               \n",
        "      pipe = Pipeline([('poly',PolynomialFeatures(degree=j)),('lr',LinearRegression())])\n",
        "      pipe.fit(X_train, y_train)  \n",
        "      #plotting the results\n",
        "      y_pred = pipe.predict(X_test)\n",
        "      mse = mean_squared_error(y_test,y_pred)\n",
        "      mses[i][k].append(mse)"
      ],
      "metadata": {
        "id": "Qng-0ZMonudl"
      },
      "execution_count": null,
      "outputs": []
    },
    {
      "cell_type": "code",
      "source": [
        "np.array(mses).shape"
      ],
      "metadata": {
        "id": "1WE8Cnannwa2"
      },
      "execution_count": null,
      "outputs": []
    },
    {
      "cell_type": "code",
      "source": [
        "for i in range(9):\n",
        "  sns.lineplot(x=range_, y=np.array(mses[i]).mean(axis=0))\n",
        "plt.ylim((16,28))\n",
        "plt.xlabel('Flexibility')\n",
        "plt.ylabel('$MSE_{Test}$')"
      ],
      "metadata": {
        "id": "MVbhItbPnyPo"
      },
      "execution_count": null,
      "outputs": []
    },
    {
      "cell_type": "code",
      "source": [
        ""
      ],
      "metadata": {
        "id": "LPdIX96Cn20I"
      },
      "execution_count": null,
      "outputs": []
    }
  ]
}
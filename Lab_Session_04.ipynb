{
  "nbformat": 4,
  "nbformat_minor": 0,
  "metadata": {
    "colab": {
      "name": "Lab Session # 04",
      "private_outputs": true,
      "provenance": [],
      "authorship_tag": "ABX9TyMSXCSZByve5OftfzaHnP4t",
      "include_colab_link": true
    },
    "kernelspec": {
      "name": "python3",
      "display_name": "Python 3"
    },
    "language_info": {
      "name": "python"
    }
  },
  "cells": [
    {
      "cell_type": "markdown",
      "metadata": {
        "id": "view-in-github",
        "colab_type": "text"
      },
      "source": [
        "<a href=\"https://colab.research.google.com/github/ath0217/hello-github/blob/main/Lab_Session_04.ipynb\" target=\"_parent\"><img src=\"https://colab.research.google.com/assets/colab-badge.svg\" alt=\"Open In Colab\"/></a>"
      ]
    },
    {
      "cell_type": "code",
      "execution_count": null,
      "metadata": {
        "id": "x0zFMPJAGscX"
      },
      "outputs": [],
      "source": [
        "import pandas as pd\n",
        "import numpy as np\n",
        "import matplotlib.pyplot as plt\n",
        "import seaborn as sns\n",
        "import plotly.express as px\n",
        "import plotly.graph_objects as go"
      ]
    },
    {
      "cell_type": "code",
      "source": [
        "!mkdir data"
      ],
      "metadata": {
        "id": "DG83b_luGywQ"
      },
      "execution_count": null,
      "outputs": []
    },
    {
      "cell_type": "code",
      "source": [
        "import gdown\n",
        "\n",
        "urls = ['https://drive.google.com/uc?export=download&id=1Bx9twCUUJi-hNScp2J7XPAulUhjcel8t', # Advertising_data  https://drive.google.com/file/d/1Bx9twCUUJi-hNScp2J7XPAulUhjcel8t/view?usp=sharing\n",
        "        'https://drive.google.com/uc?export=download&id=1Nzd9BakVngYs9ZFocxPZ1oGyAjGYaXa6', # Boston_data  https://drive.google.com/file/d/1Nzd9BakVngYs9ZFocxPZ1oGyAjGYaXa6/view?usp=sharing\n",
        "        'https://drive.google.com/uc?export=download&id=1RHeY6rvMeayzjYzACqpjPYzC7F3sKCDA', # Wage_data https://drive.google.com/file/d/1RHeY6rvMeayzjYzACqpjPYzC7F3sKCDA/view?usp=sharing\n",
        "        ]\n",
        "outputs = ['Advertising.csv','Boston.csv', 'Wage.csv']\n",
        "for url,output in zip(urls,outputs):\n",
        "  gdown.download(url, f'data/{output}', quiet=False)"
      ],
      "metadata": {
        "id": "VBlG677QG2au"
      },
      "execution_count": null,
      "outputs": []
    },
    {
      "cell_type": "markdown",
      "source": [
        "Linear **Regression**"
      ],
      "metadata": {
        "id": "Tsb_LvxAG6nv"
      }
    },
    {
      "cell_type": "code",
      "source": [
        "import statsmodels.api as sm\n",
        "import statsmodels.formula.api as smf\n",
        "import sklearn.linear_model as skl"
      ],
      "metadata": {
        "id": "gsW8TGWKG930"
      },
      "execution_count": null,
      "outputs": []
    },
    {
      "cell_type": "code",
      "source": [
        "advertising = pd.read_csv('data/Advertising.csv', usecols=[1,2,3,4])\n",
        "advertising.info()"
      ],
      "metadata": {
        "id": "ZHruUIqCG_Qe"
      },
      "execution_count": null,
      "outputs": []
    },
    {
      "cell_type": "code",
      "source": [
        "advertising.head()"
      ],
      "metadata": {
        "id": "4GW9D3h-HBVb"
      },
      "execution_count": null,
      "outputs": []
    },
    {
      "cell_type": "code",
      "source": [
        "plt.figure(figsize=(8,6)) \n",
        "sns.regplot(advertising.TV, advertising.sales, order=1, ci=None, scatter_kws={'color':'r', 's':9})"
      ],
      "metadata": {
        "id": "9y4K6cdDHC9u"
      },
      "execution_count": null,
      "outputs": []
    },
    {
      "cell_type": "code",
      "source": [
        "est = smf.ols('sales ~ TV +  radio + newspaper', advertising).fit()\n",
        "print(est.summary().tables[1])"
      ],
      "metadata": {
        "id": "quWB9_dWHEuz"
      },
      "execution_count": null,
      "outputs": []
    },
    {
      "cell_type": "code",
      "source": [
        "lm = skl.LinearRegression()"
      ],
      "metadata": {
        "id": "mSTpPS42HGiP"
      },
      "execution_count": null,
      "outputs": []
    },
    {
      "cell_type": "code",
      "source": [
        "lm.fit(advertising[['TV', 'radio', 'newspaper']],advertising['sales'])"
      ],
      "metadata": {
        "id": "35qFwuBlHIqx"
      },
      "execution_count": null,
      "outputs": []
    },
    {
      "cell_type": "code",
      "source": [
        "print(lm.coef_)\n",
        "print(lm.intercept_)"
      ],
      "metadata": {
        "id": "YBeT93ZdHLdA"
      },
      "execution_count": null,
      "outputs": []
    },
    {
      "cell_type": "markdown",
      "source": [
        "Polynomial **regression**"
      ],
      "metadata": {
        "id": "dNBApFw4HP1s"
      }
    },
    {
      "cell_type": "code",
      "source": [
        "from sklearn.preprocessing import PolynomialFeatures"
      ],
      "metadata": {
        "id": "-mCImrlqHM2r"
      },
      "execution_count": null,
      "outputs": []
    },
    {
      "cell_type": "code",
      "source": [
        "wage = pd.read_csv('data/Wage.csv')\n",
        "wage.head(3)"
      ],
      "metadata": {
        "id": "4xGcD6VkHTQi"
      },
      "execution_count": null,
      "outputs": []
    },
    {
      "cell_type": "code",
      "source": [
        "wage.info()"
      ],
      "metadata": {
        "id": "wRws28wYHUlK"
      },
      "execution_count": null,
      "outputs": []
    },
    {
      "cell_type": "code",
      "source": [
        "X1 = PolynomialFeatures(1).fit_transform(wage[['age']])\n",
        "X2 = PolynomialFeatures(2).fit_transform(wage[['age']])\n",
        "pol_3=PolynomialFeatures(3)\n",
        "X3 = pol_3.fit_transform(wage[['age']].values)\n",
        "pol_4 =  PolynomialFeatures(4)\n",
        "X4 = pol_4.fit_transform(wage[['age']])\n",
        "X5 = PolynomialFeatures(5).fit_transform(wage[['age']])\n",
        "\n",
        "y = (wage.wage > 250).map({False:0, True:1}).values\n",
        "X3_df = pd.DataFrame(X3,columns=pol_3.get_feature_names_out())\n",
        "X4_df = pd.DataFrame(X4,columns=pol_4.get_feature_names_out())\n",
        "print('y:\\n', y[:5])"
      ],
      "metadata": {
        "id": "KJbOU-x_HWCm"
      },
      "execution_count": null,
      "outputs": []
    },
    {
      "cell_type": "code",
      "source": [
        "X3_df.head()"
      ],
      "metadata": {
        "id": "unmHBvf_HpI-"
      },
      "execution_count": null,
      "outputs": []
    },
    {
      "cell_type": "code",
      "source": [
        "X4_df.head()"
      ],
      "metadata": {
        "id": "ZYCOVRoRHqmz"
      },
      "execution_count": null,
      "outputs": []
    },
    {
      "cell_type": "code",
      "source": [
        "fit3 = sm.GLS(wage.wage, X3_df).fit()\n",
        "print(fit3.summary().tables[1])"
      ],
      "metadata": {
        "id": "I5kMAhE_Hs83"
      },
      "execution_count": null,
      "outputs": []
    },
    {
      "cell_type": "code",
      "source": [
        "fit4 = sm.GLS(wage.wage, X4_df).fit()\n",
        "print(fit4.summary().tables[1])"
      ],
      "metadata": {
        "id": "P6i5ndNsHuf7"
      },
      "execution_count": null,
      "outputs": []
    },
    {
      "cell_type": "code",
      "source": [
        "# Generate a sequence of age values spanning the range\n",
        "age_grid = np.arange(wage.age.min(), wage.age.max()).reshape(-1,1)\n",
        "\n",
        "# Generate test data\n",
        "X_test = pol_3.transform(age_grid)\n",
        "\n",
        "# Predict the value of the generated ages\n",
        "pred1 = fit3.predict(X_test) # salary"
      ],
      "metadata": {
        "id": "Dl1y230zHv4u"
      },
      "execution_count": null,
      "outputs": []
    },
    {
      "cell_type": "code",
      "source": [
        "pd.DataFrame(X_test,columns=pol_3.get_feature_names_out())"
      ],
      "metadata": {
        "id": "W4-gGBntHxuY"
      },
      "execution_count": null,
      "outputs": []
    },
    {
      "cell_type": "code",
      "source": [
        "# creating plots\n",
        "fig, ax1 = plt.subplots(figsize = (8,5))\n",
        "fig.suptitle('Degree-3 Polynomial', fontsize=14)\n",
        "\n",
        "# Scatter plot with polynomial regression line\n",
        "ax1.scatter(wage.age, wage.wage, facecolor='None', edgecolor='k', alpha=0.3)\n",
        "ax1.plot(age_grid, pred1, color = 'b')\n",
        "ax1.set_ylim(ymin=0)"
      ],
      "metadata": {
        "id": "qrEinXcTHzrM"
      },
      "execution_count": null,
      "outputs": []
    },
    {
      "cell_type": "code",
      "source": [
        "fig, ax1 = plt.subplots(figsize = (8,5))\n",
        "sns.regplot(wage.age, wage.wage, order=3, scatter_kws={'color':'gray', 's':9}, ax=ax1)"
      ],
      "metadata": {
        "id": "v0h5bdygH047"
      },
      "execution_count": null,
      "outputs": []
    },
    {
      "cell_type": "markdown",
      "source": [
        "Step **function**"
      ],
      "metadata": {
        "id": "pc5PHC7CH4KF"
      }
    },
    {
      "cell_type": "code",
      "source": [
        "df_cut, bins = pd.cut(wage.age, 4, retbins=True, right=True)\n",
        "df_cut.value_counts(sort=False)"
      ],
      "metadata": {
        "id": "y74hqwsrH2h4"
      },
      "execution_count": null,
      "outputs": []
    },
    {
      "cell_type": "code",
      "source": [
        "#[0,35,65,np.inf], [0,25,35,65,np.inf]\n",
        "df_cut, bins = pd.cut(wage.age, [0,25,35,65,np.inf], retbins=True, right=False)\n",
        "df_cut.value_counts(sort=False)"
      ],
      "metadata": {
        "id": "P501eg1DH9Rd"
      },
      "execution_count": null,
      "outputs": []
    },
    {
      "cell_type": "code",
      "source": [
        "df_steps = pd.concat([wage.age, df_cut, wage.wage], keys=['age','age_cuts','wage'], axis=1)\n",
        "df_steps.head(5)"
      ],
      "metadata": {
        "id": "9F7j8HRdH-qt"
      },
      "execution_count": null,
      "outputs": []
    },
    {
      "cell_type": "code",
      "source": [
        "# Create dummy variables for the age groups\n",
        "df_steps_dummies = pd.get_dummies(df_steps['age_cuts'])\n",
        "\n",
        "# Statsmodels requires explicit adding of a constant (intercept)\n",
        "df_steps_dummies = sm.add_constant(df_steps_dummies)\n",
        "\n",
        "df_steps_dummies.head(5)"
      ],
      "metadata": {
        "id": "JqNwyWskIAZy"
      },
      "execution_count": null,
      "outputs": []
    },
    {
      "cell_type": "code",
      "source": [
        "df_steps_dummies = df_steps_dummies.drop(df_steps_dummies.columns[1], axis=1)\n",
        "df_steps.head()"
      ],
      "metadata": {
        "id": "6dRA9HSDIBpJ"
      },
      "execution_count": null,
      "outputs": []
    },
    {
      "cell_type": "code",
      "source": [
        "# Using statsmodels because it has a more complete output for coefficients\n",
        "fit_step = sm.GLM(df_steps.wage,df_steps_dummies ).fit()\n",
        "print(fit_step.summary().tables[1])"
      ],
      "metadata": {
        "id": "_19cLwZrIDE6"
      },
      "execution_count": null,
      "outputs": []
    },
    {
      "cell_type": "code",
      "source": [
        "# Put the test data in the same bins as the training data.\n",
        "bin_mapping = np.digitize(age_grid.ravel(), bins)\n",
        "bin_mapping"
      ],
      "metadata": {
        "id": "kzadMTTOIE1L"
      },
      "execution_count": null,
      "outputs": []
    },
    {
      "cell_type": "code",
      "source": [
        "# Get dummies, drop first dummy category, add constant\n",
        "X_test2 = sm.add_constant(pd.get_dummies(bin_mapping).drop(1, axis=1))\n",
        "X_test2.columns = df_steps_dummies.columns\n",
        "X_test2.head()"
      ],
      "metadata": {
        "id": "a2gYFA-KIGtF"
      },
      "execution_count": null,
      "outputs": []
    },
    {
      "cell_type": "code",
      "source": [
        "pred_step = fit_step.predict(X_test2)\n",
        "pred_step[:5]"
      ],
      "metadata": {
        "id": "R2KoFyu1IIJS"
      },
      "execution_count": null,
      "outputs": []
    },
    {
      "cell_type": "code",
      "source": [
        "ci_step = fit_step.get_prediction(X_test2).conf_int()\n",
        "print(ci_step.shape)\n",
        "ci_step[:5,]"
      ],
      "metadata": {
        "id": "Ck5a-AkaIJ9n"
      },
      "execution_count": null,
      "outputs": []
    },
    {
      "cell_type": "code",
      "source": [
        "# creating plots\n",
        "fig, ax1 = plt.subplots(figsize = (8,5))\n",
        "fig.suptitle('Piecewise Constant', fontsize=14)\n",
        "\n",
        "# Scatter plot with polynomial regression line\n",
        "ax1.scatter(wage.age, wage.wage, facecolor='None', color='k', alpha=0.3)\n",
        "ax1.plot(age_grid, pred_step, c='b')\n",
        "ax1.fill_between(age_grid.ravel(), ci_step[:,0], ci_step[:,1], color='b', alpha=.1)\n",
        "\n",
        "ax1.set_xlabel('age')\n",
        "ax1.set_ylabel('wage')\n",
        "ax1.set_ylim(ymin=0)"
      ],
      "metadata": {
        "id": "GaXrugayILd3"
      },
      "execution_count": null,
      "outputs": []
    },
    {
      "cell_type": "markdown",
      "source": [
        "GAM (Generalized Additive **Models**"
      ],
      "metadata": {
        "id": "j9ZrRJX0IOob"
      }
    },
    {
      "cell_type": "code",
      "source": [
        "boston = pd.read_csv('data/Boston.csv')\n",
        "boston.head()"
      ],
      "metadata": {
        "id": "PB8hgB_lIM6y"
      },
      "execution_count": null,
      "outputs": []
    },
    {
      "cell_type": "code",
      "source": [
        "crim_cut = pd.cut(boston.crim, [0,1,10,25,np.inf], right=False, labels=False)\n",
        "crim_cut.head()"
      ],
      "metadata": {
        "id": "Iy9-l2wMIUWX"
      },
      "execution_count": null,
      "outputs": []
    },
    {
      "cell_type": "code",
      "source": [
        "X = pd.concat([boston.lstat, boston.ptratio, crim_cut], keys=['lstat','ptratio','crim'], axis=1)\n",
        "y = boston['medv']\n",
        "X.head()"
      ],
      "metadata": {
        "id": "kattGBjoIVpc"
      },
      "execution_count": null,
      "outputs": []
    },
    {
      "cell_type": "code",
      "source": [
        "!pip install pygam"
      ],
      "metadata": {
        "id": "G0d-zrVPIW6K"
      },
      "execution_count": null,
      "outputs": []
    },
    {
      "cell_type": "code",
      "source": [
        "from pygam import LinearGAM, s, f, l"
      ],
      "metadata": {
        "id": "B6i8lH8xIYaw"
      },
      "execution_count": null,
      "outputs": []
    },
    {
      "cell_type": "code",
      "source": [
        "gam = LinearGAM(s(0,spline_order=5) + l(1) + f(2)).fit(X, y)"
      ],
      "metadata": {
        "id": "MFPwEOruIblm"
      },
      "execution_count": null,
      "outputs": []
    },
    {
      "cell_type": "code",
      "source": [
        "gam.summary()"
      ],
      "metadata": {
        "id": "x5BLn8cVIdWD"
      },
      "execution_count": null,
      "outputs": []
    },
    {
      "cell_type": "code",
      "source": [
        "features = ['lstat','ptratio','crim']\n",
        "fig,axes = plt.subplots(ncols=3, figsize=(15,4))\n",
        "for i, term in enumerate(gam.terms):\n",
        "    if term.isintercept:\n",
        "        continue\n",
        "\n",
        "    XX = gam.generate_X_grid(term=i)\n",
        "    pdep, confi = gam.partial_dependence(term=i, X=XX, width=0.95)\n",
        "\n",
        "    \n",
        "    axes[i].plot(XX[:, term.feature], pdep)\n",
        "    axes[i].plot(XX[:, term.feature], confi, c='r', ls='--')\n",
        "    axes[i].set_xlabel(features[i])\n",
        "    axes[i].set_ylabel(f'$\\^f_{i}$({features[i]})={repr(term)}')\n",
        "plt.show()"
      ],
      "metadata": {
        "id": "-juqlxOzIfMi"
      },
      "execution_count": null,
      "outputs": []
    },
    {
      "cell_type": "code",
      "source": [
        ""
      ],
      "metadata": {
        "id": "1iOfRTSzIhc0"
      },
      "execution_count": null,
      "outputs": []
    }
  ]
}
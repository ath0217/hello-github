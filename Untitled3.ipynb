{
  "nbformat": 4,
  "nbformat_minor": 0,
  "metadata": {
    "colab": {
      "name": "Untitled3.ipynb",
      "private_outputs": true,
      "provenance": [],
      "authorship_tag": "ABX9TyOEosiB9H2lCxD4RPj85TGH",
      "include_colab_link": true
    },
    "kernelspec": {
      "name": "python3",
      "display_name": "Python 3"
    },
    "language_info": {
      "name": "python"
    }
  },
  "cells": [
    {
      "cell_type": "markdown",
      "metadata": {
        "id": "view-in-github",
        "colab_type": "text"
      },
      "source": [
        "<a href=\"https://colab.research.google.com/github/ath0217/hello-github/blob/main/Untitled3.ipynb\" target=\"_parent\"><img src=\"https://colab.research.google.com/assets/colab-badge.svg\" alt=\"Open In Colab\"/></a>"
      ]
    },
    {
      "cell_type": "code",
      "execution_count": null,
      "metadata": {
        "id": "W40gI8WMPIM6"
      },
      "outputs": [],
      "source": [
        "import pandas as pd\n",
        "import numpy as np\n",
        "import matplotlib.pyplot as plt\n",
        "import seaborn as sns\n",
        "import plotly.express as px\n",
        "import plotly.graph_objects as go"
      ]
    },
    {
      "cell_type": "code",
      "source": [
        "from sklearn.impute import SimpleImputer"
      ],
      "metadata": {
        "id": "9BQZ0ZnyPXyt"
      },
      "execution_count": null,
      "outputs": []
    },
    {
      "cell_type": "code",
      "source": [
        "imp_mean = SimpleImputer(missing_values=np.nan, strategy='mean')\n",
        "X1 = [[7, 2, 3], [4, np.nan, 6], [10, 5, 9]]\n",
        "pd.DataFrame(X1)"
      ],
      "metadata": {
        "id": "cMvTyvqRPcX5"
      },
      "execution_count": null,
      "outputs": []
    },
    {
      "cell_type": "code",
      "source": [
        "imp_mean.fit(X1)"
      ],
      "metadata": {
        "id": "lW_xU7EiPfPx"
      },
      "execution_count": null,
      "outputs": []
    },
    {
      "cell_type": "code",
      "source": [
        "X2 = [[np.nan, 2, 3], [4, np.nan, 6], [10, np.nan, 9]]\n",
        "pd.DataFrame(X2)"
      ],
      "metadata": {
        "id": "4f_4WKJEPhYi"
      },
      "execution_count": null,
      "outputs": []
    },
    {
      "cell_type": "code",
      "source": [
        "pd.DataFrame(imp_mean.transform(X2))"
      ],
      "metadata": {
        "id": "oldVsvasPjXE"
      },
      "execution_count": null,
      "outputs": []
    },
    {
      "cell_type": "code",
      "source": [
        "from sklearn.impute import MissingIndicator"
      ],
      "metadata": {
        "id": "SdVkKC_YPlVj"
      },
      "execution_count": null,
      "outputs": []
    },
    {
      "cell_type": "code",
      "source": [
        "indicator = MissingIndicator(features='all')  #수정하기 중요해\n",
        "indicator.fit(X1)"
      ],
      "metadata": {
        "id": "GoyejEzVPnFe"
      },
      "execution_count": null,
      "outputs": []
    },
    {
      "cell_type": "code",
      "source": [
        "X2_tr = indicator.transform(X2)\n",
        "X2_tr"
      ],
      "metadata": {
        "id": "ZJryBzXFPos5"
      },
      "execution_count": null,
      "outputs": []
    },
    {
      "cell_type": "code",
      "source": [
        "from sklearn.datasets import fetch_california_housing\n",
        "from sklearn.model_selection import train_test_split"
      ],
      "metadata": {
        "id": "yLE9Fgm2Pqqp"
      },
      "execution_count": null,
      "outputs": []
    },
    {
      "cell_type": "code",
      "source": [
        "data = fetch_california_housing()\n",
        "print(data.DESCR)"
      ],
      "metadata": {
        "id": "qDNFYmN0TPU3"
      },
      "execution_count": null,
      "outputs": []
    },
    {
      "cell_type": "code",
      "source": [
        "df = pd.DataFrame(data.data, columns=data.feature_names)\n",
        "\n",
        "X_train, X_test, y_train, y_test = train_test_split(df,data.target,shuffle=True,test_size=0.25,random_state=6011)\n",
        "\n",
        "print(X_train.shape)\n",
        "print(X_test.shape)"
      ],
      "metadata": {
        "id": "gotPhgoYTRQk"
      },
      "execution_count": null,
      "outputs": []
    },
    {
      "cell_type": "code",
      "source": [
        "X_train = X_train.copy()"
      ],
      "metadata": {
        "id": "R_dv5HlwTUE9"
      },
      "execution_count": null,
      "outputs": []
    },
    {
      "cell_type": "code",
      "source": [
        "X_train.info()"
      ],
      "metadata": {
        "id": "9EVpa66iTV7O"
      },
      "execution_count": null,
      "outputs": []
    },
    {
      "cell_type": "code",
      "source": [
        "X_train.describe()"
      ],
      "metadata": {
        "id": "lZTshqamUAz1"
      },
      "execution_count": null,
      "outputs": []
    },
    {
      "cell_type": "code",
      "source": [
        "X_train.plot.kde(subplots=True, figsize=(10,20), sharex=False)"
      ],
      "metadata": {
        "id": "5zoJBD-eUC57"
      },
      "execution_count": null,
      "outputs": []
    },
    {
      "cell_type": "code",
      "source": [
        "sns.histplot(data=X_train, x='AveRooms')"
      ],
      "metadata": {
        "id": "pz-6l2gtUFPS"
      },
      "execution_count": null,
      "outputs": []
    },
    {
      "cell_type": "code",
      "source": [
        "X_train['AveRooms'].quantile([0.1,0.5,0.90,0.95,0.99])"
      ],
      "metadata": {
        "id": "TDfHgzQwUJ0v"
      },
      "execution_count": null,
      "outputs": []
    },
    {
      "cell_type": "code",
      "source": [
        "X_train_99 = X_train[X_train['AveRooms']<X_train['AveRooms'].quantile(0.99)].copy()"
      ],
      "metadata": {
        "id": "9cbofPwPUM3i"
      },
      "execution_count": null,
      "outputs": []
    },
    {
      "cell_type": "code",
      "source": [
        "X_train_99.describe()"
      ],
      "metadata": {
        "id": "1mG_-v1VUPoC"
      },
      "execution_count": null,
      "outputs": []
    },
    {
      "cell_type": "code",
      "source": [
        "X_train_99_2 =  X_train.copy()\n",
        "X_train_99_2[X_train['AveRooms']>X_train['AveRooms'].quantile(0.99)] = X_train['AveRooms'].quantile(0.99)\n",
        "X_train_99_2.describe()"
      ],
      "metadata": {
        "id": "xD1wwSw_URkC"
      },
      "execution_count": null,
      "outputs": []
    },
    {
      "cell_type": "code",
      "source": [
        "print(X_train_99.shape)\n",
        "print(X_train_99_2.shape)"
      ],
      "metadata": {
        "id": "s7M1De59UTN1"
      },
      "execution_count": null,
      "outputs": []
    },
    {
      "cell_type": "code",
      "source": [
        "sns.histplot(data=X_train_99, x='AveRooms')"
      ],
      "metadata": {
        "id": "3wrv9PsfUUx_"
      },
      "execution_count": null,
      "outputs": []
    },
    {
      "cell_type": "code",
      "source": [
        "sns.histplot(data=X_train_99_2, x='AveRooms')"
      ],
      "metadata": {
        "id": "A8f6_fkOUWj7"
      },
      "execution_count": null,
      "outputs": []
    },
    {
      "cell_type": "code",
      "source": [
        "from sklearn.preprocessing import MinMaxScaler"
      ],
      "metadata": {
        "id": "M3ZX7svLUYiN"
      },
      "execution_count": null,
      "outputs": []
    },
    {
      "cell_type": "code",
      "source": [
        "mm_scaler = MinMaxScaler()"
      ],
      "metadata": {
        "id": "sZvKbMsZW3wb"
      },
      "execution_count": null,
      "outputs": []
    },
    {
      "cell_type": "code",
      "source": [
        "col_name = 'AveRooms'\n",
        "trans_col_name = 'AveRooms_mm'\n",
        "X_train[trans_col_name]= mm_scaler.fit_transform(X_train[[col_name]])\n",
        "X_train_99[trans_col_name]= mm_scaler.fit_transform(X_train_99[[col_name]])"
      ],
      "metadata": {
        "id": "Wtiu2atsW5oc"
      },
      "execution_count": null,
      "outputs": []
    },
    {
      "cell_type": "code",
      "source": [
        "fig, axes = plt.subplots(ncols=2, figsize=(16,6))\n",
        "sns.histplot(data=X_train, x=trans_col_name, ax=axes[0], kde=True)\n",
        "# axes[0].set_title('Histogram with whole training data')\n",
        "sns.histplot(data=X_train_99, x=trans_col_name, ax=axes[1],kde=True)\n",
        "# axes[1].set_title('Histogram of training data with no outliers (99 percentile)')"
      ],
      "metadata": {
        "id": "nAwafqwOW7RM"
      },
      "execution_count": null,
      "outputs": []
    },
    {
      "cell_type": "code",
      "source": [
        "fig, axes = plt.subplots(nrows=2, figsize=(6,8))\n",
        "sns.histplot(data=X_train_99, x=col_name, ax=axes[0],kde=True)\n",
        "axes[0].set_title('Original data')\n",
        "sns.histplot(data=X_train_99, x=trans_col_name, ax=axes[1],kde=True)\n",
        "axes[1].set_title('Transformed data')\n",
        "plt.tight_layout()"
      ],
      "metadata": {
        "id": "k6z0NBQOW9D1"
      },
      "execution_count": null,
      "outputs": []
    },
    {
      "cell_type": "code",
      "source": [
        "from sklearn.preprocessing import StandardScaler"
      ],
      "metadata": {
        "id": "PWCWAPW3W_vt"
      },
      "execution_count": null,
      "outputs": []
    },
    {
      "cell_type": "code",
      "source": [
        "sd_scaler = StandardScaler()\n",
        "sd_scaler2 = StandardScaler(with_mean=False, with_std=False)"
      ],
      "metadata": {
        "id": "RRbmpXyWXy09"
      },
      "execution_count": null,
      "outputs": []
    },
    {
      "cell_type": "code",
      "source": [
        "col_name = 'AveRooms'\n",
        "trans_col_name = 'AveRooms_sd'\n",
        "X_train[trans_col_name]= sd_scaler.fit_transform(X_train[['AveRooms']])\n",
        "X_train_99[trans_col_name]= sd_scaler.fit_transform(X_train_99[['AveRooms']])\n",
        "X_train_99[f'{trans_col_name}_2']= sd_scaler2.fit_transform(X_train_99[['AveRooms']])\n"
      ],
      "metadata": {
        "id": "Ud5V8nTjX0RM"
      },
      "execution_count": null,
      "outputs": []
    },
    {
      "cell_type": "code",
      "source": [
        "fig, axes = plt.subplots(ncols=3, figsize=(21,6))\n",
        "sns.histplot(data=X_train, x=trans_col_name, ax=axes[0])\n",
        "# axes[0].set_title('Histogram with whole training data')\n",
        "sns.histplot(data=X_train_99, x=trans_col_name, ax=axes[1])\n",
        "sns.histplot(data=X_train_99, x=f'{trans_col_name}_2', ax=axes[2])\n",
        "# axes[1].set_title('Histogram of training data with no outliers (99 percentile)')"
      ],
      "metadata": {
        "id": "KYnGz9PuX3aK"
      },
      "execution_count": null,
      "outputs": []
    },
    {
      "cell_type": "code",
      "source": [
        "fig, axes = plt.subplots(nrows=2, figsize=(6,8))\n",
        "sns.histplot(data=X_train_99, x=col_name, ax=axes[0],kde=True)\n",
        "axes[0].set_title('Original data')\n",
        "sns.histplot(data=X_train_99, x=trans_col_name, ax=axes[1], kde=True)\n",
        "axes[1].set_title('Transformed data')\n",
        "plt.tight_layout()"
      ],
      "metadata": {
        "id": "ZYaiUjsvX5Fn"
      },
      "execution_count": null,
      "outputs": []
    },
    {
      "cell_type": "code",
      "source": [
        "from sklearn.preprocessing import RobustScaler"
      ],
      "metadata": {
        "id": "y3my5MG6X7wN"
      },
      "execution_count": null,
      "outputs": []
    },
    {
      "cell_type": "code",
      "source": [
        "rb_scaler = RobustScaler ( )"
      ],
      "metadata": {
        "id": "xcgkZ1NZYkHQ"
      },
      "execution_count": null,
      "outputs": []
    },
    {
      "cell_type": "code",
      "source": [
        "col_name = 'AveRooms'\n",
        "trans_col_name = 'AveRooms_rb'\n",
        "X_train[trans_col_name]= rb_scaler.fit_transform(X_train[[col_name]])\n",
        "X_train_99[trans_col_name]= rb_scaler.fit_transform(X_train_99[[col_name]])"
      ],
      "metadata": {
        "id": "PVpH0SdoYl-w"
      },
      "execution_count": null,
      "outputs": []
    },
    {
      "cell_type": "code",
      "source": [
        "fig, axes = plt.subplots(ncols=2, figsize=(16,6))\n",
        "sns.histplot(data=X_train, x=trans_col_name, ax=axes[0], kde=True)\n",
        "# axes[0].set_title('Histogram with whole training data')\n",
        "sns.histplot(data=X_train_99, x=trans_col_name, ax=axes[1],kde=True)\n",
        "# axes[1].set_title('Histogram of training data with no outliers (99 percentile)')"
      ],
      "metadata": {
        "id": "nKMiEeNOYoD3"
      },
      "execution_count": null,
      "outputs": []
    },
    {
      "cell_type": "code",
      "source": [
        "fig, axes = plt.subplots(nrows=2, figsize=(6,8))\n",
        "sns.histplot(data=X_train_99, x=col_name, ax=axes[0],kde=True)\n",
        "axes[0].set_title('Original data')\n",
        "sns.histplot(data=X_train_99, x=trans_col_name, ax=axes[1],kde=True)\n",
        "axes[1].set_title('Transformed data')\n",
        "plt.tight_layout()"
      ],
      "metadata": {
        "id": "vW5dK-EdYp-r"
      },
      "execution_count": null,
      "outputs": []
    },
    {
      "cell_type": "code",
      "source": [
        "sns.kdeplot(data=X_train_99, x='MedInc')"
      ],
      "metadata": {
        "id": "GTJg9VhjYsti"
      },
      "execution_count": null,
      "outputs": []
    },
    {
      "cell_type": "code",
      "source": [
        "from sklearn.preprocessing import PowerTransformer"
      ],
      "metadata": {
        "id": "tggUeRvPbPHZ"
      },
      "execution_count": null,
      "outputs": []
    },
    {
      "cell_type": "code",
      "source": [
        "bx_transformer = PowerTransformer(method='box-cox')"
      ],
      "metadata": {
        "id": "spBt9RXubRsa"
      },
      "execution_count": null,
      "outputs": []
    },
    {
      "cell_type": "code",
      "source": [
        "col_name = 'MedInc'\n",
        "trans_col_name = 'MedInc_bx'\n",
        "X_train[trans_col_name]= bx_transformer.fit_transform(X_train[[col_name]])\n",
        "X_train_99[trans_col_name]= bx_transformer.fit_transform(X_train_99[[col_name]])"
      ],
      "metadata": {
        "id": "NgwPMceKbTWr"
      },
      "execution_count": null,
      "outputs": []
    },
    {
      "cell_type": "code",
      "source": [
        "fig, axes = plt.subplots(ncols=2, figsize=(16,6))\n",
        "sns.histplot(data=X_train, x=col_name, ax=axes[0], kde=True)\n",
        "# axes[0].set_title('Histogram with whole training data')\n",
        "sns.histplot(data=X_train_99, x=trans_col_name, ax=axes[1],kde=True)\n",
        "# axes[1].set_title('Histogram of training data with no outliers (99 percentile)')"
      ],
      "metadata": {
        "id": "uFuWZkM1bVMV"
      },
      "execution_count": null,
      "outputs": []
    },
    {
      "cell_type": "code",
      "source": [
        "bx_transformer.lambdas_"
      ],
      "metadata": {
        "id": "dajhoqcDbWxC"
      },
      "execution_count": null,
      "outputs": []
    },
    {
      "cell_type": "code",
      "source": [
        "from scipy.stats import probplot"
      ],
      "metadata": {
        "id": "dV4yZxu7bYl6"
      },
      "execution_count": null,
      "outputs": []
    },
    {
      "cell_type": "code",
      "source": [
        "fig, axes = plt.subplots(ncols=2, figsize=(16,6))\n",
        "probplot(X_train[col_name], plot=axes[0])\n",
        "probplot(X_train[trans_col_name], plot=axes[1])"
      ],
      "metadata": {
        "id": "_fB7Nt7gbaIQ"
      },
      "execution_count": null,
      "outputs": []
    },
    {
      "cell_type": "code",
      "source": [
        "fig, axes = plt.subplots(nrows=2, ncols=2, figsize=(12,8))\n",
        "sns.histplot(data=X_train_99, x=col_name, ax=axes[0,0],kde=True)\n",
        "probplot(X_train[col_name], plot=axes[0,1])\n",
        "axes[0,0].set_title('Original data')\n",
        "axes[0,1].set_title(axes[0,1].get_title()+' Original data')\n",
        "sns.histplot(data=X_train_99, x=trans_col_name, ax=axes[1,0], kde=True)\n",
        "probplot(X_train[trans_col_name], plot=axes[1,1])\n",
        "axes[1,0].set_title('Transformed data')\n",
        "axes[1,1].set_title(axes[1,1].get_title()+' Transformed data')\n",
        "plt.tight_layout()"
      ],
      "metadata": {
        "id": "L3PLxc4-bb1l"
      },
      "execution_count": null,
      "outputs": []
    },
    {
      "cell_type": "code",
      "source": [
        "from sklearn.preprocessing import FunctionTransformer"
      ],
      "metadata": {
        "id": "BXaKSBKGbeFR"
      },
      "execution_count": null,
      "outputs": []
    },
    {
      "cell_type": "code",
      "source": [
        "my_transformer = FunctionTransformer(np.log)"
      ],
      "metadata": {
        "id": "0Al5ukVlbfwU"
      },
      "execution_count": null,
      "outputs": []
    },
    {
      "cell_type": "code",
      "source": [
        "X_train[[col_name]].plot.kde()"
      ],
      "metadata": {
        "id": "76fWa0kzbh82"
      },
      "execution_count": null,
      "outputs": []
    },
    {
      "cell_type": "code",
      "source": [
        "FunctionTransformer(np.log).transform(X_train[[col_name]]).plot.kde()"
      ],
      "metadata": {
        "id": "tb61HQzgbjcF"
      },
      "execution_count": null,
      "outputs": []
    },
    {
      "cell_type": "code",
      "source": [
        "FunctionTransformer(np.reciprocal).transform(X_train[[col_name]]).plot.kde()"
      ],
      "metadata": {
        "id": "pBkJ40JubkrK"
      },
      "execution_count": null,
      "outputs": []
    },
    {
      "cell_type": "code",
      "source": [
        "FunctionTransformer(np.sqrt).transform(X_train[[col_name]]).plot.kde()"
      ],
      "metadata": {
        "id": "VsxwA8dWbqWR"
      },
      "execution_count": null,
      "outputs": []
    },
    {
      "cell_type": "code",
      "source": [
        "FunctionTransformer(np.cbrt).transform(X_train[[col_name]]).plot.kde()"
      ],
      "metadata": {
        "id": "qaAZnzdAbrxL"
      },
      "execution_count": null,
      "outputs": []
    },
    {
      "cell_type": "code",
      "source": [
        "sns.kdeplot(data=X_train_99, x='HouseAge')"
      ],
      "metadata": {
        "id": "SiApAKfnbtfS"
      },
      "execution_count": null,
      "outputs": []
    },
    {
      "cell_type": "code",
      "source": [
        "col_name = 'HouseAge'\n",
        "trans_col_name = 'HouseAge_bx'\n",
        "X_train[trans_col_name]= bx_transformer.fit_transform(X_train[[col_name]])\n",
        "X_train_99[trans_col_name]= bx_transformer.fit_transform(X_train_99[[col_name]])"
      ],
      "metadata": {
        "id": "jRg2WKlNbvF2"
      },
      "execution_count": null,
      "outputs": []
    },
    {
      "cell_type": "code",
      "source": [
        "fig, axes = plt.subplots(ncols=2, figsize=(16,6))\n",
        "sns.histplot(data=X_train, x=trans_col_name, ax=axes[0], kde=True)\n",
        "# axes[0].set_title('Histogram with whole training data')\n",
        "sns.histplot(data=X_train_99, x=trans_col_name, ax=axes[1],kde=True)\n",
        "# axes[1].set_title('Histogram of training data with no outliers (99 percentile)')"
      ],
      "metadata": {
        "id": "5ALUmMk0bw-p"
      },
      "execution_count": null,
      "outputs": []
    },
    {
      "cell_type": "code",
      "source": [
        "bx_transformer.lambdas_"
      ],
      "metadata": {
        "id": "-1aRTGnAbzKv"
      },
      "execution_count": null,
      "outputs": []
    },
    {
      "cell_type": "code",
      "source": [
        "fig, axes = plt.subplots(ncols=2, figsize=(16,6))\n",
        "probplot(X_train[col_name], plot=axes[0])\n",
        "probplot(X_train[trans_col_name], plot=axes[1])"
      ],
      "metadata": {
        "id": "rZLS35Bub02D"
      },
      "execution_count": null,
      "outputs": []
    },
    {
      "cell_type": "code",
      "source": [
        "fig, axes = plt.subplots(nrows=2, ncols=2, figsize=(12,8))\n",
        "sns.histplot(data=X_train_99, x=col_name, ax=axes[0,0],kde=True)\n",
        "probplot(X_train[col_name], plot=axes[0,1])\n",
        "axes[0,0].set_title('Original data')\n",
        "axes[0,1].set_title(axes[0,1].get_title()+' Original data')\n",
        "sns.histplot(data=X_train_99, x=trans_col_name, ax=axes[1,0], kde=True)\n",
        "probplot(X_train[trans_col_name], plot=axes[1,1])\n",
        "axes[1,0].set_title('Transformed data')\n",
        "axes[1,1].set_title(axes[1,1].get_title()+' Transformed data')\n",
        "plt.tight_layout()"
      ],
      "metadata": {
        "id": "lg5fwPYZb2Ur"
      },
      "execution_count": null,
      "outputs": []
    },
    {
      "cell_type": "code",
      "source": [
        ""
      ],
      "metadata": {
        "id": "1SShcOuFb4KR"
      },
      "execution_count": null,
      "outputs": []
    }
  ]
}
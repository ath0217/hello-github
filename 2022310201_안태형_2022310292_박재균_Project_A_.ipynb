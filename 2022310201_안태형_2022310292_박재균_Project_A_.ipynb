{
  "nbformat": 4,
  "nbformat_minor": 0,
  "metadata": {
    "colab": {
      "name": "2022310201_안태형_2022310292_박재균_Project_A_.ipynb",
      "private_outputs": true,
      "provenance": [],
      "collapsed_sections": [],
      "include_colab_link": true
    },
    "kernelspec": {
      "name": "python3",
      "display_name": "Python 3"
    },
    "language_info": {
      "name": "python"
    }
  },
  "cells": [
    {
      "cell_type": "markdown",
      "metadata": {
        "id": "view-in-github",
        "colab_type": "text"
      },
      "source": [
        "<a href=\"https://colab.research.google.com/github/ath0217/hello-github/blob/main/2022310201_%E1%84%8B%E1%85%A1%E1%86%AB%E1%84%90%E1%85%A2%E1%84%92%E1%85%A7%E1%86%BC_2022310292_%E1%84%87%E1%85%A1%E1%86%A8%E1%84%8C%E1%85%A2%E1%84%80%E1%85%B2%E1%86%AB_Project_A_.ipynb\" target=\"_parent\"><img src=\"https://colab.research.google.com/assets/colab-badge.svg\" alt=\"Open In Colab\"/></a>"
      ]
    },
    {
      "cell_type": "code",
      "execution_count": null,
      "metadata": {
        "id": "y3SkdPn57jKX"
      },
      "outputs": [],
      "source": [
        "import pandas as pd\n",
        "import numpy as np\n",
        "import matplotlib.pyplot as plt\n",
        "import seaborn as sns\n",
        "import plotly.express as px\n",
        "import plotly.graph_objects as go"
      ]
    },
    {
      "cell_type": "code",
      "source": [
        "from sklearn.model_selection import KFold, GridSearchCV\n",
        "from sklearn.metrics import mean_squared_error\n",
        "from sklearn.metrics import mean_absolute_error"
      ],
      "metadata": {
        "id": "5MHCmn77dZPG"
      },
      "execution_count": null,
      "outputs": []
    },
    {
      "cell_type": "code",
      "source": [
        "sns.set_style(\"darkgrid\")"
      ],
      "metadata": {
        "id": "hZxVlgE16kpr"
      },
      "execution_count": null,
      "outputs": []
    },
    {
      "cell_type": "code",
      "source": [
        "from sklearn.datasets import load_iris\n",
        "from sklearn.model_selection import train_test_split"
      ],
      "metadata": {
        "id": "7GgqZU6R8U-v"
      },
      "execution_count": null,
      "outputs": []
    },
    {
      "cell_type": "code",
      "source": [
        "!pip list | grep imb"
      ],
      "metadata": {
        "id": "7X6rZYZh6m7n"
      },
      "execution_count": null,
      "outputs": []
    },
    {
      "cell_type": "code",
      "source": [
        "!mkdir data"
      ],
      "metadata": {
        "id": "wnvrfiDa6pvK"
      },
      "execution_count": null,
      "outputs": []
    },
    {
      "cell_type": "markdown",
      "source": [
        "#DATA IMPORTING\n",
        "\n",
        " We imported AmesHousing data from google drive."
      ],
      "metadata": {
        "id": "G2ADesPMrjRQ"
      }
    },
    {
      "cell_type": "code",
      "source": [
        "import gdown\n",
        "\n",
        "urls = ['https://docs.google.com/uc?export=download&id=1cs0UFK8jfF8BhTkB2YtIBxveUG52TbKF']\n",
        "outputs = ['AmesHousing.csv']\n",
        "for url,output in zip(urls,outputs):\n",
        "  gdown.download(url, f'data/{output}', quiet=False)"
      ],
      "metadata": {
        "id": "zffsrRKW6sHZ"
      },
      "execution_count": null,
      "outputs": []
    },
    {
      "cell_type": "code",
      "source": [
        "df=pd.read_csv('data/AmesHousing.csv')"
      ],
      "metadata": {
        "id": "UQYvVIdI6I3J"
      },
      "execution_count": null,
      "outputs": []
    },
    {
      "cell_type": "markdown",
      "source": [
        "We started by taking all of the 2010 data and holding it out as a validation set, and this data will be not used for training our model."
      ],
      "metadata": {
        "id": "jWszQOVKrsrk"
      }
    },
    {
      "cell_type": "code",
      "source": [
        "test = df[df['Yr Sold']==2010]\n",
        "train = df[df['Yr Sold']<=2009]"
      ],
      "metadata": {
        "id": "LM6sDI1-Beeu"
      },
      "execution_count": null,
      "outputs": []
    },
    {
      "cell_type": "code",
      "source": [
        "test.head()"
      ],
      "metadata": {
        "id": "CJ0ZYNDI_vTs"
      },
      "execution_count": null,
      "outputs": []
    },
    {
      "cell_type": "code",
      "source": [
        "test.info()"
      ],
      "metadata": {
        "id": "gRGf7Ko0Bs-2"
      },
      "execution_count": null,
      "outputs": []
    },
    {
      "cell_type": "code",
      "source": [
        "train.head()"
      ],
      "metadata": {
        "id": "Frm-LvQ4Cc39"
      },
      "execution_count": null,
      "outputs": []
    },
    {
      "cell_type": "code",
      "source": [
        "train.info()"
      ],
      "metadata": {
        "id": "OYzUA2ZIBxF-"
      },
      "execution_count": null,
      "outputs": []
    },
    {
      "cell_type": "markdown",
      "source": [
        "# Exploratory Data Analysis\n",
        "\n",
        "We applied .corr() to train set to identify general trends in sales price across time, neighborhood, and home characteristics. \n",
        "\n",
        "However, since the neighborhood is a variable made up of text, we will treat it as a box plot below."
      ],
      "metadata": {
        "id": "7CDU8dquskgy"
      }
    },
    {
      "cell_type": "code",
      "source": [
        "train.corr()"
      ],
      "metadata": {
        "id": "2OoW2emVOCKG"
      },
      "execution_count": null,
      "outputs": []
    },
    {
      "cell_type": "code",
      "source": [
        "corr = train.corr()\n",
        "\n",
        "corr.style.background_gradient(cmap='coolwarm')"
      ],
      "metadata": {
        "id": "BSW4UwrZOS9t"
      },
      "execution_count": null,
      "outputs": []
    },
    {
      "cell_type": "code",
      "source": [
        "sns.heatmap(train.corr())\n",
        "\n",
        "plt.savefig(\"Plotting_Correlation_HeatMap.jpg\")"
      ],
      "metadata": {
        "id": "GC94mG-lSGA1"
      },
      "execution_count": null,
      "outputs": []
    },
    {
      "cell_type": "code",
      "source": [
        "train_corr = train.corr()\n",
        "train_corr_sort = train_corr.sort_values('SalePrice', ascending = False)\n",
        "train_corr_sort"
      ],
      "metadata": {
        "id": "cZ4ttrBx_8dp"
      },
      "execution_count": null,
      "outputs": []
    },
    {
      "cell_type": "markdown",
      "source": [
        "The five variables most related to SalePrice were extracted."
      ],
      "metadata": {
        "id": "CLk5lHQSuKul"
      }
    },
    {
      "cell_type": "code",
      "source": [
        "train_corr_sort['SalePrice'].head(6)"
      ],
      "metadata": {
        "id": "8vIq4YxEAKpE"
      },
      "execution_count": null,
      "outputs": []
    },
    {
      "cell_type": "markdown",
      "source": [
        "We visualized as a scatter plot to see the relationship between Gr Liv Area and Salesprice, which have the highest correlation with Salesprice among numeric variables.\n",
        "\n",
        "As can be seen from the following graph, as the Gr liv area increased, the Salesprice showed a tendency to increase."
      ],
      "metadata": {
        "id": "vETwYs79jU1J"
      }
    },
    {
      "cell_type": "code",
      "source": [
        "#scatter plot Gr Liv Area / SalePrice\n",
        "var = 'Gr Liv Area'\n",
        "data = pd.concat([train['SalePrice'], train[var]], axis=1)\n",
        "data.plot.scatter(x=var, y='SalePrice', ylim=(0,800000), s=32);"
      ],
      "metadata": {
        "id": "TBgw6SqsATK3"
      },
      "execution_count": null,
      "outputs": []
    },
    {
      "cell_type": "markdown",
      "source": [
        "The following is a scatter plot showing the relationship between Total Bsmt SF and Saleprice. The same as in the graph above, as Total Bsmt SF increases, we can see a trend that SalePrice increases."
      ],
      "metadata": {
        "id": "Hc1lU6JewyCi"
      }
    },
    {
      "cell_type": "code",
      "source": [
        "#scatter plot totalbsmtsf/saleprice\n",
        "var = 'Total Bsmt SF'\n",
        "data = pd.concat([train['SalePrice'], train[var]], axis=1)\n",
        "data.plot.scatter(x=var, y='SalePrice', ylim=(0,800000));"
      ],
      "metadata": {
        "id": "F8XWEhcRjbuk"
      },
      "execution_count": null,
      "outputs": []
    },
    {
      "cell_type": "markdown",
      "source": [
        "The graph below visualizes the relationship between garage area and sale price as a scatter plot. We found that the correlation between the two was high."
      ],
      "metadata": {
        "id": "Br48KGzc2exT"
      }
    },
    {
      "cell_type": "code",
      "source": [
        "sns.lmplot(x='Garage Area',y='SalePrice',data=train)"
      ],
      "metadata": {
        "id": "3oMLkltN2KYP"
      },
      "execution_count": null,
      "outputs": []
    },
    {
      "cell_type": "markdown",
      "source": [
        "Three graphs below show the relationship between categorical variables and Saleprice.\n",
        "\n",
        "Of course, as the Overall Qual increased, the Saleprice increased, and we showed this as a box plot."
      ],
      "metadata": {
        "id": "KdEJmKrZj04Z"
      }
    },
    {
      "cell_type": "code",
      "source": [
        "#box plot overallqual/saleprice\n",
        "var = 'Overall Qual'\n",
        "data = pd.concat([train['SalePrice'], train[var]], axis=1)\n",
        "f, ax = plt.subplots(figsize=(8, 6))\n",
        "fig = sns.boxplot(x=var, y=\"SalePrice\", data=data)\n",
        "fig.axis(ymin=0, ymax=800000);"
      ],
      "metadata": {
        "id": "-EFijLTuj5jq"
      },
      "execution_count": null,
      "outputs": []
    },
    {
      "cell_type": "markdown",
      "source": [
        "The following graph is a box plot that visualizes the relationship between neighborhood and Saleprice. We tried to find out in which regions our model performs better and in which regions it does not perform well.\n",
        "\n",
        "As this box plot shows, our data show the lowest Saleprice in the meadowW region. Also, the StoneBr region had the highest Saleprice."
      ],
      "metadata": {
        "id": "NDAiJgLv0TiI"
      }
    },
    {
      "cell_type": "code",
      "source": [
        "#box plot Neighborhood/saleprice\n",
        "var = 'Neighborhood'\n",
        "data = pd.concat([train['SalePrice'], train[var]], axis=1)\n",
        "f, ax = plt.subplots(figsize=(32, 10))\n",
        "fig = sns.boxplot(x=var, y=\"SalePrice\", data=data)\n",
        "fig.axis(ymin=0, ymax=800000);"
      ],
      "metadata": {
        "id": "hmAY5KtCwbZt"
      },
      "execution_count": null,
      "outputs": []
    },
    {
      "cell_type": "markdown",
      "source": [
        "The graph below visualizes the relationship between garage cars and sale price as a box plot. We found that the correlation between the two was high.\n",
        "\n",
        "However, when the number of acceptable Cars is 4 or more, the Salesprice tends to decrease."
      ],
      "metadata": {
        "id": "5ml-z0xT3A0n"
      }
    },
    {
      "cell_type": "code",
      "source": [
        "plt.figure(figsize=(16,8))\n",
        "sns.boxplot(x='Garage Cars',y='SalePrice',data=train)\n",
        "plt.show()"
      ],
      "metadata": {
        "id": "64rYjndB29ZK"
      },
      "execution_count": null,
      "outputs": []
    },
    {
      "cell_type": "code",
      "source": [
        "corr = train.corr()"
      ],
      "metadata": {
        "id": "IWr6KRHxBE39"
      },
      "execution_count": null,
      "outputs": []
    },
    {
      "cell_type": "markdown",
      "source": [
        "To find the top 38 variables highly correlated with Saleprice, we used the code below."
      ],
      "metadata": {
        "id": "-W9TpjGG0oUy"
      }
    },
    {
      "cell_type": "code",
      "source": [
        "train_corr_sort['SalePrice'].head(39)"
      ],
      "metadata": {
        "id": "XwKPE0yUKCVX"
      },
      "execution_count": null,
      "outputs": []
    },
    {
      "cell_type": "markdown",
      "source": [
        "variables below were extracted to utilize the variables with a correlation coefficient of 0.3 or higher with the saleprice. This is because we judged that there is no need to consider variables lower than 0.3."
      ],
      "metadata": {
        "id": "dV_6zQb71A4G"
      }
    },
    {
      "cell_type": "code",
      "source": [
        "corr[corr['SalePrice']>0.3].index"
      ],
      "metadata": {
        "id": "Ml8RSHkzB84-"
      },
      "execution_count": null,
      "outputs": []
    },
    {
      "cell_type": "markdown",
      "source": [
        "In order to remove unnecessary variables in the train set and test set, we put the following list into each data set."
      ],
      "metadata": {
        "id": "BcwnRYfm1uxF"
      }
    },
    {
      "cell_type": "code",
      "source": [
        "train = train[['Lot Frontage', 'Overall Qual', 'Year Built', 'Year Remod/Add',\n",
        "       'Mas Vnr Area', 'BsmtFin SF 1', 'Total Bsmt SF', '1st Flr SF',\n",
        "       'Gr Liv Area', 'Full Bath', 'TotRms AbvGrd', 'Fireplaces',\n",
        "       'Garage Yr Blt', 'Garage Cars', 'Garage Area', 'Wood Deck SF',\n",
        "       'Open Porch SF', 'SalePrice']]\n",
        "test=test[['Lot Frontage', 'Overall Qual', 'Year Built', 'Year Remod/Add',\n",
        "       'Mas Vnr Area', 'BsmtFin SF 1', 'Total Bsmt SF', '1st Flr SF',\n",
        "       'Gr Liv Area', 'Full Bath', 'TotRms AbvGrd', 'Fireplaces',\n",
        "       'Garage Yr Blt', 'Garage Cars', 'Garage Area', 'Wood Deck SF',\n",
        "       'Open Porch SF', 'SalePrice']]"
      ],
      "metadata": {
        "id": "8JaCzRFKB-Zf"
      },
      "execution_count": null,
      "outputs": []
    },
    {
      "cell_type": "markdown",
      "source": [
        "# Buidling a sales price prediction model\n",
        "\n",
        "In order to reduce the sample size in the process of building the sales price prediction model, we removed missing data. This is to ensure that the process is not biased."
      ],
      "metadata": {
        "id": "h7jWiSW63xFc"
      }
    },
    {
      "cell_type": "code",
      "source": [
        "total = train.isnull().sum().sort_values(ascending=False)\n",
        "percent = (train.isnull().sum()/train.isnull().count()).sort_values(ascending=False)\n",
        "missing_data = pd.concat([total, percent], axis=1, keys=['Total', 'Percent'])\n",
        "missing_data.head(25)"
      ],
      "metadata": {
        "id": "6X6BybcnCK0i"
      },
      "execution_count": null,
      "outputs": []
    },
    {
      "cell_type": "markdown",
      "source": [
        "We removed variables with more than 136 missing data from the train set."
      ],
      "metadata": {
        "id": "nk6pkErX4JuK"
      }
    },
    {
      "cell_type": "code",
      "source": [
        "train = train.drop((missing_data[missing_data['Total'] > 136]).index,1)"
      ],
      "metadata": {
        "id": "4ABMRR33Cl_k"
      },
      "execution_count": null,
      "outputs": []
    },
    {
      "cell_type": "markdown",
      "source": [
        "Below is the result."
      ],
      "metadata": {
        "id": "tfX7TWGD4ScG"
      }
    },
    {
      "cell_type": "code",
      "source": [
        "train.isnull().sum().sort_values(ascending=False).head(20)"
      ],
      "metadata": {
        "id": "l770mUadDFDy"
      },
      "execution_count": null,
      "outputs": []
    },
    {
      "cell_type": "markdown",
      "source": [
        "We are going to do the same thing to the test data\n",
        "\n"
      ],
      "metadata": {
        "id": "sOUlBxQpDSWm"
      }
    },
    {
      "cell_type": "code",
      "source": [
        "total_test = test.isnull().sum().sort_values(ascending=False)\n",
        "percent_test = (test.isnull().sum()/test.isnull().count()).sort_values(ascending=False)\n",
        "missing_data = pd.concat([total_test, percent_test], axis=1, keys=['Total', 'Percent'])\n",
        "missing_data.head(25)"
      ],
      "metadata": {
        "id": "J0ZByGktDH2h"
      },
      "execution_count": null,
      "outputs": []
    },
    {
      "cell_type": "code",
      "source": [
        "test = test.drop((missing_data[missing_data['Total'] > 23]).index,1)"
      ],
      "metadata": {
        "id": "tw4TRqyhDVgK"
      },
      "execution_count": null,
      "outputs": []
    },
    {
      "cell_type": "markdown",
      "source": [
        "Below is the result."
      ],
      "metadata": {
        "id": "D7LBfTC15Dv4"
      }
    },
    {
      "cell_type": "code",
      "source": [
        "test.isnull().sum().sort_values(ascending=False).head(20)"
      ],
      "metadata": {
        "id": "1bMVCmHqDYXu"
      },
      "execution_count": null,
      "outputs": []
    },
    {
      "cell_type": "markdown",
      "source": [
        "# We need to handle missing data."
      ],
      "metadata": {
        "id": "goskY4-36Z2r"
      }
    },
    {
      "cell_type": "markdown",
      "source": [
        "We checked whether missing data was properly removed."
      ],
      "metadata": {
        "id": "Br06HQ8g5k8v"
      }
    },
    {
      "cell_type": "code",
      "source": [
        "train.head()"
      ],
      "metadata": {
        "id": "IJMamD53Dp7R"
      },
      "execution_count": null,
      "outputs": []
    },
    {
      "cell_type": "code",
      "source": [
        "test.head()"
      ],
      "metadata": {
        "id": "56_iSvOmDrYk"
      },
      "execution_count": null,
      "outputs": []
    },
    {
      "cell_type": "markdown",
      "source": [
        "Now we are going to pick some features for the model. For this, we are going to use correlation matrix and we are going to pick most correlated variable with saleprice."
      ],
      "metadata": {
        "id": "CUd9Dht86u9M"
      }
    },
    {
      "cell_type": "code",
      "source": [
        "k = 15 \n",
        "plt.figure(figsize=(16,8))\n",
        "corrmat = train.corr()\n",
        "cols = corrmat.nlargest(k, 'SalePrice')['SalePrice'].index\n",
        "cm = np.corrcoef(train[cols].values.T)\n",
        "sns.set(font_scale=1.25)\n",
        "hm = sns.heatmap(cm, cbar=True, annot=True, square=True, fmt='.2f', annot_kws={'size': 10}, yticklabels=cols.values, xticklabels=cols.values)\n",
        "plt.show()"
      ],
      "metadata": {
        "id": "5C1d6tNDFgAX"
      },
      "execution_count": null,
      "outputs": []
    },
    {
      "cell_type": "markdown",
      "source": [
        "We intentionally put the mean value in the missing value in train set."
      ],
      "metadata": {
        "id": "SKlMHnPJ7qVL"
      }
    },
    {
      "cell_type": "code",
      "source": [
        "train['Garage Yr Blt'] = train['Garage Yr Blt'].fillna(train['Garage Yr Blt'].mean())\n",
        "train['Mas Vnr Area'] = train['Mas Vnr Area'].fillna(train['Mas Vnr Area'].mean())\n",
        "train['BsmtFin SF 1'] = train['BsmtFin SF 1'].fillna(train['BsmtFin SF 1'].mean())\n",
        "train['Total Bsmt SF'] = train['Total Bsmt SF'].fillna(train['Total Bsmt SF'].mean())\n",
        "train['Garage Area'] = train['Garage Area'].fillna(train['Garage Area'].mean())\n",
        "train['Garage Cars'] = train['Garage Cars'].fillna(train['Garage Cars'].mean())"
      ],
      "metadata": {
        "id": "g20Z_CKHL9ZG"
      },
      "execution_count": null,
      "outputs": []
    },
    {
      "cell_type": "code",
      "source": [
        "train = train[cols]"
      ],
      "metadata": {
        "id": "OGDrjFFNE0zT"
      },
      "execution_count": null,
      "outputs": []
    },
    {
      "cell_type": "code",
      "source": [
        "cols"
      ],
      "metadata": {
        "id": "aKL-ydLjE6CH"
      },
      "execution_count": null,
      "outputs": []
    },
    {
      "cell_type": "code",
      "source": [
        "test=test[cols]"
      ],
      "metadata": {
        "id": "9O6eJcQXzoPY"
      },
      "execution_count": null,
      "outputs": []
    },
    {
      "cell_type": "code",
      "source": [
        "cols"
      ],
      "metadata": {
        "id": "r2F3N8jLzq40"
      },
      "execution_count": null,
      "outputs": []
    },
    {
      "cell_type": "code",
      "source": [
        "test.isnull().sum().sort_values(ascending=False).head(20)"
      ],
      "metadata": {
        "id": "MWOPWu1-OqkU"
      },
      "execution_count": null,
      "outputs": []
    },
    {
      "cell_type": "markdown",
      "source": [
        "We checked whether the mean values were well added to the missing values."
      ],
      "metadata": {
        "id": "9YLQrKvn7zBA"
      }
    },
    {
      "cell_type": "code",
      "source": [
        "train.head()"
      ],
      "metadata": {
        "id": "Thp8nP2JzgaG"
      },
      "execution_count": null,
      "outputs": []
    },
    {
      "cell_type": "code",
      "source": [
        "test.head()"
      ],
      "metadata": {
        "id": "Hm5fYHKWPY3V"
      },
      "execution_count": null,
      "outputs": []
    },
    {
      "cell_type": "markdown",
      "source": [
        "We intentionally put the mean value in the missing value in test set either."
      ],
      "metadata": {
        "id": "hfMLTlRc7hi2"
      }
    },
    {
      "cell_type": "code",
      "source": [
        "test['Mas Vnr Area'] = test['Mas Vnr Area'].fillna(test['Mas Vnr Area'].mean())\n",
        "test['Garage Yr Blt'] = test['Garage Yr Blt'].fillna(test['Garage Yr Blt'].mean())"
      ],
      "metadata": {
        "id": "uBGv_j5XE6-V"
      },
      "execution_count": null,
      "outputs": []
    },
    {
      "cell_type": "markdown",
      "source": [
        "# Linear Regression\n",
        "\n",
        "We are going to begin to train out regression model. We will need to first split up our data into an X array that contains the features to train on, and a y array with the target variable, in this case the Price column. We will toss out the Address column because it only has text infomation that the linear regression model can't use."
      ],
      "metadata": {
        "id": "q3bQYnFS773X"
      }
    },
    {
      "cell_type": "code",
      "source": [
        "from sklearn.model_selection import train_test_split\n",
        "X_train, X_test, y_train, y_test = train_test_split(train.drop('SalePrice', axis=1), train['SalePrice'], test_size=0.3, random_state=101)\n"
      ],
      "metadata": {
        "id": "TUoXOaXFGRS7"
      },
      "execution_count": null,
      "outputs": []
    },
    {
      "cell_type": "markdown",
      "source": [
        "We are going to scale to data"
      ],
      "metadata": {
        "id": "vB4GH_UH8RN7"
      }
    },
    {
      "cell_type": "code",
      "source": [
        "y_train= y_train.values.reshape(-1,1)\n",
        "y_test= y_test.values.reshape(-1,1)\n",
        "\n",
        "from sklearn.preprocessing import StandardScaler\n",
        "sc_X = StandardScaler()\n",
        "sc_y = StandardScaler()\n",
        "X_train = sc_X.fit_transform(X_train)\n",
        "X_test = sc_X.fit_transform(X_test)\n",
        "y_train = sc_X.fit_transform(y_train)\n",
        "y_test = sc_y.fit_transform(y_test)"
      ],
      "metadata": {
        "id": "I1RapqRmHerB"
      },
      "execution_count": null,
      "outputs": []
    },
    {
      "cell_type": "code",
      "source": [
        "X_train"
      ],
      "metadata": {
        "id": "IK47O7HyHgZ3"
      },
      "execution_count": null,
      "outputs": []
    },
    {
      "cell_type": "markdown",
      "source": [
        "Creating and Training the Model "
      ],
      "metadata": {
        "id": "vAZJQyNd8fO3"
      }
    },
    {
      "cell_type": "code",
      "source": [
        "from sklearn.linear_model import LinearRegression\n",
        "lm = LinearRegression()"
      ],
      "metadata": {
        "id": "Dfp1lJfhHiLg"
      },
      "execution_count": null,
      "outputs": []
    },
    {
      "cell_type": "code",
      "source": [
        "lm.fit(X_train,y_train)\n",
        "print(lm)"
      ],
      "metadata": {
        "id": "ym4lZhAkJKAl"
      },
      "execution_count": null,
      "outputs": []
    },
    {
      "cell_type": "markdown",
      "source": [
        "Model Evaluation\n",
        "\n",
        "We are going to evaluate the model by checking out it's coefficients and then we can interpret them."
      ],
      "metadata": {
        "id": "NWe8XtkC8kmh"
      }
    },
    {
      "cell_type": "code",
      "source": [
        "print(lm.intercept_)"
      ],
      "metadata": {
        "id": "HjfVDl-JHlTZ"
      },
      "execution_count": null,
      "outputs": []
    },
    {
      "cell_type": "code",
      "source": [
        "print(lm.coef_)"
      ],
      "metadata": {
        "id": "WE4GKPuQUTLD"
      },
      "execution_count": null,
      "outputs": []
    },
    {
      "cell_type": "markdown",
      "source": [
        "Predictions from our Model \n",
        "\n",
        "We are going to grab predictions off our test set and see how well it did."
      ],
      "metadata": {
        "id": "IdjGU1Cm8tOT"
      }
    },
    {
      "cell_type": "code",
      "source": [
        "predictions = lm.predict(X_test)\n",
        "predictions= predictions.reshape(-1,1)"
      ],
      "metadata": {
        "id": "xDmcsCmyUUiD"
      },
      "execution_count": null,
      "outputs": []
    },
    {
      "cell_type": "markdown",
      "source": [
        "We visualized Y Test and Predicted Y as scatter plots. As a result, it appeared very well linearly."
      ],
      "metadata": {
        "id": "SBKCC7-b9HYf"
      }
    },
    {
      "cell_type": "code",
      "source": [
        "plt.figure(figsize=(15,8))\n",
        "plt.scatter(y_test,predictions)\n",
        "plt.xlabel('Y Test')\n",
        "plt.ylabel('Predicted Y')\n",
        "plt.show()"
      ],
      "metadata": {
        "id": "xfzuVFDeUW7X"
      },
      "execution_count": null,
      "outputs": []
    },
    {
      "cell_type": "markdown",
      "source": [
        "To evaluate the performance of our model, we calculated the MAE value."
      ],
      "metadata": {
        "id": "pT7pbBWq9maw"
      }
    },
    {
      "cell_type": "code",
      "source": [
        "from sklearn import metrics"
      ],
      "metadata": {
        "id": "znPQL42MUcMC"
      },
      "execution_count": null,
      "outputs": []
    },
    {
      "cell_type": "code",
      "source": [
        "print('MAE:', metrics.mean_absolute_error(y_test, predictions))"
      ],
      "metadata": {
        "id": "TVXHXm8zUfNW"
      },
      "execution_count": null,
      "outputs": []
    },
    {
      "cell_type": "markdown",
      "source": [
        "# Gradient Boosting Regression\n",
        "\n",
        "Gradient Boosting trains many models in a gradual, additive and sequential manner. "
      ],
      "metadata": {
        "id": "0700EzkM9vh1"
      }
    },
    {
      "cell_type": "code",
      "source": [
        "from sklearn import ensemble\n",
        "from sklearn.utils import shuffle\n",
        "from sklearn.metrics import mean_squared_error, r2_score"
      ],
      "metadata": {
        "id": "pccmd5iSdbGO"
      },
      "execution_count": null,
      "outputs": []
    },
    {
      "cell_type": "code",
      "source": [
        "params = {'n_estimators': 100, 'max_depth': 4, 'min_samples_split': 2,\n",
        "          'learning_rate': 0.05, 'loss': 'ls'}\n",
        "clf = ensemble.GradientBoostingRegressor(**params)\n",
        "\n",
        "clf.fit(X_train, y_train)"
      ],
      "metadata": {
        "id": "9GtpdYCTuOBQ"
      },
      "execution_count": null,
      "outputs": []
    },
    {
      "cell_type": "code",
      "source": [
        "clf_pred=clf.predict(X_test)\n",
        "clf_pred= clf_pred.reshape(-1,1)"
      ],
      "metadata": {
        "id": "i2tx9wTPuQHR"
      },
      "execution_count": null,
      "outputs": []
    },
    {
      "cell_type": "markdown",
      "source": [
        "To evaluate the performance of our model, we calculated the MAE value."
      ],
      "metadata": {
        "id": "9ZCQqitu-js8"
      }
    },
    {
      "cell_type": "code",
      "source": [
        "print('MAE:', metrics.mean_absolute_error(y_test, clf_pred))"
      ],
      "metadata": {
        "id": "nRyGceyuuSN-"
      },
      "execution_count": null,
      "outputs": []
    },
    {
      "cell_type": "markdown",
      "source": [
        "We visualized Y Test and Predicted Y as a scatter plot. As a result, it appeared very well linearly."
      ],
      "metadata": {
        "id": "LtXWcq7s-sR5"
      }
    },
    {
      "cell_type": "code",
      "source": [
        "plt.figure(figsize=(15,8))\n",
        "plt.scatter(y_test,clf_pred, c= 'brown')\n",
        "plt.xlabel('Y Test')\n",
        "plt.ylabel('Predicted Y')\n",
        "plt.show()"
      ],
      "metadata": {
        "id": "a2nGhFJ7uTk7"
      },
      "execution_count": null,
      "outputs": []
    },
    {
      "cell_type": "markdown",
      "source": [
        "# Decision Tree Regression\n",
        "\n",
        "The decision tree is a simple machine learning model for getting started with regression tasks."
      ],
      "metadata": {
        "id": "PNGroKAh-xnJ"
      }
    },
    {
      "cell_type": "code",
      "source": [
        "from sklearn.tree import DecisionTreeRegressor\n",
        "dtreg = DecisionTreeRegressor(random_state = 100)\n",
        "dtreg.fit(X_train, y_train)"
      ],
      "metadata": {
        "id": "LcRrUeh3uc5v"
      },
      "execution_count": null,
      "outputs": []
    },
    {
      "cell_type": "code",
      "source": [
        "params={'max_depth':[2,3,4],\n",
        "        'criterion':[\"squared_error\", \"friedman_mse\"],\n",
        "        'ccp_alpha':[0.0, 0.1, 1]}\n",
        "gridsearch_dt =GridSearchCV(dtreg,param_grid=params,cv=5)\n",
        "gridsearch_dt.fit(X_train,y_train)"
      ],
      "metadata": {
        "id": "VRS_1D3o8wxz"
      },
      "execution_count": null,
      "outputs": []
    },
    {
      "cell_type": "code",
      "source": [
        "gridsearch_dt.best_params_"
      ],
      "metadata": {
        "id": "A1Ugfyor93nH"
      },
      "execution_count": null,
      "outputs": []
    },
    {
      "cell_type": "code",
      "source": [
        "gridsearch_dt.best_estimator_"
      ],
      "metadata": {
        "id": "_GN1Fpqo-N7M"
      },
      "execution_count": null,
      "outputs": []
    },
    {
      "cell_type": "code",
      "source": [
        "dtr_pred = dtreg.predict(X_test)\n",
        "\n",
        "dtr_pred= dtr_pred.reshape(-1,1)"
      ],
      "metadata": {
        "id": "lB68jEGeufX9"
      },
      "execution_count": null,
      "outputs": []
    },
    {
      "cell_type": "markdown",
      "source": [
        "To evaluate the performance of our model, we calculated the MAE value."
      ],
      "metadata": {
        "id": "6H9X1gqW-5yN"
      }
    },
    {
      "cell_type": "code",
      "source": [
        "print('MAE:', metrics.mean_absolute_error(y_test, dtr_pred))"
      ],
      "metadata": {
        "id": "oev_N9gFugtE"
      },
      "execution_count": null,
      "outputs": []
    },
    {
      "cell_type": "markdown",
      "source": [
        "We visualized Y Test and Predicted Y as scatter plots. As a result, it appeared quite linearly."
      ],
      "metadata": {
        "id": "QHM2BxkS_B3i"
      }
    },
    {
      "cell_type": "code",
      "source": [
        "plt.figure(figsize=(15,8))\n",
        "plt.scatter(y_test,dtr_pred,c='green')\n",
        "plt.xlabel('Y Test')\n",
        "plt.ylabel('Predicted Y')\n",
        "plt.show()"
      ],
      "metadata": {
        "id": "djgB40zFuhze"
      },
      "execution_count": null,
      "outputs": []
    },
    {
      "cell_type": "markdown",
      "source": [
        "# Support Vector Machine\n",
        "\n",
        "Support Vector Machine can also be used as a regression method, maintaining all the main features that characterize the algorithm. The Support Vector uses the same principles as the SVM for classification, with only a few minor differences."
      ],
      "metadata": {
        "id": "xVh7unWY_fML"
      }
    },
    {
      "cell_type": "code",
      "source": [
        "from sklearn.svm import SVR\n",
        "svr = SVR(kernel = 'rbf')\n",
        "svr.fit(X_train, y_train)"
      ],
      "metadata": {
        "id": "91uKfVDHunWl"
      },
      "execution_count": null,
      "outputs": []
    },
    {
      "cell_type": "code",
      "source": [
        "svr_pred = svr.predict(X_test)\n",
        "svr_pred= svr_pred.reshape(-1,1)"
      ],
      "metadata": {
        "id": "4pCAHrMqupOD"
      },
      "execution_count": null,
      "outputs": []
    },
    {
      "cell_type": "markdown",
      "source": [
        "To evaluate the performance of our model, we calculated the MAE value.\n",
        "\n",
        "SVM showed the lowest MAE value."
      ],
      "metadata": {
        "id": "Fr3UylebAArG"
      }
    },
    {
      "cell_type": "code",
      "source": [
        "print('MAE:', metrics.mean_absolute_error(y_test, svr_pred))"
      ],
      "metadata": {
        "id": "R65u3z5euqnE"
      },
      "execution_count": null,
      "outputs": []
    },
    {
      "cell_type": "markdown",
      "source": [
        "We visualized Y Test and Predicted Y as scatter plots. As a result, it appeared linearly, but quite spread."
      ],
      "metadata": {
        "id": "eh_z2A8PAI2u"
      }
    },
    {
      "cell_type": "code",
      "source": [
        "plt.figure(figsize=(15,8))\n",
        "plt.scatter(y_test,svr_pred, c='red')\n",
        "plt.xlabel('Y Test')\n",
        "plt.ylabel('Predicted Y')\n",
        "plt.show()"
      ],
      "metadata": {
        "id": "mj0IpBSNuroK"
      },
      "execution_count": null,
      "outputs": []
    },
    {
      "cell_type": "markdown",
      "source": [
        "# Random Forest\n",
        "\n",
        "A Random Forest is an ensemble technique capable of performing both regression and classification tasks with the use of multiple decision trees and a technique called Bootstrap Aggregation, commonly known as bagging."
      ],
      "metadata": {
        "id": "rwg7hgv-AvHB"
      }
    },
    {
      "cell_type": "code",
      "source": [
        "from sklearn.ensemble import RandomForestRegressor\n",
        "rfr = RandomForestRegressor(n_estimators = 100, random_state = 0)\n",
        "rfr.fit(X_train, y_train)"
      ],
      "metadata": {
        "id": "u-1n8TypuxpL"
      },
      "execution_count": null,
      "outputs": []
    },
    {
      "cell_type": "code",
      "source": [
        "rfr_pred= rfr.predict(X_test)\n",
        "rfr_pred = rfr_pred.reshape(-1,1)"
      ],
      "metadata": {
        "id": "UCmcGKKFuzHC"
      },
      "execution_count": null,
      "outputs": []
    },
    {
      "cell_type": "markdown",
      "source": [
        "To evaluate the performance of our model, we calculated the MAE value."
      ],
      "metadata": {
        "id": "6JM5z0JzA8EJ"
      }
    },
    {
      "cell_type": "code",
      "source": [
        "print('MAE:', metrics.mean_absolute_error(y_test, rfr_pred))\n"
      ],
      "metadata": {
        "id": "WB8yjRMQu0ky"
      },
      "execution_count": null,
      "outputs": []
    },
    {
      "cell_type": "code",
      "source": [
        "plt.figure(figsize=(15,8))\n",
        "plt.scatter(y_test,rfr_pred, c='orange')\n",
        "plt.xlabel('Y Test')\n",
        "plt.ylabel('Predicted Y')\n",
        "plt.show()"
      ],
      "metadata": {
        "id": "sNQy9R8su1s7"
      },
      "execution_count": null,
      "outputs": []
    },
    {
      "cell_type": "markdown",
      "source": [
        "In conclusion, when we evaluated our prediction model with Random Forest, the MAE value was the lowest at 17141.714."
      ],
      "metadata": {
        "id": "QxOsT22x3XJi"
      }
    },
    {
      "cell_type": "markdown",
      "source": [
        "# Renovation value calculator\n",
        "\n",
        "We made a Renovation value calculator. We were able to build on what we learned in class (lab session #4). Linear regression will be used."
      ],
      "metadata": {
        "id": "ax47LqKlB4Iz"
      }
    },
    {
      "cell_type": "code",
      "source": [
        "import statsmodels.api as sm\n",
        "import statsmodels.formula.api as smf\n",
        "import sklearn.linear_model as skl"
      ],
      "metadata": {
        "id": "TZC2k4trJMpA"
      },
      "execution_count": null,
      "outputs": []
    },
    {
      "cell_type": "code",
      "source": [
        "!mkdir data"
      ],
      "metadata": {
        "id": "z_b6DVz0Rrkx"
      },
      "execution_count": null,
      "outputs": []
    },
    {
      "cell_type": "markdown",
      "source": [
        "An error occurred in columns that are not spaced. So we created a file with some of columns' spaces removed."
      ],
      "metadata": {
        "id": "ZejBOzRLC1yi"
      }
    },
    {
      "cell_type": "code",
      "source": [
        "import gdown\n",
        "\n",
        "urls = ['https://docs.google.com/uc?export=download&id=1DSBXiDE-ZZj14lG4y9j8Uu-3UXzxC-JN']\n",
        "outputs = ['AmesHousing_train_GarageCars.csv']\n",
        "for url,output in zip(urls,outputs):\n",
        "  gdown.download(url, f'data/{output}', quiet=False)"
      ],
      "metadata": {
        "id": "knqgjbsmRtbY"
      },
      "execution_count": null,
      "outputs": []
    },
    {
      "cell_type": "code",
      "source": [
        "lr = pd.read_csv('data/AmesHousing_train_GarageCars.csv')\n",
        "lr.info()"
      ],
      "metadata": {
        "id": "lKbk5HUJR7yn"
      },
      "execution_count": null,
      "outputs": []
    },
    {
      "cell_type": "markdown",
      "source": [
        "We represent the relationship between Garage Cars, Fireplaces, Half bath, and Saleprice as a linear regression.\n",
        "\n",
        "The reason we chose these three variables is because we thought they were variables that had a strong correlation with Saleprice and corresponded to home features."
      ],
      "metadata": {
        "id": "vrIxi-eCDH4c"
      }
    },
    {
      "cell_type": "code",
      "source": [
        "plt.figure(figsize=(8,6)) \n",
        "sns.regplot(lr.GarageCars, train.SalePrice, order=1, ci=None, scatter_kws={'color':'r', 's':9})"
      ],
      "metadata": {
        "id": "oKOB_u6wJr1Z"
      },
      "execution_count": null,
      "outputs": []
    },
    {
      "cell_type": "markdown",
      "source": [
        "In the results below, we found that for every additional vehicle that can be accommodated in the garage, the Saleprice increases by $68,380."
      ],
      "metadata": {
        "id": "54qWajD74-Pj"
      }
    },
    {
      "cell_type": "code",
      "source": [
        "est = smf.ols('SalePrice ~ GarageCars', lr).fit()\n",
        "print(est.summary().tables[1])"
      ],
      "metadata": {
        "id": "_OQBes3iONjF"
      },
      "execution_count": null,
      "outputs": []
    },
    {
      "cell_type": "markdown",
      "source": [
        "In the results below, we found that the saleprice increases by $59,700 for every 1 fireplace increase in the house."
      ],
      "metadata": {
        "id": "uUTBQF-e5eer"
      }
    },
    {
      "cell_type": "code",
      "source": [
        "est = smf.ols('SalePrice ~ Fireplaces', lr).fit()\n",
        "print(est.summary().tables[1])"
      ],
      "metadata": {
        "id": "b_tbwdTEXW_I"
      },
      "execution_count": null,
      "outputs": []
    },
    {
      "cell_type": "markdown",
      "source": [
        "In the results below, we found that for every increase in a house's HalfBath by 1, the Saleprice increases by $45,470."
      ],
      "metadata": {
        "id": "W4sggx2G54MZ"
      }
    },
    {
      "cell_type": "code",
      "source": [
        "est = smf.ols('SalePrice ~ HalfBath', lr).fit()\n",
        "print(est.summary().tables[1])"
      ],
      "metadata": {
        "id": "QV4ahk47dFMm"
      },
      "execution_count": null,
      "outputs": []
    },
    {
      "cell_type": "markdown",
      "source": [
        "# We recommend to view this section in edit mode. Because the $ sign changes the format.\n",
        "\n",
        "We want to recommend particular home improvements which can increase the value of their home to our customers. To do so, we must consider the cost of such improvements.\n",
        "\n",
        "\n",
        "\n",
        "1. Therefore, we looked up the improvement cost of building a garage. We refer to the Typical range and National Average from the link below.\n",
        "\n",
        "https://www.bobvila.com/articles/cost-to-build-a-garage/\n",
        "Typical Range: $16,747 to $38,926\n",
        "National Average: $27,774\n",
        "\n",
        "The average improvement cost of building a garage is $27,774.\n",
        "\n",
        "As we found that for every additional vehicle that can be accommodated in the garage, the Saleprice increases by $68,380. Therefore, We estimate that we can generate approximately $40,000 in net revenue from building a garage.\n",
        "\n",
        "\n",
        "\n",
        "2. We looked up the improvement cost of istallation a fireplace. We refer to the Typical range and National Average from the link below.\n",
        "\n",
        "https://www.bobvila.com/articles/fireplace-installation-cost/\n",
        "Typical Range: $870 to $3,792\n",
        "National Average: $2,314\n",
        "\n",
        "The average improvement cost of installing a fireplace is $2,314.\n",
        "As we found that for every additional fireplace, the Saleprice increases by $59,700. Therefore, We estimate that we can generate approximately $57,000 in net revenue from intalling a fireplace.\n",
        "\n",
        "\n",
        "\n",
        "3. We looked up the improvement cost of adding a bathroom. We refer to the Average cost from the link below. Based on the regression equation in our linear regression analysis, for each increase in half bathroom, the saleprice increases by $45,470. Therefore, we refer to the average cost of new addition in the link below.\n",
        "\n",
        "https://www.homeadvisor.com/cost/bathrooms/\n",
        "Average cost: $35,000\n",
        "\n",
        "The average improvement cost of adding a bathroom is $35,000. Therefore, We estimate that we can generate approximately $10,000 in net revenue from adding a bathroom.\n",
        "\n",
        "Based on net revenue, positive improvement is installing a fireplace ($57,000), and negative improvement is adding bathroom ($10,000).\n"
      ],
      "metadata": {
        "id": "MelM-drKSYUf"
      }
    },
    {
      "cell_type": "code",
      "source": [
        "import pandas as pd\n",
        "import numpy as np\n",
        "import matplotlib.pyplot as plt\n",
        "import seaborn as sns"
      ],
      "metadata": {
        "id": "8yiG0DYZVeJS"
      },
      "execution_count": null,
      "outputs": []
    },
    {
      "cell_type": "code",
      "source": [
        "train.head()"
      ],
      "metadata": {
        "id": "Bwh5yj3NV1vD"
      },
      "execution_count": null,
      "outputs": []
    },
    {
      "cell_type": "code",
      "source": [
        "test.head()"
      ],
      "metadata": {
        "id": "zd0PDBfe0lcZ"
      },
      "execution_count": null,
      "outputs": []
    },
    {
      "cell_type": "code",
      "source": [
        "X_train = train.drop(['SalePrice'], axis=1)\n",
        "y_train = train['SalePrice']"
      ],
      "metadata": {
        "id": "EphtSJNyV4JN"
      },
      "execution_count": null,
      "outputs": []
    },
    {
      "cell_type": "code",
      "source": [
        "X_test = test.drop(['SalePrice'], axis=1)\n",
        "y_test = test['SalePrice']"
      ],
      "metadata": {
        "id": "kB9h_44P0n8V"
      },
      "execution_count": null,
      "outputs": []
    },
    {
      "cell_type": "code",
      "source": [
        "from sklearn.ensemble import RandomForestRegressor\n",
        "from sklearn.tree import DecisionTreeRegressor\n",
        "from sklearn.linear_model import Lasso"
      ],
      "metadata": {
        "id": "8LJiCG7sWEhZ"
      },
      "execution_count": null,
      "outputs": []
    },
    {
      "cell_type": "code",
      "source": [
        "from sklearn.model_selection import KFold, GridSearchCV\n",
        "from sklearn.metrics import mean_squared_error\n",
        "from sklearn.metrics import mean_absolute_error"
      ],
      "metadata": {
        "id": "1q9ysgUZWyX8"
      },
      "execution_count": null,
      "outputs": []
    },
    {
      "cell_type": "code",
      "source": [
        "models =[RandomForestRegressor(),\n",
        "         DecisionTreeRegressor(),\n",
        "         Lasso()]\n",
        "param_grids=[{'n_estimators':[10,25,50],\n",
        "              'max_depth':[2,3,4]},\n",
        "             {'max_depth':[2,3,4],\n",
        "              'criterion':[\"squared_error\", \"friedman_mse\"]},\n",
        "             {'alpha':[0,1,1,10]}\n",
        "             ]"
      ],
      "metadata": {
        "id": "ehJ5Hoz9Wzor"
      },
      "execution_count": null,
      "outputs": []
    },
    {
      "cell_type": "code",
      "source": [
        "grid_search_list=[]\n",
        "for model, params in zip(models, param_grids):\n",
        "  grid_search = GridSearchCV(model, params, cv=5)\n",
        "  grid_search.fit(X_train, y_train)\n",
        "  grid_search_list.append(grid_search)"
      ],
      "metadata": {
        "id": "KgpFjIi1W2Tb"
      },
      "execution_count": null,
      "outputs": []
    },
    {
      "cell_type": "code",
      "source": [
        "grid_search_list"
      ],
      "metadata": {
        "id": "LMFNyLxTW4Yd"
      },
      "execution_count": null,
      "outputs": []
    },
    {
      "cell_type": "code",
      "source": [
        "rf_grid_search = grid_search_list[0]"
      ],
      "metadata": {
        "id": "cNcDS6hvW8K6"
      },
      "execution_count": null,
      "outputs": []
    },
    {
      "cell_type": "code",
      "source": [
        "pd.DataFrame(rf_grid_search.cv_results_)"
      ],
      "metadata": {
        "id": "ndXAieTqW9dV"
      },
      "execution_count": null,
      "outputs": []
    },
    {
      "cell_type": "code",
      "source": [
        "rf_grid_search.best_params_"
      ],
      "metadata": {
        "id": "0vp-AUm4W-gG"
      },
      "execution_count": null,
      "outputs": []
    },
    {
      "cell_type": "code",
      "source": [
        "rf_grid_search.best_estimator_"
      ],
      "metadata": {
        "id": "VJpFGy8CXA7U"
      },
      "execution_count": null,
      "outputs": []
    },
    {
      "cell_type": "code",
      "source": [
        "for best in grid_search_list:\n",
        "  print(best.best_params_)"
      ],
      "metadata": {
        "id": "OgwCOANlXCnZ"
      },
      "execution_count": null,
      "outputs": []
    },
    {
      "cell_type": "code",
      "source": [
        "for best in grid_search_list:\n",
        "  y_pred = best.best_estimator_.predict(X_test)\n",
        "  mse= mean_squared_error(y_test, y_pred)\n",
        "  mae= mean_absolute_error(y_test, y_pred)\n",
        "  print(mae)"
      ],
      "metadata": {
        "id": "_MC_3e6URwEu"
      },
      "execution_count": null,
      "outputs": []
    }
  ]
}
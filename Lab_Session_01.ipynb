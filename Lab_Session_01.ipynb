{
  "nbformat": 4,
  "nbformat_minor": 0,
  "metadata": {
    "colab": {
      "name": "Lab Session #01",
      "private_outputs": true,
      "provenance": [],
      "authorship_tag": "ABX9TyOnlW1RxlP6LcxbWl/el7fb",
      "include_colab_link": true
    },
    "kernelspec": {
      "name": "python3",
      "display_name": "Python 3"
    },
    "language_info": {
      "name": "python"
    }
  },
  "cells": [
    {
      "cell_type": "markdown",
      "metadata": {
        "id": "view-in-github",
        "colab_type": "text"
      },
      "source": [
        "<a href=\"https://colab.research.google.com/github/ath0217/hello-github/blob/main/Lab_Session_01.ipynb\" target=\"_parent\"><img src=\"https://colab.research.google.com/assets/colab-badge.svg\" alt=\"Open In Colab\"/></a>"
      ]
    },
    {
      "cell_type": "code",
      "execution_count": null,
      "metadata": {
        "id": "JXSHWiYxzUW2"
      },
      "outputs": [],
      "source": [
        "import pandas as pd\n",
        "import matplotlib.pyplot as plt"
      ]
    },
    {
      "cell_type": "code",
      "source": [
        "!mkdir data"
      ],
      "metadata": {
        "id": "M7xkxVtKzYCo"
      },
      "execution_count": null,
      "outputs": []
    },
    {
      "cell_type": "code",
      "source": [
        "import gdown\n",
        "\n",
        "url = 'https://drive.google.com/uc?export=download&id=1iaPYDUAJ8rCApeYfQplMbzeLPPUyQJ8f'\n",
        "output = 'data/screening_data.csv'\n",
        "gdown.download(url, output, quiet=False)"
      ],
      "metadata": {
        "id": "clCHsXWczkQP"
      },
      "execution_count": null,
      "outputs": []
    },
    {
      "cell_type": "code",
      "source": [
        "df = pd.read_csv('data/screening_data.csv')"
      ],
      "metadata": {
        "id": "nEGwIc_vzmBx"
      },
      "execution_count": null,
      "outputs": []
    },
    {
      "cell_type": "code",
      "source": [
        "df.head(5)"
      ],
      "metadata": {
        "id": "gP-ri03Jzn3B"
      },
      "execution_count": null,
      "outputs": []
    },
    {
      "cell_type": "code",
      "source": [
        "columns = ['MorphologyV2Cell.EqSphereAreaCh1', 'MorphologyV2Cell.PerimCh1', 'Class', 'Case']\n",
        "new_names = ['PredictorA','PredictorB', 'Class', 'Case']"
      ],
      "metadata": {
        "id": "-Q6Qy90szpcd"
      },
      "execution_count": null,
      "outputs": []
    },
    {
      "cell_type": "code",
      "source": [
        "df = df[columns]\n",
        "df.columns = new_names"
      ],
      "metadata": {
        "id": "H2MC9C42zrvS"
      },
      "execution_count": null,
      "outputs": []
    },
    {
      "cell_type": "code",
      "source": [
        "df.head()"
      ],
      "metadata": {
        "id": "umZpbcVBzs94"
      },
      "execution_count": null,
      "outputs": []
    },
    {
      "cell_type": "code",
      "source": [
        "color_dict = {'PS':'cornflowerblue', 'WS':'darkorange'}\n",
        "df['color']= df['Class'].map(color_dict)"
      ],
      "metadata": {
        "id": "iFGUpUi0zuPr"
      },
      "execution_count": null,
      "outputs": []
    },
    {
      "cell_type": "code",
      "source": [
        "df.head()"
      ],
      "metadata": {
        "id": "7QU13EXjzvzL"
      },
      "execution_count": null,
      "outputs": []
    },
    {
      "cell_type": "code",
      "source": [
        "train = df[df['Case']=='Train']\n",
        "test = df[df['Case']=='Test']"
      ],
      "metadata": {
        "id": "MA3_Ue8JzxBW"
      },
      "execution_count": null,
      "outputs": []
    },
    {
      "cell_type": "code",
      "source": [
        "train.head()"
      ],
      "metadata": {
        "id": "hm_G7OkzzyWa"
      },
      "execution_count": null,
      "outputs": []
    },
    {
      "cell_type": "code",
      "source": [
        "fig, ax = plt.subplots()\n",
        "for class_ in pd.unique(df['Class']):\n",
        "  train[train['Class']==class_].plot.scatter('PredictorA','PredictorB', c='none', edgecolor=color_dict[class_],label=class_, ax=ax)"
      ],
      "metadata": {
        "id": "1xKKKnd0zzkI"
      },
      "execution_count": null,
      "outputs": []
    },
    {
      "cell_type": "markdown",
      "source": [
        "**Training a predictive mode**"
      ],
      "metadata": {
        "id": "NXDfgxIYz5om"
      }
    },
    {
      "cell_type": "code",
      "source": [
        "from sklearn.linear_model import LogisticRegression\n",
        "from sklearn import metrics"
      ],
      "metadata": {
        "id": "6gG-zFeIz2kY"
      },
      "execution_count": null,
      "outputs": []
    },
    {
      "cell_type": "code",
      "source": [
        "X_train = train[['PredictorA','PredictorB']]\n",
        "y_train = train['Class']\n",
        "\n",
        "X_test = test[['PredictorA','PredictorB']]\n",
        "y_test = test['Class']"
      ],
      "metadata": {
        "id": "rREj9Jwtz8GB"
      },
      "execution_count": null,
      "outputs": []
    },
    {
      "cell_type": "code",
      "source": [
        "clf = LogisticRegression()\n",
        "clf.fit(X_train, y_train)"
      ],
      "metadata": {
        "id": "glUjns5Oz9we"
      },
      "execution_count": null,
      "outputs": []
    },
    {
      "cell_type": "code",
      "source": [
        "clf.predict(X_test)[0:5].tolist()"
      ],
      "metadata": {
        "id": "oxL4e50Vz_CE"
      },
      "execution_count": null,
      "outputs": []
    },
    {
      "cell_type": "code",
      "source": [
        "y_test[0:5]"
      ],
      "metadata": {
        "id": "4Qrk8jpx0AfS"
      },
      "execution_count": null,
      "outputs": []
    },
    {
      "cell_type": "code",
      "source": [
        "roc_curve = metrics.plot_roc_curve(clf, X_test, y_test)\n",
        "plt.plot([0, 1], [0, 1], color='gray', lw=2, linestyle='--')"
      ],
      "metadata": {
        "id": "nl5mYc8e0B8D"
      },
      "execution_count": null,
      "outputs": []
    },
    {
      "cell_type": "code",
      "source": [
        ""
      ],
      "metadata": {
        "id": "zVVIRDhg0DYj"
      },
      "execution_count": null,
      "outputs": []
    }
  ]
}
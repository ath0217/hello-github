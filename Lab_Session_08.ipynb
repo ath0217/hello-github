{
  "nbformat": 4,
  "nbformat_minor": 0,
  "metadata": {
    "colab": {
      "name": "Lab Session #08",
      "private_outputs": true,
      "provenance": [],
      "authorship_tag": "ABX9TyNUQHyZRD5lirC/+oF2L+PQ",
      "include_colab_link": true
    },
    "kernelspec": {
      "name": "python3",
      "display_name": "Python 3"
    },
    "language_info": {
      "name": "python"
    }
  },
  "cells": [
    {
      "cell_type": "markdown",
      "metadata": {
        "id": "view-in-github",
        "colab_type": "text"
      },
      "source": [
        "<a href=\"https://colab.research.google.com/github/ath0217/hello-github/blob/main/Lab_Session_08.ipynb\" target=\"_parent\"><img src=\"https://colab.research.google.com/assets/colab-badge.svg\" alt=\"Open In Colab\"/></a>"
      ]
    },
    {
      "cell_type": "markdown",
      "source": [
        "**Importing libraries**"
      ],
      "metadata": {
        "id": "YmzBgu3FyDVv"
      }
    },
    {
      "cell_type": "code",
      "execution_count": null,
      "metadata": {
        "id": "U2haFmnOx7_q"
      },
      "outputs": [],
      "source": [
        "import pandas as pd\n",
        "import numpy as np\n",
        "import matplotlib.pyplot as plt\n",
        "import seaborn as sns\n",
        "import plotly.express as px\n",
        "import plotly.graph_objects as go"
      ]
    },
    {
      "cell_type": "code",
      "source": [
        "sns.set_style(\"darkgrid\")"
      ],
      "metadata": {
        "id": "lTTdXmFByGf0"
      },
      "execution_count": null,
      "outputs": []
    },
    {
      "cell_type": "code",
      "source": [
        "!mkdir data"
      ],
      "metadata": {
        "id": "fm-npWsayJhS"
      },
      "execution_count": null,
      "outputs": []
    },
    {
      "cell_type": "code",
      "source": [
        "import gdown\n",
        "\n",
        "urls = ['https://drive.google.com/uc?export=download&id=1G5dtIOtywpDBgREbsf7iDVExz6LVg4DM', # heart  https://drive.google.com/file/d/1G5dtIOtywpDBgREbsf7iDVExz6LVg4DM/view?usp=sharing\n",
        "        'https://drive.google.com/uc?export=download&id=1ULDuvWPWD3LmxpQ6FKUHe1prjdM8LmSY' # hitters https://drive.google.com/file/d/1ULDuvWPWD3LmxpQ6FKUHe1prjdM8LmSY/view?usp=sharing\n",
        "        ]\n",
        "outputs = ['heart.csv','hitters.csv']\n",
        "for url,output in zip(urls,outputs):\n",
        "  gdown.download(url, f'data/{output}', quiet=False)"
      ],
      "metadata": {
        "id": "JI4t7bKeyLB2"
      },
      "execution_count": null,
      "outputs": []
    },
    {
      "cell_type": "markdown",
      "source": [
        "**Synthetic dataset generation**\n"
      ],
      "metadata": {
        "id": "wfib_uYLyN69"
      }
    },
    {
      "cell_type": "code",
      "source": [
        "import time\n",
        "import warnings\n",
        "\n",
        "from sklearn import cluster, datasets, mixture\n",
        "from sklearn.neighbors import kneighbors_graph\n",
        "from sklearn.preprocessing import StandardScaler\n",
        "from itertools import cycle, islice\n",
        "from scipy.cluster import hierarchy"
      ],
      "metadata": {
        "id": "7QP0_DCkyMlk"
      },
      "execution_count": null,
      "outputs": []
    },
    {
      "cell_type": "code",
      "source": [
        "def plot_dendrogram(model, **kwargs):\n",
        "    # Create linkage matrix and then plot the dendrogram\n",
        "\n",
        "    # create the counts of samples under each node\n",
        "    counts = np.zeros(model.children_.shape[0])\n",
        "    n_samples = len(model.labels_)\n",
        "    for i, merge in enumerate(model.children_):\n",
        "        current_count = 0\n",
        "        for child_idx in merge:\n",
        "            if child_idx < n_samples:\n",
        "                current_count += 1  # leaf node\n",
        "            else:\n",
        "                current_count += counts[child_idx - n_samples]\n",
        "        counts[i] = current_count\n",
        "\n",
        "    linkage_matrix = np.column_stack(\n",
        "        [model.children_, model.distances_, counts]\n",
        "    ).astype(float)\n",
        "\n",
        "    # Plot the corresponding dendrogram\n",
        "    hierarchy.dendrogram(linkage_matrix, **kwargs)"
      ],
      "metadata": {
        "id": "2pWcEOvLyRHl"
      },
      "execution_count": null,
      "outputs": []
    },
    {
      "cell_type": "code",
      "source": [
        "np.random.seed(0)\n",
        "\n",
        "# ============\n",
        "# Generate datasets. We choose the size big enough to see the scalability\n",
        "# of the algorithms, but not too big to avoid too long running times\n",
        "# ============\n",
        "n_samples = 500\n",
        "noisy_circles = datasets.make_circles(n_samples=n_samples, factor=0.5, noise=0.05)\n",
        "noisy_moons = datasets.make_moons(n_samples=n_samples, noise=0.05)\n",
        "blobs = datasets.make_blobs(n_samples=n_samples, random_state=8)\n",
        "no_structure = np.random.rand(n_samples, 2), None\n",
        "\n",
        "# Anisotropicly distributed data (data having different properties in different directions)\n",
        "random_state = 170\n",
        "X, y = datasets.make_blobs(n_samples=n_samples, random_state=random_state)\n",
        "transformation = [[0.6, -0.6], [-0.4, 0.8]]\n",
        "X_aniso = np.dot(X, transformation)\n",
        "aniso = (X_aniso, y)\n",
        "\n",
        "# blobs with varied variances\n",
        "varied = datasets.make_blobs(\n",
        "    n_samples=n_samples, cluster_std=[1.0, 2.5, 0.5], random_state=random_state\n",
        ")"
      ],
      "metadata": {
        "id": "zC-CgiRmyTTY"
      },
      "execution_count": null,
      "outputs": []
    },
    {
      "cell_type": "code",
      "source": [
        "default_base = {\n",
        "    \"quantile\": 0.3,\n",
        "    \"eps\": 0.3,\n",
        "    \"damping\": 0.9,\n",
        "    \"preference\": -200,\n",
        "    \"n_neighbors\": 3,\n",
        "    \"n_clusters\": 3,\n",
        "    \"min_samples\": 7,\n",
        "    \"xi\": 0.05,\n",
        "    \"min_cluster_size\": 0.1,\n",
        "}\n",
        "\n",
        "datasets_ = [\n",
        "    (\n",
        "        noisy_circles,\n",
        "        {\n",
        "            \"damping\": 0.77,\n",
        "            \"preference\": -240,\n",
        "            \"quantile\": 0.2,\n",
        "            \"n_clusters\": 2,\n",
        "            \"min_samples\": 7,\n",
        "            \"xi\": 0.08,\n",
        "            \"name\":'Noisy circles'\n",
        "        },\n",
        "    ),\n",
        "    (\n",
        "        noisy_moons,\n",
        "        {\n",
        "            \"damping\": 0.75,\n",
        "            \"preference\": -220,\n",
        "            \"n_clusters\": 2,\n",
        "            \"min_samples\": 7,\n",
        "            \"xi\": 0.1,\n",
        "         \"name\":'Noisy moons'\n",
        "        },\n",
        "    ),\n",
        "    (\n",
        "        varied,\n",
        "        {\n",
        "            \"eps\": 0.18,\n",
        "            \"n_neighbors\": 2,\n",
        "            \"min_samples\": 7,\n",
        "            \"xi\": 0.01,\n",
        "            \"min_cluster_size\": 0.2,\n",
        "         \"name\":'Blobs with varied variances'\n",
        "        },\n",
        "    ),\n",
        "    (\n",
        "        aniso,\n",
        "        {\n",
        "            \"eps\": 0.15,\n",
        "            \"n_neighbors\": 2,\n",
        "            \"min_samples\": 7,\n",
        "            \"xi\": 0.1,\n",
        "            \"min_cluster_size\": 0.2,\n",
        "         \"name\":'Anisotropicly distributed'\n",
        "        },\n",
        "    ),\n",
        "    (blobs, {\"min_samples\": 7, \"xi\": 0.1, \"min_cluster_size\": 0.2,\"name\":'Blobs'}),\n",
        "    (no_structure, {\"name\":'No structure'}),\n",
        "]"
      ],
      "metadata": {
        "id": "NzpI1qGZycMO"
      },
      "execution_count": null,
      "outputs": []
    },
    {
      "cell_type": "code",
      "source": [
        "fig, axes = plt.subplots(ncols=len(datasets_),figsize=(4*len(datasets_),4))\n",
        "palette = [ \"#377eb8\", \"#ff7f00\", \"#4daf4a\", \"#f781bf\" ]\n",
        "for i_dataset, (ds, algo_params) in enumerate(datasets_):\n",
        "  params = default_base.copy()\n",
        "  params.update(algo_params)\n",
        "  X, y = ds\n",
        "  sns.scatterplot(x=X[:,0],y=X[:,1],hue=y, palette=palette[:params[\"n_clusters\"]],ax=axes[i_dataset])\n",
        "  axes[i_dataset].set_title(params['name'])"
      ],
      "metadata": {
        "id": "xlkKlIn3yWEN"
      },
      "execution_count": null,
      "outputs": []
    },
    {
      "cell_type": "code",
      "source": [
        "plt.figure(figsize=(11 * 2 + 3, 13))\n",
        "plt.subplots_adjust(\n",
        "    left=0.02, right=0.98, bottom=0.001, top=0.95, wspace=0.05, hspace=0.01\n",
        ")\n",
        "plot_num = 1\n",
        "for i_dataset, (dataset, algo_params) in enumerate(datasets_):\n",
        "    # update parameters with dataset-specific values\n",
        "    params = default_base.copy()\n",
        "    params.update(algo_params)\n",
        "\n",
        "    X, y = dataset\n",
        "\n",
        "    # normalize dataset for easier parameter selection\n",
        "    X = StandardScaler().fit_transform(X)\n",
        "\n",
        "   \n",
        "    # ============\n",
        "    # Create cluster objects\n",
        "    # ============\n",
        "    \n",
        "    min_batchkmeans = cluster.MiniBatchKMeans(n_clusters=params[\"n_clusters\"])\n",
        "    regulark_means = cluster.KMeans(n_clusters=params[\"n_clusters\"])\n",
        "    \n",
        "    average_linkage = cluster.AgglomerativeClustering(\n",
        "        linkage=\"average\",\n",
        "        affinity=\"manhattan\",\n",
        "        n_clusters=params[\"n_clusters\"],\n",
        "        #connectivity=connectivity,\n",
        "    )\n",
        "\n",
        "    single_linkage = cluster.AgglomerativeClustering(\n",
        "        linkage=\"single\",\n",
        "        affinity=\"manhattan\",\n",
        "        n_clusters=params[\"n_clusters\"],\n",
        "        #connectivity=connectivity,\n",
        "    )\n",
        "    complete_linkage = cluster.AgglomerativeClustering(\n",
        "        linkage=\"complete\",\n",
        "        affinity=\"manhattan\",\n",
        "        n_clusters=params[\"n_clusters\"],\n",
        "        #connectivity=connectivity,\n",
        "    )\n",
        "\n",
        "    average_linkage_e = cluster.AgglomerativeClustering(\n",
        "        linkage=\"average\",\n",
        "        affinity=\"euclidean\",\n",
        "        n_clusters=params[\"n_clusters\"],\n",
        "        #connectivity=connectivity,\n",
        "    )\n",
        "\n",
        "    single_linkage_e = cluster.AgglomerativeClustering(\n",
        "        linkage=\"single\",\n",
        "        affinity=\"euclidean\",\n",
        "        n_clusters=params[\"n_clusters\"],\n",
        "        #connectivity=connectivity,\n",
        "    )\n",
        "    complete_linkage_e = cluster.AgglomerativeClustering(\n",
        "        linkage=\"complete\",\n",
        "        affinity=\"euclidean\",\n",
        "        n_clusters=params[\"n_clusters\"],\n",
        "        #connectivity=connectivity,\n",
        "    )\n",
        "\n",
        "    average_linkage_c = cluster.AgglomerativeClustering(\n",
        "        linkage=\"average\",\n",
        "        affinity=\"cosine\",\n",
        "        n_clusters=params[\"n_clusters\"],\n",
        "        #connectivity=connectivity,\n",
        "    )\n",
        "\n",
        "    single_linkage_c = cluster.AgglomerativeClustering(\n",
        "        linkage=\"single\",\n",
        "        affinity=\"cosine\",\n",
        "        n_clusters=params[\"n_clusters\"],\n",
        "        #connectivity=connectivity,\n",
        "    )\n",
        "    complete_linkage_c = cluster.AgglomerativeClustering(\n",
        "        linkage=\"complete\",\n",
        "        affinity=\"cosine\",\n",
        "        n_clusters=params[\"n_clusters\"],\n",
        "        #connectivity=connectivity,\n",
        "    )\n",
        "\n",
        "    dbscan = cluster.DBSCAN(eps=params[\"eps\"])\n",
        "    \n",
        "\n",
        "    clustering_algorithms = (\n",
        "        (\"Grand truth\",None),\n",
        "        (\"MiniBatch\\nKMeans\", min_batchkmeans),\n",
        "        (\"Regular\\nKMeans\", regulark_means),\n",
        "        (\"Average\\nManhattan \", average_linkage),\n",
        "        (\"Single\\nManhattan \", single_linkage),\n",
        "        (\"Complete\\nManhattan \", complete_linkage),\n",
        "        (\"Average\\nEuclidean \", average_linkage_e),\n",
        "        (\"Single\\nEuclidean \", single_linkage_e),\n",
        "        (\"Complete\\nEuclidean \", complete_linkage_e),\n",
        "        (\"Average\\nCosine \", average_linkage_c),\n",
        "        (\"Single\\nCosine \", single_linkage_c),\n",
        "        (\"Complete\\nCosine \", complete_linkage_c),\n",
        "        (\"DBSCAN\", dbscan),\n",
        "    )\n",
        "\n",
        "    for name, algorithm in clustering_algorithms:\n",
        "        t0 = time.time()\n",
        "\n",
        "        if name!='Grand truth':            \n",
        "          # catch warnings related to kneighbors_graph\n",
        "          with warnings.catch_warnings():\n",
        "              warnings.filterwarnings(\n",
        "                  \"ignore\",\n",
        "                  message=\"the number of connected components of the \"\n",
        "                  + \"connectivity matrix is [0-9]{1,2}\"\n",
        "                  + \" > 1. Completing it to avoid stopping the tree early.\",\n",
        "                  category=UserWarning,\n",
        "              )\n",
        "              warnings.filterwarnings(\n",
        "                  \"ignore\",\n",
        "                  message=\"Graph is not fully connected, spectral embedding\"\n",
        "                  + \" may not work as expected.\",\n",
        "                  category=UserWarning,\n",
        "              )\n",
        "              algorithm.fit(X)\n",
        "\n",
        "              t1 = time.time()\n",
        "              if hasattr(algorithm, \"labels_\"):\n",
        "                  y_pred = algorithm.labels_.astype(int)\n",
        "              else:\n",
        "                  y_pred = algorithm.predict(X)\n",
        "          \n",
        "\n",
        "          plt.subplot(len(datasets_), len(clustering_algorithms), plot_num)\n",
        "          if i_dataset == 0:\n",
        "            plt.title(name, size=18)\n",
        "\n",
        "            \n",
        "          palette = [\n",
        "                                \"#377eb8\",\n",
        "                                \"#ff7f00\",\n",
        "                                \"#4daf4a\",\n",
        "                                \"#f781bf\",\n",
        "                                \"#a65628\",\n",
        "                                \"#984ea3\",\n",
        "                                \"#999999\",\n",
        "                                \"#e41a1c\",\n",
        "                                \"#dede00\",\n",
        "                            ]\n",
        "          colors = np.array(\n",
        "                list(\n",
        "                    islice(\n",
        "                        cycle(\n",
        "                            palette\n",
        "                        ),\n",
        "                        int(max(y_pred) + 1),\n",
        "                    )\n",
        "                )\n",
        "            )        \n",
        "            # add black color for outliers (if any)\n",
        "          colors = np.append(colors, [\"#000000\"])\n",
        "        if name=='Grand truth':\n",
        "          plt.subplot(len(datasets_), len(clustering_algorithms), plot_num)\n",
        "          sns.scatterplot(x=X[:,0],y=X[:,1],hue=y, palette=palette[:params[\"n_clusters\"]],legend=False)\n",
        "        else:\n",
        "          plt.scatter(X[:, 0], X[:, 1], s=10, color=colors[y_pred])\n",
        "\n",
        "          plt.xlim(-2.5, 2.5)\n",
        "          plt.ylim(-2.5, 2.5)\n",
        "          plt.xticks(())\n",
        "          plt.yticks(())\n",
        "          plt.text(\n",
        "              0.99,\n",
        "              0.01,\n",
        "              (\"%.4fs\" % (t1 - t0)).lstrip(\"0\"),\n",
        "              transform=plt.gca().transAxes,\n",
        "              size=11,\n",
        "              horizontalalignment=\"right\",\n",
        "          )\n",
        "        plot_num += 1\n",
        "\n",
        "plt.show()"
      ],
      "metadata": {
        "id": "OnmHwcsP0_oc"
      },
      "execution_count": null,
      "outputs": []
    },
    {
      "cell_type": "code",
      "source": [
        "plt.figure(figsize=(11 * 2 + 3, 13))\n",
        "plt.subplots_adjust(\n",
        "    left=0.02, right=0.98, bottom=0.001, top=0.95, wspace=0.05, hspace=0.01\n",
        ")\n",
        "plot_num = 1\n",
        "for i_dataset, (dataset, algo_params) in enumerate(datasets_):\n",
        "    # update parameters with dataset-specific values\n",
        "    params = default_base.copy()\n",
        "    params.update(algo_params)\n",
        "\n",
        "    X, y = dataset\n",
        "\n",
        "    # normalize dataset for easier parameter selection\n",
        "    X = StandardScaler().fit_transform(X)\n",
        "\n",
        "   \n",
        "    # ============\n",
        "    # Create cluster objects\n",
        "    # ============\n",
        "    \n",
        "    average_linkage_e =   cluster.AgglomerativeClustering(\n",
        "        linkage=\"average\",\n",
        "        affinity=\"euclidean\",\n",
        "        n_clusters=params[\"n_clusters\"],\n",
        "        compute_distances=True\n",
        "        #connectivity=connectivity,\n",
        "    )\n",
        "\n",
        "    single_linkage_e = cluster.AgglomerativeClustering(\n",
        "        linkage=\"single\",\n",
        "        affinity=\"euclidean\",\n",
        "        n_clusters=params[\"n_clusters\"],\n",
        "        compute_distances=True\n",
        "        #connectivity=connectivity,\n",
        "    )\n",
        "    complete_linkage_e = cluster.AgglomerativeClustering(\n",
        "        linkage=\"complete\",\n",
        "        affinity=\"euclidean\",\n",
        "        n_clusters=params[\"n_clusters\"],\n",
        "        compute_distances=True\n",
        "        #connectivity=connectivity,\n",
        "    )\n",
        "\n",
        "   \n",
        "    clustering_algorithms = (\n",
        "        (\"Grand truth\",None),        \n",
        "        (\"Average\\nEuclidean \", average_linkage_e),\n",
        "        (\"Single\\nEuclidean \", single_linkage_e),\n",
        "        (\"Complete\\nEuclidean \", complete_linkage_e),\n",
        "       \n",
        "    )\n",
        "\n",
        "    for name, algorithm in clustering_algorithms:\n",
        "        t0 = time.time()\n",
        "\n",
        "        linkage=None\n",
        "        if name!='Grand truth':            \n",
        "          # catch warnings related to kneighbors_graph\n",
        "          with warnings.catch_warnings():\n",
        "              warnings.filterwarnings(\n",
        "                  \"ignore\",\n",
        "                  message=\"the number of connected components of the \"\n",
        "                  + \"connectivity matrix is [0-9]{1,2}\"\n",
        "                  + \" > 1. Completing it to avoid stopping the tree early.\",\n",
        "                  category=UserWarning,\n",
        "              )\n",
        "              warnings.filterwarnings(\n",
        "                  \"ignore\",\n",
        "                  message=\"Graph is not fully connected, spectral embedding\"\n",
        "                  + \" may not work as expected.\",\n",
        "                  category=UserWarning,\n",
        "              )\n",
        "              model = algorithm.fit(X)\n",
        "              # if 'Average' in name:\n",
        "              #   linkage = hierarchy.average(X)\n",
        "              # elif 'Single' in name:\n",
        "              #   linkage = hierarchy.single(X)\n",
        "              # else:\n",
        "              #   linkage = hierarchy.complete(X)\n",
        "\n",
        "          t1 = time.time()\n",
        "          if hasattr(algorithm, \"labels_\"):\n",
        "              y_pred = algorithm.labels_.astype(int)\n",
        "          else:\n",
        "              y_pred = algorithm.predict(X)\n",
        "\n",
        "        plt.subplot(len(datasets_), len(clustering_algorithms)+3, plot_num)\n",
        "        if i_dataset == 0:\n",
        "            plt.title(name, size=18)\n",
        "\n",
        "        \n",
        "        palette = [\n",
        "                            \"#377eb8\",\n",
        "                            \"#ff7f00\",\n",
        "                            \"#4daf4a\",\n",
        "                            \"#f781bf\",\n",
        "                            \"#a65628\",\n",
        "                            \"#984ea3\",\n",
        "                            \"#999999\",\n",
        "                            \"#e41a1c\",\n",
        "                            \"#dede00\",\n",
        "                        ]\n",
        "        colors = np.array(\n",
        "            list(\n",
        "                islice(\n",
        "                    cycle(\n",
        "                        palette\n",
        "                    ),\n",
        "                    int(max(y_pred) + 1),\n",
        "                )\n",
        "            )\n",
        "        )        \n",
        "        if name=='Grand truth':\n",
        "          sns.scatterplot(x=X[:,0],y=X[:,1],hue=y, palette=palette[:params[\"n_clusters\"]],legend=False)\n",
        "        else:\n",
        "          plt.scatter(X[:, 0], X[:, 1], s=10, color=colors[y_pred])\n",
        "\n",
        "          plt.xlim(-2.5, 2.5)\n",
        "          plt.ylim(-2.5, 2.5)\n",
        "          plt.xticks(())\n",
        "          plt.yticks(())\n",
        "          plt.text(\n",
        "              0.99,\n",
        "              0.01,\n",
        "              (\"%.4fs\" % (t1 - t0)).lstrip(\"0\"),\n",
        "              transform=plt.gca().transAxes,\n",
        "              size=11,\n",
        "              horizontalalignment=\"right\",\n",
        "          )\n",
        "          plt.subplot(len(datasets_), len(clustering_algorithms)+3, plot_num +1 )\n",
        "          \n",
        "          \n",
        "          plot_dendrogram(model, truncate_mode=\"level\", p=3)\n",
        "          plot_num += 1\n",
        "        plot_num += 1\n",
        "\n",
        "plt.tight_layout()\n",
        "plt.show()"
      ],
      "metadata": {
        "id": "fy6UpQiO1GBX"
      },
      "execution_count": null,
      "outputs": []
    },
    {
      "cell_type": "markdown",
      "source": [
        "**Simpler example**\n"
      ],
      "metadata": {
        "id": "Kh6OyVfs1Wyc"
      }
    },
    {
      "cell_type": "code",
      "source": [
        "# Generate data\n",
        "np.random.seed(2)\n",
        "X = np.random.standard_normal((50,2))\n",
        "X[:25,0] = X[:25,0]+3\n",
        "X[:25,1] = X[:25,1]-4"
      ],
      "metadata": {
        "id": "Gzpn7od91Rns"
      },
      "execution_count": null,
      "outputs": []
    },
    {
      "cell_type": "code",
      "source": [
        "km1 = cluster.KMeans(n_clusters=2, n_init=20)\n",
        "km1.fit(X)"
      ],
      "metadata": {
        "id": "M0TCTbPp1aOI"
      },
      "execution_count": null,
      "outputs": []
    },
    {
      "cell_type": "code",
      "source": [
        "km1.labels_"
      ],
      "metadata": {
        "id": "8fWrmqM31bx4"
      },
      "execution_count": null,
      "outputs": []
    },
    {
      "cell_type": "code",
      "source": [
        "np.random.seed(4)\n",
        "km2 = cluster.KMeans(n_clusters=3, n_init=20)\n",
        "km2.fit(X)"
      ],
      "metadata": {
        "id": "16DhOgAM1dR1"
      },
      "execution_count": null,
      "outputs": []
    },
    {
      "cell_type": "code",
      "source": [
        "km2.cluster_centers_"
      ],
      "metadata": {
        "id": "X876NEMg1eg3"
      },
      "execution_count": null,
      "outputs": []
    },
    {
      "cell_type": "code",
      "source": [
        "km2.labels_"
      ],
      "metadata": {
        "id": "_8UZ4v8I1fmJ"
      },
      "execution_count": null,
      "outputs": []
    },
    {
      "cell_type": "code",
      "source": [
        "# Sum of distances of samples to their closest cluster center.\n",
        "km2.inertia_"
      ],
      "metadata": {
        "id": "HLo5oaWO1ghf"
      },
      "execution_count": null,
      "outputs": []
    },
    {
      "cell_type": "code",
      "source": [
        "fig, (ax1, ax2) = plt.subplots(1,2, figsize=(14,5))\n",
        "\n",
        "ax1.scatter(X[:,0], X[:,1], s=40, c=km1.labels_, cmap=plt.cm.prism) \n",
        "ax1.set_title('K-Means Clustering Results with K=2')\n",
        "ax1.scatter(km1.cluster_centers_[:,0], km1.cluster_centers_[:,1], marker='+', s=100, c='k', linewidth=2)\n",
        "\n",
        "ax2.scatter(X[:,0], X[:,1], s=40, c=km2.labels_, cmap=plt.cm.prism) \n",
        "ax2.set_title('K-Means Clustering Results with K=3')\n",
        "ax2.scatter(km2.cluster_centers_[:,0], km2.cluster_centers_[:,1], marker='+', s=100, c='k', linewidth=2);"
      ],
      "metadata": {
        "id": "hb_iJ1Gd1hpp"
      },
      "execution_count": null,
      "outputs": []
    },
    {
      "cell_type": "markdown",
      "source": [
        "**hierarchical clustering using scipy**\n"
      ],
      "metadata": {
        "id": "y-q5upfu1laK"
      }
    },
    {
      "cell_type": "code",
      "source": [
        "fig, (ax1,ax2,ax3) = plt.subplots(3,1, figsize=(15,18))\n",
        "\n",
        "for linkage, cluster_, ax in zip([hierarchy.complete(X), hierarchy.average(X), hierarchy.single(X)], ['c1','c2','c3'],\n",
        "                                [ax1,ax2,ax3]):\n",
        "    cluster_ = hierarchy.dendrogram(linkage, ax=ax, color_threshold=0)\n",
        "\n",
        "ax1.set_title('Complete Linkage')\n",
        "ax2.set_title('Average Linkage')\n",
        "ax3.set_title('Single Linkage');"
      ],
      "metadata": {
        "id": "mgQpPTfx1jx4"
      },
      "execution_count": null,
      "outputs": []
    }
  ]
}
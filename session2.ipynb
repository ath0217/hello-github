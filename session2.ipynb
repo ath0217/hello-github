{
  "nbformat": 4,
  "nbformat_minor": 0,
  "metadata": {
    "colab": {
      "name": "session2.ipynb",
      "private_outputs": true,
      "provenance": [],
      "authorship_tag": "ABX9TyMNL8s7hxB0CTsZFAW1WNG7",
      "include_colab_link": true
    },
    "kernelspec": {
      "name": "python3",
      "display_name": "Python 3"
    },
    "language_info": {
      "name": "python"
    }
  },
  "cells": [
    {
      "cell_type": "markdown",
      "metadata": {
        "id": "view-in-github",
        "colab_type": "text"
      },
      "source": [
        "<a href=\"https://colab.research.google.com/github/ath0217/hello-github/blob/main/session2.ipynb\" target=\"_parent\"><img src=\"https://colab.research.google.com/assets/colab-badge.svg\" alt=\"Open In Colab\"/></a>"
      ]
    },
    {
      "cell_type": "code",
      "execution_count": null,
      "metadata": {
        "id": "1_d4wXMxDlUB"
      },
      "outputs": [],
      "source": [
        "import pandas as pd\n",
        "import numpy as np\n",
        "import matplotlib.pyplot as plt\n",
        "import seaborn as sns\n",
        "import plotly.express as px\n",
        "import plotly.graph_objects as go"
      ]
    },
    {
      "cell_type": "code",
      "source": [
        "!mkdir data"
      ],
      "metadata": {
        "id": "j3NSv776ETVg"
      },
      "execution_count": null,
      "outputs": []
    },
    {
      "cell_type": "code",
      "source": [
        "import gdown\n",
        "\n",
        "urls = ['https://drive.google.com/uc?export=download&id=1GiEi6LVHBAAX4IWVA2gRH1gJZ1vLYghG', # chicago_train_data  https://drive.google.com/file/d/1GiEi6LVHBAAX4IWVA2gRH1gJZ1vLYghG/view?usp=sharing\n",
        "        'https://drive.google.com/uc?export=download&id=1LIK0YFER5ve9Wn7Uap4Zb6f5pXcAExZ-', # train_days   https://drive.google.com/file/d/1LIK0YFER5ve9Wn7Uap4Zb6f5pXcAExZ-/view?usp=sharing \n",
        "        'https://drive.google.com/uc?export=download&id=18pIOZQXBOSwT-t69icoGZgZh-kUUFMrN', # extra data chicago https://drive.google.com/file/d/18pIOZQXBOSwT-t69icoGZgZh-kUUFMrN/view?usp=sharing\n",
        "        'https://drive.google.com/uc?export=download&id=13ofbMM3hiY44MlHmWWQw9_6WGGoV4J4o', # chichago_gas_prices https://drive.google.com/file/d/13ofbMM3hiY44MlHmWWQw9_6WGGoV4J4o/view?usp=sharing \n",
        "        'https://drive.google.com/uc?export=download&id=1Zd_v6ufxJ8FEHSVgq9jKQbpPu5dW1rFX' # https://drive.google.com/file/d/1Zd_v6ufxJ8FEHSVgq9jKQbpPu5dW1rFX/view?usp=sharing\n",
        "        ]\n",
        "outputs = ['chicago_train_data.csv','train_days.csv' ,\n",
        "           'extra_data_chicago.csv','chicago_gas_prices.csv',\n",
        "           'lag_14_data.csv']\n",
        "for url,output in zip(urls,outputs):\n",
        "  gdown.download(url, f'data/{output}', quiet=False)"
      ],
      "metadata": {
        "id": "g0gZEhmTEV7B"
      },
      "execution_count": null,
      "outputs": []
    },
    {
      "cell_type": "code",
      "source": [
        "df = pd.read_csv('data/chicago_train_data.csv', parse_dates=True, index_col=2)\n",
        "train_days = pd.read_csv('data/train_days.csv',index_col=1, parse_dates=True)\n",
        "extra_data = pd.read_csv('data/extra_data_chicago.csv',index_col=0, parse_dates=True)"
      ],
      "metadata": {
        "id": "p_dq9e48EXrU"
      },
      "execution_count": null,
      "outputs": []
    },
    {
      "cell_type": "code",
      "source": [
        "df.head()"
      ],
      "metadata": {
        "id": "PJ2evTx2Ebai"
      },
      "execution_count": null,
      "outputs": []
    },
    {
      "cell_type": "code",
      "source": [
        "df.info()"
      ],
      "metadata": {
        "id": "O-0gUlYkEdrj"
      },
      "execution_count": null,
      "outputs": []
    },
    {
      "cell_type": "code",
      "source": [
        "df = df.sort_index()\n",
        "df.info()"
      ],
      "metadata": {
        "id": "pGWQgZoyE3Eg"
      },
      "execution_count": null,
      "outputs": []
    },
    {
      "cell_type": "code",
      "source": [
        "df.head()"
      ],
      "metadata": {
        "id": "pLJo6ejDE9in"
      },
      "execution_count": null,
      "outputs": []
    },
    {
      "cell_type": "code",
      "source": [
        "df.loc[train_days.index]"
      ],
      "metadata": {
        "id": "XTJkwLmPFPmP"
      },
      "execution_count": null,
      "outputs": []
    },
    {
      "cell_type": "code",
      "source": [
        "df.index.year.unique()"
      ],
      "metadata": {
        "id": "yaR2HDOdFTCg"
      },
      "execution_count": null,
      "outputs": []
    },
    {
      "cell_type": "code",
      "source": [
        "df_cl = df[df.stationname=='Clark/Lake'][['daytype'\t,'rides']] # let's focus on Clark/Lake station\n",
        "df_cl ['rides_x1000']= df_cl.rides/1000 # transform \n",
        "df_cl['part_of_the_week']=df_cl.index.weekday.map(lambda x: 'Weekday' if x<5 else 'Weekend')"
      ],
      "metadata": {
        "id": "xasjO_sGFbV5"
      },
      "execution_count": null,
      "outputs": []
    },
    {
      "cell_type": "code",
      "source": [
        "df_cl.head()"
      ],
      "metadata": {
        "id": "ilG2N1nYFdSd"
      },
      "execution_count": null,
      "outputs": []
    },
    {
      "cell_type": "code",
      "source": [
        "df_cl.index.duplicated().sum()"
      ],
      "metadata": {
        "id": "Ug-XCW4KFhWK"
      },
      "execution_count": null,
      "outputs": []
    },
    {
      "cell_type": "code",
      "source": [
        "df_cl = df_cl[~df_cl.index.duplicated(keep='first')] # there was one record duplicated index 3815 value '2011-07-03'\n",
        "print(df_cl.index.duplicated().sum())\n",
        "train_df_cl = df_cl.loc[train_days.index] # define our training data with train days"
      ],
      "metadata": {
        "id": "CnXtEs42FjDQ"
      },
      "execution_count": null,
      "outputs": []
    },
    {
      "cell_type": "code",
      "source": [
        "sns.set_style(\"darkgrid\")"
      ],
      "metadata": {
        "id": "qzlboVfHFlH2"
      },
      "execution_count": null,
      "outputs": []
    },
    {
      "cell_type": "code",
      "source": [
        "fig, axs = plt.subplots(2,2, figsize=(12,8)) #create grid\n",
        "sns.boxplot(data=train_df_cl, x='rides_x1000', orient='h', ax=axs[0,0])\n",
        "sns.histplot(data=train_df_cl,x='rides_x1000', binwidth=0.7, ax=axs[0,1])\n",
        "sns.violinplot(data=train_df_cl,x='rides_x1000', ax=axs[1,0])\n",
        "sns.kdeplot(data=train_df_cl, x='rides_x1000', ax=axs[1,1])\n",
        "plt.tight_layout()"
      ],
      "metadata": {
        "id": "NFxKWX8hGuMl"
      },
      "execution_count": null,
      "outputs": []
    },
    {
      "cell_type": "code",
      "source": [
        "g = sns.FacetGrid(train_df_cl, sharey=False, row='part_of_the_week',  hue='part_of_the_week',height=3, aspect=3)\n",
        "g.map_dataframe(sns.histplot, x='rides', log_scale=True, binwidth=0.03)"
      ],
      "metadata": {
        "id": "LMPISsuQGws4"
      },
      "execution_count": null,
      "outputs": []
    },
    {
      "cell_type": "code",
      "source": [
        "train_df_cl['two_week_lag_rides'] = train_df_cl['rides'].shift(periods=14, fill_value = 0) # We create a lagging variable of two weeks\n",
        "train_df_cl ['two_week_lag_rides_x1000']= train_df_cl['two_week_lag_rides']/1000"
      ],
      "metadata": {
        "id": "oeo2LRfSMocn"
      },
      "execution_count": null,
      "outputs": []
    },
    {
      "cell_type": "code",
      "source": [
        "train_df_cl.head(16)"
      ],
      "metadata": {
        "id": "VR9eIb2PORgZ"
      },
      "execution_count": null,
      "outputs": []
    },
    {
      "cell_type": "code",
      "source": [
        "plt.figure(figsize=(10,10)) \n",
        "sns.scatterplot(data=train_df_cl, x='two_week_lag_rides_x1000', y='rides_x1000', hue='part_of_the_week')"
      ],
      "metadata": {
        "id": "LJ-80wn_OTZu"
      },
      "execution_count": null,
      "outputs": []
    },
    {
      "cell_type": "code",
      "source": [
        "train_df_cl['less_than_10000']= train_df_cl.rides<=10000\n",
        "train_df_cl['less_than_10000'] = train_df_cl['less_than_10000'].astype(int) # to transforme it to int, i.e. True=1 and False=0\n",
        "train_df_cl['month_name'] = train_df_cl.index.month_name() \n",
        "train_df_cl['month'] = train_df_cl.index.month\n",
        "train_df_cl['day'] = train_df_cl.index.day\n",
        "train_df_cl['month_day']= train_df_cl['month'].apply('{:0>2d}'.format) +'-' + train_df_cl['day'].apply('{:0>2d}'.format) # To create a format mm-dd\n",
        "train_df_cl['year'] = train_df_cl.index.year"
      ],
      "metadata": {
        "id": "x2ecYo6-OVEA"
      },
      "execution_count": null,
      "outputs": []
    },
    {
      "cell_type": "code",
      "source": [
        "train_df_cl['2001-02'].head()"
      ],
      "metadata": {
        "id": "met65_WxQQXF"
      },
      "execution_count": null,
      "outputs": []
    },
    {
      "cell_type": "code",
      "source": [
        "heat_map_data = train_df_cl[train_df_cl.part_of_the_week=='Weekday'].pivot_table(index='month_day', columns='year', values='less_than_10000', fill_value=0)"
      ],
      "metadata": {
        "id": "QEQq2xVrQSD-"
      },
      "execution_count": null,
      "outputs": []
    },
    {
      "cell_type": "code",
      "source": [
        "heat_map_data.head(10)"
      ],
      "metadata": {
        "id": "EO5PnrvAQUKO"
      },
      "execution_count": null,
      "outputs": []
    },
    {
      "cell_type": "code",
      "source": [
        "plt.figure(figsize=(10,10))\n",
        "ax_hm = sns.heatmap(data=heat_map_data, cmap=['white','red'], cbar=False, yticklabels=15)\n",
        "ax_hm.invert_yaxis()"
      ],
      "metadata": {
        "id": "elhshhufQVg2"
      },
      "execution_count": null,
      "outputs": []
    },
    {
      "cell_type": "code",
      "source": [
        "from scipy.stats.mstats import gmean"
      ],
      "metadata": {
        "id": "Cs4wJHqVURcK"
      },
      "execution_count": null,
      "outputs": []
    },
    {
      "cell_type": "code",
      "source": [
        "line_plot_data_gmean = train_df_cl.groupby([pd.Grouper(freq='M'),'part_of_the_week']).agg({'rides_x1000':gmean, 'month_name':max, 'year':max}).reset_index()\n",
        "line_plot_data_gmean.set_index('date', inplace=True)\n",
        "line_plot_data_mean = train_df_cl.groupby([pd.Grouper(freq='M'),'part_of_the_week']).agg({'rides_x1000':'mean', 'month_name':max, 'year':max}).reset_index()\n",
        "line_plot_data_mean.set_index('date', inplace=True)"
      ],
      "metadata": {
        "id": "94QVaQy4UZJe"
      },
      "execution_count": null,
      "outputs": []
    },
    {
      "cell_type": "code",
      "source": [
        "line_plot_data_gmean.head()"
      ],
      "metadata": {
        "id": "3ddTE6WXWO9O"
      },
      "execution_count": null,
      "outputs": []
    },
    {
      "cell_type": "code",
      "source": [
        "gline = sns.FacetGrid(line_plot_data_gmean, sharex=False, col='part_of_the_week', hue='year',height=6, aspect=2, palette='gist_heat_r')\n",
        "gline.map_dataframe(sns.lineplot, x='month_name', y='rides_x1000', legend='full')\n",
        "gline.axes[0,1].legend()\n",
        "gline.set_xticklabels(rotation=30)"
      ],
      "metadata": {
        "id": "h5s_TRI7WQnn"
      },
      "execution_count": null,
      "outputs": []
    },
    {
      "cell_type": "code",
      "source": [
        "gline = sns.FacetGrid(line_plot_data_mean, sharex=False, col='part_of_the_week', hue='year',height=6, aspect=2, palette='gist_heat_r')\n",
        "gline.map_dataframe(sns.lineplot, x='month_name', y='rides_x1000', legend='full')\n",
        "gline.axes[0,1].legend()"
      ],
      "metadata": {
        "id": "NsdwNNSHWSZR"
      },
      "execution_count": null,
      "outputs": []
    },
    {
      "cell_type": "code",
      "source": [
        "fig = px.line(line_plot_data_gmean, x='month_name', y='rides_x1000', facet_col='part_of_the_week', color='year', color_discrete_sequence=px.colors.qualitative.Alphabet)\n",
        "fig.update_xaxes(tickangle=-45)\n",
        "fig.show()"
      ],
      "metadata": {
        "id": "PK0avMaNWUx_"
      },
      "execution_count": null,
      "outputs": []
    },
    {
      "cell_type": "code",
      "source": [
        "gas_price_df = pd.read_csv('data/chicago_gas_prices.csv',index_col=0, parse_dates=True)"
      ],
      "metadata": {
        "id": "k2Q6qZ72XeOs"
      },
      "execution_count": null,
      "outputs": []
    },
    {
      "cell_type": "code",
      "source": [
        "gas_price_df = gas_price_df.sort_index()"
      ],
      "metadata": {
        "id": "SC42cgEcYRno"
      },
      "execution_count": null,
      "outputs": []
    },
    {
      "cell_type": "code",
      "source": [
        "gas_price_df.head()"
      ],
      "metadata": {
        "id": "JHG7IfbTYTEx"
      },
      "execution_count": null,
      "outputs": []
    },
    {
      "cell_type": "code",
      "source": [
        "line_plot_gas = gas_price_df['2001-01':'2016-08'].groupby(pd.Grouper(freq='M')).agg({'gas_price':'mean', 'month_name':max, 'year':max}).reset_index()\n",
        "line_plot_gas.set_index('date', inplace=True)"
      ],
      "metadata": {
        "id": "bAGEHLV_YWDd"
      },
      "execution_count": null,
      "outputs": []
    },
    {
      "cell_type": "code",
      "source": [
        "line_plot_gas_lagged.head()"
      ],
      "metadata": {
        "id": "KMI26dXPYzAA"
      },
      "execution_count": null,
      "outputs": []
    },
    {
      "cell_type": "code",
      "source": [
        "line_plot_data_gmean.loc[line_plot_data_gmean.part_of_the_week=='Weekday', 'gas_price'] = line_plot_gas_lagged\n",
        "line_plot_data_gmean.loc[line_plot_data_gmean.part_of_the_week=='Weekend', 'gas_price'] = line_plot_gas_lagged"
      ],
      "metadata": {
        "id": "RXcFYRapY-W2"
      },
      "execution_count": null,
      "outputs": []
    },
    {
      "cell_type": "code",
      "source": [
        "line_plot_data_gmean.head()"
      ],
      "metadata": {
        "id": "M0mwXZigY_0_"
      },
      "execution_count": null,
      "outputs": []
    },
    {
      "cell_type": "code",
      "source": [
        "line_plot_data_gmean.year = line_plot_data_gmean.year.astype(str) # we make it string so it is considered categorical variable"
      ],
      "metadata": {
        "id": "_dTNMe_IZCOb"
      },
      "execution_count": null,
      "outputs": []
    },
    {
      "cell_type": "code",
      "source": [
        "fig = px.scatter(line_plot_data_gmean, x='gas_price', y='rides_x1000', color='year', facet_col='part_of_the_week', color_discrete_sequence=px.colors.qualitative.Alphabet, trendline='ols')\n",
        "fig.show()"
      ],
      "metadata": {
        "id": "lapPabyeZC0j"
      },
      "execution_count": null,
      "outputs": []
    },
    {
      "cell_type": "code",
      "source": [
        ""
      ],
      "metadata": {
        "id": "Y4ger5UjZEWP"
      },
      "execution_count": null,
      "outputs": []
    }
  ]
}
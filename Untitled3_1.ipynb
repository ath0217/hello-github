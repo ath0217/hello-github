{
  "nbformat": 4,
  "nbformat_minor": 0,
  "metadata": {
    "colab": {
      "name": "Untitled3-1.ipynb",
      "private_outputs": true,
      "provenance": [],
      "authorship_tag": "ABX9TyOlD6MV7Ot5jgXnSaXJVXtz",
      "include_colab_link": true
    },
    "kernelspec": {
      "name": "python3",
      "display_name": "Python 3"
    },
    "language_info": {
      "name": "python"
    }
  },
  "cells": [
    {
      "cell_type": "markdown",
      "metadata": {
        "id": "view-in-github",
        "colab_type": "text"
      },
      "source": [
        "<a href=\"https://colab.research.google.com/github/ath0217/hello-github/blob/main/Untitled3_1.ipynb\" target=\"_parent\"><img src=\"https://colab.research.google.com/assets/colab-badge.svg\" alt=\"Open In Colab\"/></a>"
      ]
    },
    {
      "cell_type": "code",
      "execution_count": null,
      "metadata": {
        "id": "W40gI8WMPIM6"
      },
      "outputs": [],
      "source": [
        "import pandas as pd\n",
        "import numpy as np\n",
        "import matplotlib.pyplot as plt\n",
        "import seaborn as sns\n",
        "import plotly.express as px\n",
        "import plotly.graph_objects as go"
      ]
    },
    {
      "cell_type": "code",
      "source": [
        "from sklearn.impute import SimpleImputer"
      ],
      "metadata": {
        "id": "9BQZ0ZnyPXyt"
      },
      "execution_count": null,
      "outputs": []
    },
    {
      "cell_type": "code",
      "source": [
        "imp_mean = SimpleImputer(missing_values=np.nan, strategy='mean')\n",
        "X1 = [[7, 2, 3], [4, np.nan, 6], [10, 5, 9]]\n",
        "pd.DataFrame(X1)"
      ],
      "metadata": {
        "id": "cMvTyvqRPcX5"
      },
      "execution_count": null,
      "outputs": []
    },
    {
      "cell_type": "code",
      "source": [
        "imp_mean.fit(X1)"
      ],
      "metadata": {
        "id": "lW_xU7EiPfPx"
      },
      "execution_count": null,
      "outputs": []
    },
    {
      "cell_type": "code",
      "source": [
        "X2 = [[np.nan, 2, 3], [4, np.nan, 6], [10, np.nan, 9]]\n",
        "pd.DataFrame(X2)"
      ],
      "metadata": {
        "id": "4f_4WKJEPhYi"
      },
      "execution_count": null,
      "outputs": []
    },
    {
      "cell_type": "code",
      "source": [
        "pd.DataFrame(imp_mean.transform(X2))"
      ],
      "metadata": {
        "id": "oldVsvasPjXE"
      },
      "execution_count": null,
      "outputs": []
    },
    {
      "cell_type": "code",
      "source": [
        "from sklearn.impute import MissingIndicator"
      ],
      "metadata": {
        "id": "SdVkKC_YPlVj"
      },
      "execution_count": null,
      "outputs": []
    },
    {
      "cell_type": "code",
      "source": [
        "indicator = MissingIndicator(features='all')  #수정하기 중요해\n",
        "indicator.fit(X1)"
      ],
      "metadata": {
        "id": "GoyejEzVPnFe"
      },
      "execution_count": null,
      "outputs": []
    },
    {
      "cell_type": "code",
      "source": [
        "X2_tr = indicator.transform(X2)\n",
        "X2_tr"
      ],
      "metadata": {
        "id": "ZJryBzXFPos5"
      },
      "execution_count": null,
      "outputs": []
    },
    {
      "cell_type": "code",
      "source": [
        "from sklearn.datasets import fetch_california_housing\n",
        "from sklearn.model_selection import train_test_split"
      ],
      "metadata": {
        "id": "yLE9Fgm2Pqqp"
      },
      "execution_count": null,
      "outputs": []
    },
    {
      "cell_type": "code",
      "source": [
        "data = fetch_california_housing()\n",
        "print(data.DESCR)"
      ],
      "metadata": {
        "id": "qDNFYmN0TPU3"
      },
      "execution_count": null,
      "outputs": []
    },
    {
      "cell_type": "code",
      "source": [
        "df = pd.DataFrame(data.data, columns=data.feature_names)\n",
        "\n",
        "X_train, X_test, y_train, y_test = train_test_split(df,data.target,shuffle=True,test_size=0.25,random_state=6011)\n",
        "\n",
        "print(X_train.shape)\n",
        "print(X_test.shape)"
      ],
      "metadata": {
        "id": "gotPhgoYTRQk"
      },
      "execution_count": null,
      "outputs": []
    },
    {
      "cell_type": "code",
      "source": [
        "X_train = X_train.copy()"
      ],
      "metadata": {
        "id": "R_dv5HlwTUE9"
      },
      "execution_count": null,
      "outputs": []
    },
    {
      "cell_type": "code",
      "source": [
        "X_train.info()"
      ],
      "metadata": {
        "id": "9EVpa66iTV7O"
      },
      "execution_count": null,
      "outputs": []
    },
    {
      "cell_type": "code",
      "source": [
        "X_train.describe()"
      ],
      "metadata": {
        "id": "lZTshqamUAz1"
      },
      "execution_count": null,
      "outputs": []
    },
    {
      "cell_type": "code",
      "source": [
        "X_train.plot.kde(subplots=True, figsize=(10,20), sharex=False)"
      ],
      "metadata": {
        "id": "5zoJBD-eUC57"
      },
      "execution_count": null,
      "outputs": []
    },
    {
      "cell_type": "code",
      "source": [
        "sns.histplot(data=X_train, x='AveRooms')"
      ],
      "metadata": {
        "id": "pz-6l2gtUFPS"
      },
      "execution_count": null,
      "outputs": []
    },
    {
      "cell_type": "code",
      "source": [
        "X_train['AveRooms'].quantile([0.1,0.5,0.90,0.95,0.99])"
      ],
      "metadata": {
        "id": "TDfHgzQwUJ0v"
      },
      "execution_count": null,
      "outputs": []
    },
    {
      "cell_type": "code",
      "source": [
        "X_train_99 = X_train[X_train['AveRooms']<X_train['AveRooms'].quantile(0.99)].copy()"
      ],
      "metadata": {
        "id": "9cbofPwPUM3i"
      },
      "execution_count": null,
      "outputs": []
    },
    {
      "cell_type": "code",
      "source": [
        "X_train_99.describe()"
      ],
      "metadata": {
        "id": "1mG_-v1VUPoC"
      },
      "execution_count": null,
      "outputs": []
    },
    {
      "cell_type": "code",
      "source": [
        "X_train_99_2 =  X_train.copy()\n",
        "X_train_99_2[X_train['AveRooms']>X_train['AveRooms'].quantile(0.99)] = X_train['AveRooms'].quantile(0.99)\n",
        "X_train_99_2.describe()"
      ],
      "metadata": {
        "id": "xD1wwSw_URkC"
      },
      "execution_count": null,
      "outputs": []
    },
    {
      "cell_type": "code",
      "source": [
        "print(X_train_99.shape)\n",
        "print(X_train_99_2.shape)"
      ],
      "metadata": {
        "id": "s7M1De59UTN1"
      },
      "execution_count": null,
      "outputs": []
    },
    {
      "cell_type": "code",
      "source": [
        "sns.histplot(data=X_train_99, x='AveRooms')"
      ],
      "metadata": {
        "id": "3wrv9PsfUUx_"
      },
      "execution_count": null,
      "outputs": []
    },
    {
      "cell_type": "code",
      "source": [
        "sns.histplot(data=X_train_99_2, x='AveRooms')"
      ],
      "metadata": {
        "id": "A8f6_fkOUWj7"
      },
      "execution_count": null,
      "outputs": []
    },
    {
      "cell_type": "code",
      "source": [
        "from sklearn.preprocessing import MinMaxScaler"
      ],
      "metadata": {
        "id": "M3ZX7svLUYiN"
      },
      "execution_count": null,
      "outputs": []
    },
    {
      "cell_type": "code",
      "source": [
        "mm_scaler = MinMaxScaler()"
      ],
      "metadata": {
        "id": "sZvKbMsZW3wb"
      },
      "execution_count": null,
      "outputs": []
    },
    {
      "cell_type": "code",
      "source": [
        "col_name = 'AveRooms'\n",
        "trans_col_name = 'AveRooms_mm'\n",
        "X_train[trans_col_name]= mm_scaler.fit_transform(X_train[[col_name]])\n",
        "X_train_99[trans_col_name]= mm_scaler.fit_transform(X_train_99[[col_name]])"
      ],
      "metadata": {
        "id": "Wtiu2atsW5oc"
      },
      "execution_count": null,
      "outputs": []
    },
    {
      "cell_type": "code",
      "source": [
        "fig, axes = plt.subplots(ncols=2, figsize=(16,6))\n",
        "sns.histplot(data=X_train, x=trans_col_name, ax=axes[0], kde=True)\n",
        "# axes[0].set_title('Histogram with whole training data')\n",
        "sns.histplot(data=X_train_99, x=trans_col_name, ax=axes[1],kde=True)\n",
        "# axes[1].set_title('Histogram of training data with no outliers (99 percentile)')"
      ],
      "metadata": {
        "id": "nAwafqwOW7RM"
      },
      "execution_count": null,
      "outputs": []
    },
    {
      "cell_type": "code",
      "source": [
        "fig, axes = plt.subplots(nrows=2, figsize=(6,8))\n",
        "sns.histplot(data=X_train_99, x=col_name, ax=axes[0],kde=True)\n",
        "axes[0].set_title('Original data')\n",
        "sns.histplot(data=X_train_99, x=trans_col_name, ax=axes[1],kde=True)\n",
        "axes[1].set_title('Transformed data')\n",
        "plt.tight_layout()"
      ],
      "metadata": {
        "id": "k6z0NBQOW9D1"
      },
      "execution_count": null,
      "outputs": []
    },
    {
      "cell_type": "code",
      "source": [
        "from sklearn.preprocessing import StandardScaler"
      ],
      "metadata": {
        "id": "PWCWAPW3W_vt"
      },
      "execution_count": null,
      "outputs": []
    },
    {
      "cell_type": "code",
      "source": [
        "sd_scaler = StandardScaler()\n",
        "sd_scaler2 = StandardScaler(with_mean=False, with_std=False)"
      ],
      "metadata": {
        "id": "RRbmpXyWXy09"
      },
      "execution_count": null,
      "outputs": []
    },
    {
      "cell_type": "code",
      "source": [
        "col_name = 'AveRooms'\n",
        "trans_col_name = 'AveRooms_sd'\n",
        "X_train[trans_col_name]= sd_scaler.fit_transform(X_train[['AveRooms']])\n",
        "X_train_99[trans_col_name]= sd_scaler.fit_transform(X_train_99[['AveRooms']])\n",
        "X_train_99[f'{trans_col_name}_2']= sd_scaler2.fit_transform(X_train_99[['AveRooms']])\n"
      ],
      "metadata": {
        "id": "Ud5V8nTjX0RM"
      },
      "execution_count": null,
      "outputs": []
    },
    {
      "cell_type": "code",
      "source": [
        "fig, axes = plt.subplots(ncols=3, figsize=(21,6))\n",
        "sns.histplot(data=X_train, x=trans_col_name, ax=axes[0])\n",
        "# axes[0].set_title('Histogram with whole training data')\n",
        "sns.histplot(data=X_train_99, x=trans_col_name, ax=axes[1])\n",
        "sns.histplot(data=X_train_99, x=f'{trans_col_name}_2', ax=axes[2])\n",
        "# axes[1].set_title('Histogram of training data with no outliers (99 percentile)')"
      ],
      "metadata": {
        "id": "KYnGz9PuX3aK"
      },
      "execution_count": null,
      "outputs": []
    },
    {
      "cell_type": "code",
      "source": [
        "fig, axes = plt.subplots(nrows=2, figsize=(6,8))\n",
        "sns.histplot(data=X_train_99, x=col_name, ax=axes[0],kde=True)\n",
        "axes[0].set_title('Original data')\n",
        "sns.histplot(data=X_train_99, x=trans_col_name, ax=axes[1], kde=True)\n",
        "axes[1].set_title('Transformed data')\n",
        "plt.tight_layout()"
      ],
      "metadata": {
        "id": "ZYaiUjsvX5Fn"
      },
      "execution_count": null,
      "outputs": []
    },
    {
      "cell_type": "code",
      "source": [
        "from sklearn.preprocessing import RobustScaler"
      ],
      "metadata": {
        "id": "y3my5MG6X7wN"
      },
      "execution_count": null,
      "outputs": []
    },
    {
      "cell_type": "code",
      "source": [
        "rb_scaler = RobustScaler ( )"
      ],
      "metadata": {
        "id": "xcgkZ1NZYkHQ"
      },
      "execution_count": null,
      "outputs": []
    },
    {
      "cell_type": "code",
      "source": [
        "col_name = 'AveRooms'\n",
        "trans_col_name = 'AveRooms_rb'\n",
        "X_train[trans_col_name]= rb_scaler.fit_transform(X_train[[col_name]])\n",
        "X_train_99[trans_col_name]= rb_scaler.fit_transform(X_train_99[[col_name]])"
      ],
      "metadata": {
        "id": "PVpH0SdoYl-w"
      },
      "execution_count": null,
      "outputs": []
    },
    {
      "cell_type": "code",
      "source": [
        "fig, axes = plt.subplots(ncols=2, figsize=(16,6))\n",
        "sns.histplot(data=X_train, x=trans_col_name, ax=axes[0], kde=True)\n",
        "# axes[0].set_title('Histogram with whole training data')\n",
        "sns.histplot(data=X_train_99, x=trans_col_name, ax=axes[1],kde=True)\n",
        "# axes[1].set_title('Histogram of training data with no outliers (99 percentile)')"
      ],
      "metadata": {
        "id": "nKMiEeNOYoD3"
      },
      "execution_count": null,
      "outputs": []
    },
    {
      "cell_type": "code",
      "source": [
        "fig, axes = plt.subplots(nrows=2, figsize=(6,8))\n",
        "sns.histplot(data=X_train_99, x=col_name, ax=axes[0],kde=True)\n",
        "axes[0].set_title('Original data')\n",
        "sns.histplot(data=X_train_99, x=trans_col_name, ax=axes[1],kde=True)\n",
        "axes[1].set_title('Transformed data')\n",
        "plt.tight_layout()"
      ],
      "metadata": {
        "id": "vW5dK-EdYp-r"
      },
      "execution_count": null,
      "outputs": []
    },
    {
      "cell_type": "code",
      "source": [
        "sns.kdeplot(data=X_train_99, x='MedInc')"
      ],
      "metadata": {
        "id": "GTJg9VhjYsti"
      },
      "execution_count": null,
      "outputs": []
    },
    {
      "cell_type": "code",
      "source": [
        "from sklearn.preprocessing import PowerTransformer"
      ],
      "metadata": {
        "id": "tggUeRvPbPHZ"
      },
      "execution_count": null,
      "outputs": []
    },
    {
      "cell_type": "code",
      "source": [
        "bx_transformer = PowerTransformer(method='box-cox')"
      ],
      "metadata": {
        "id": "spBt9RXubRsa"
      },
      "execution_count": null,
      "outputs": []
    },
    {
      "cell_type": "code",
      "source": [
        "col_name = 'MedInc'\n",
        "trans_col_name = 'MedInc_bx'\n",
        "X_train[trans_col_name]= bx_transformer.fit_transform(X_train[[col_name]])\n",
        "X_train_99[trans_col_name]= bx_transformer.fit_transform(X_train_99[[col_name]])"
      ],
      "metadata": {
        "id": "NgwPMceKbTWr"
      },
      "execution_count": null,
      "outputs": []
    },
    {
      "cell_type": "code",
      "source": [
        "fig, axes = plt.subplots(ncols=2, figsize=(16,6))\n",
        "sns.histplot(data=X_train, x=col_name, ax=axes[0], kde=True)\n",
        "# axes[0].set_title('Histogram with whole training data')\n",
        "sns.histplot(data=X_train_99, x=trans_col_name, ax=axes[1],kde=True)\n",
        "# axes[1].set_title('Histogram of training data with no outliers (99 percentile)')"
      ],
      "metadata": {
        "id": "uFuWZkM1bVMV"
      },
      "execution_count": null,
      "outputs": []
    },
    {
      "cell_type": "code",
      "source": [
        "bx_transformer.lambdas_"
      ],
      "metadata": {
        "id": "dajhoqcDbWxC"
      },
      "execution_count": null,
      "outputs": []
    },
    {
      "cell_type": "code",
      "source": [
        "from scipy.stats import probplot"
      ],
      "metadata": {
        "id": "dV4yZxu7bYl6"
      },
      "execution_count": null,
      "outputs": []
    },
    {
      "cell_type": "code",
      "source": [
        "fig, axes = plt.subplots(ncols=2, figsize=(16,6))\n",
        "probplot(X_train[col_name], plot=axes[0])\n",
        "probplot(X_train[trans_col_name], plot=axes[1])"
      ],
      "metadata": {
        "id": "_fB7Nt7gbaIQ"
      },
      "execution_count": null,
      "outputs": []
    },
    {
      "cell_type": "code",
      "source": [
        "fig, axes = plt.subplots(nrows=2, ncols=2, figsize=(12,8))\n",
        "sns.histplot(data=X_train_99, x=col_name, ax=axes[0,0],kde=True)\n",
        "probplot(X_train[col_name], plot=axes[0,1])\n",
        "axes[0,0].set_title('Original data')\n",
        "axes[0,1].set_title(axes[0,1].get_title()+' Original data')\n",
        "sns.histplot(data=X_train_99, x=trans_col_name, ax=axes[1,0], kde=True)\n",
        "probplot(X_train[trans_col_name], plot=axes[1,1])\n",
        "axes[1,0].set_title('Transformed data')\n",
        "axes[1,1].set_title(axes[1,1].get_title()+' Transformed data')\n",
        "plt.tight_layout()"
      ],
      "metadata": {
        "id": "L3PLxc4-bb1l"
      },
      "execution_count": null,
      "outputs": []
    },
    {
      "cell_type": "code",
      "source": [
        "from sklearn.preprocessing import FunctionTransformer"
      ],
      "metadata": {
        "id": "BXaKSBKGbeFR"
      },
      "execution_count": null,
      "outputs": []
    },
    {
      "cell_type": "code",
      "source": [
        "my_transformer = FunctionTransformer(np.log)"
      ],
      "metadata": {
        "id": "0Al5ukVlbfwU"
      },
      "execution_count": null,
      "outputs": []
    },
    {
      "cell_type": "code",
      "source": [
        "X_train[[col_name]].plot.kde()"
      ],
      "metadata": {
        "id": "76fWa0kzbh82"
      },
      "execution_count": null,
      "outputs": []
    },
    {
      "cell_type": "code",
      "source": [
        "FunctionTransformer(np.log).transform(X_train[[col_name]]).plot.kde()"
      ],
      "metadata": {
        "id": "tb61HQzgbjcF"
      },
      "execution_count": null,
      "outputs": []
    },
    {
      "cell_type": "code",
      "source": [
        "FunctionTransformer(np.reciprocal).transform(X_train[[col_name]]).plot.kde()"
      ],
      "metadata": {
        "id": "pBkJ40JubkrK"
      },
      "execution_count": null,
      "outputs": []
    },
    {
      "cell_type": "code",
      "source": [
        "FunctionTransformer(np.sqrt).transform(X_train[[col_name]]).plot.kde()"
      ],
      "metadata": {
        "id": "VsxwA8dWbqWR"
      },
      "execution_count": null,
      "outputs": []
    },
    {
      "cell_type": "code",
      "source": [
        "FunctionTransformer(np.cbrt).transform(X_train[[col_name]]).plot.kde()"
      ],
      "metadata": {
        "id": "qaAZnzdAbrxL"
      },
      "execution_count": null,
      "outputs": []
    },
    {
      "cell_type": "code",
      "source": [
        "sns.kdeplot(data=X_train_99, x='HouseAge')"
      ],
      "metadata": {
        "id": "SiApAKfnbtfS"
      },
      "execution_count": null,
      "outputs": []
    },
    {
      "cell_type": "code",
      "source": [
        "col_name = 'HouseAge'\n",
        "trans_col_name = 'HouseAge_bx'\n",
        "X_train[trans_col_name]= bx_transformer.fit_transform(X_train[[col_name]])\n",
        "X_train_99[trans_col_name]= bx_transformer.fit_transform(X_train_99[[col_name]])"
      ],
      "metadata": {
        "id": "jRg2WKlNbvF2"
      },
      "execution_count": null,
      "outputs": []
    },
    {
      "cell_type": "code",
      "source": [
        "fig, axes = plt.subplots(ncols=2, figsize=(16,6))\n",
        "sns.histplot(data=X_train, x=trans_col_name, ax=axes[0], kde=True)\n",
        "# axes[0].set_title('Histogram with whole training data')\n",
        "sns.histplot(data=X_train_99, x=trans_col_name, ax=axes[1],kde=True)\n",
        "# axes[1].set_title('Histogram of training data with no outliers (99 percentile)')"
      ],
      "metadata": {
        "id": "5ALUmMk0bw-p"
      },
      "execution_count": null,
      "outputs": []
    },
    {
      "cell_type": "code",
      "source": [
        "bx_transformer.lambdas_"
      ],
      "metadata": {
        "id": "-1aRTGnAbzKv"
      },
      "execution_count": null,
      "outputs": []
    },
    {
      "cell_type": "code",
      "source": [
        "fig, axes = plt.subplots(ncols=2, figsize=(16,6))\n",
        "probplot(X_train[col_name], plot=axes[0])\n",
        "probplot(X_train[trans_col_name], plot=axes[1])"
      ],
      "metadata": {
        "id": "rZLS35Bub02D"
      },
      "execution_count": null,
      "outputs": []
    },
    {
      "cell_type": "code",
      "source": [
        "fig, axes = plt.subplots(nrows=2, ncols=2, figsize=(12,8))\n",
        "sns.histplot(data=X_train_99, x=col_name, ax=axes[0,0],kde=True)\n",
        "probplot(X_train[col_name], plot=axes[0,1])\n",
        "axes[0,0].set_title('Original data')\n",
        "axes[0,1].set_title(axes[0,1].get_title()+' Original data')\n",
        "sns.histplot(data=X_train_99, x=trans_col_name, ax=axes[1,0], kde=True)\n",
        "probplot(X_train[trans_col_name], plot=axes[1,1])\n",
        "axes[1,0].set_title('Transformed data')\n",
        "axes[1,1].set_title(axes[1,1].get_title()+' Transformed data')\n",
        "plt.tight_layout()"
      ],
      "metadata": {
        "id": "lg5fwPYZb2Ur"
      },
      "execution_count": null,
      "outputs": []
    },
    {
      "cell_type": "code",
      "source": [
        "from sklearn.preprocessing import Binarizer"
      ],
      "metadata": {
        "id": "1SShcOuFb4KR"
      },
      "execution_count": null,
      "outputs": []
    },
    {
      "cell_type": "code",
      "source": [
        "col_name = 'MedInc'\n",
        "trans_col_name = 'MedInc_bin'"
      ],
      "metadata": {
        "id": "Y7T2J6UgtQJ9"
      },
      "execution_count": null,
      "outputs": []
    },
    {
      "cell_type": "code",
      "source": [
        "binarizer = Binarizer(threshold=6)"
      ],
      "metadata": {
        "id": "KD_GCT4xu85U"
      },
      "execution_count": null,
      "outputs": []
    },
    {
      "cell_type": "code",
      "source": [
        "X_train[trans_col_name]= binarizer.fit_transform(X_train[[col_name]])\n",
        "X_train_99[trans_col_name]= binarizer.fit_transform(X_train_99[[col_name]])"
      ],
      "metadata": {
        "id": "NF9LsiD9u-T7"
      },
      "execution_count": null,
      "outputs": []
    },
    {
      "cell_type": "code",
      "source": [
        "X_train_99[trans_col_name].head()"
      ],
      "metadata": {
        "id": "tOx63eCVvAHo"
      },
      "execution_count": null,
      "outputs": []
    },
    {
      "cell_type": "code",
      "source": [
        "fig, axes = plt.subplots(ncols=2, figsize=(16,6))\n",
        "sns.histplot(data=X_train_99, x=col_name, ax=axes[0], kde=True)\n",
        "axes[0].set_title('Histogram with whole training data')\n",
        "sns.countplot(x=X_train_99[trans_col_name])\n",
        "axes[1].set_title('Count plot with the binarized data (threshold of 6)')"
      ],
      "metadata": {
        "id": "7B0o_Hp7wtNy"
      },
      "execution_count": null,
      "outputs": []
    },
    {
      "cell_type": "code",
      "source": [
        "fig, axes = plt.subplots(nrows=2, figsize=(6,8))\n",
        "sns.histplot(data=X_train_99, x=col_name, ax=axes[0],kde=True)\n",
        "axes[0].set_title('Histogram with whole training data')\n",
        "sns.countplot(data=X_train_99, x=trans_col_name, ax=axes[1])\n",
        "axes[1].set_title('Count plot with the binarized data (threshold of 6)')\n",
        "plt.tight_layout()"
      ],
      "metadata": {
        "id": "jLG3PFznyre0"
      },
      "execution_count": null,
      "outputs": []
    },
    {
      "cell_type": "markdown",
      "source": [
        "Uniform binning"
      ],
      "metadata": {
        "id": "YpMjK6BJyyQS"
      }
    },
    {
      "cell_type": "markdown",
      "source": [
        "Map numeric variables into uniform blocks"
      ],
      "metadata": {
        "id": "wb5_j6lJzBGa"
      }
    },
    {
      "cell_type": "code",
      "source": [
        "from sklearn.preprocessing import KBinsDiscretizer"
      ],
      "metadata": {
        "id": "xCX_0d1szDpG"
      },
      "execution_count": null,
      "outputs": []
    },
    {
      "cell_type": "code",
      "source": [
        "n_bins = 5"
      ],
      "metadata": {
        "id": "NASuIPc5zFfO"
      },
      "execution_count": null,
      "outputs": []
    },
    {
      "cell_type": "code",
      "source": [
        "col_name = 'Population'\n",
        "trans_col_name = 'Population_ubin'"
      ],
      "metadata": {
        "id": "RjZ6C7o1zG_3"
      },
      "execution_count": null,
      "outputs": []
    },
    {
      "cell_type": "code",
      "source": [
        "ubin_discretizer = KBinsDiscretizer(n_bins=n_bins, encode='ordinal', strategy='uniform')"
      ],
      "metadata": {
        "id": "UtRSqMzBzaOE"
      },
      "execution_count": null,
      "outputs": []
    },
    {
      "cell_type": "code",
      "source": [
        "X_train[trans_col_name]= ubin_discretizer.fit_transform(X_train[[col_name]])\n",
        "X_train_99[trans_col_name]= ubin_discretizer.fit_transform(X_train_99[[col_name]])"
      ],
      "metadata": {
        "id": "WLh_fXQqzbvR"
      },
      "execution_count": null,
      "outputs": []
    },
    {
      "cell_type": "code",
      "source": [
        "ubin_discretizer.bin_edges_[0]"
      ],
      "metadata": {
        "id": "CcWyDdQ0zdMP"
      },
      "execution_count": null,
      "outputs": []
    },
    {
      "cell_type": "code",
      "source": [
        "fig, axes = plt.subplots(nrows=2, figsize=(6,8))\n",
        "sns.histplot(data=X_train_99, x=col_name, ax=axes[0], kde=True)\n",
        "axes[0].set_title('Histogram with whole training data')\n",
        "for edge in ubin_discretizer.bin_edges_[0]: # uniform bins\n",
        "    line = axes[0].axvline(edge, color='b')\n",
        "axes[0].legend([line], ['Uniform in edges'], fontsize=10)\n",
        "sns.countplot(x=X_train_99[trans_col_name])\n",
        "axes[1].set_title(f'Uniform binning result ({n_bins} bins)')\n",
        "plt.tight_layout()"
      ],
      "metadata": {
        "id": "QvmdpbGFzed7"
      },
      "execution_count": null,
      "outputs": []
    },
    {
      "cell_type": "markdown",
      "source": [
        "**Quantile binning**"
      ],
      "metadata": {
        "id": "cFj8BeUQziFQ"
      }
    },
    {
      "cell_type": "markdown",
      "source": [
        "Map numerical variables in blocks with uniform frequencies"
      ],
      "metadata": {
        "id": "Mbfwe9M-zuxI"
      }
    },
    {
      "cell_type": "code",
      "source": [
        "col_name = 'Population'\n",
        "trans_col_name = 'Population_qbin'"
      ],
      "metadata": {
        "id": "yXPScqwMztyG"
      },
      "execution_count": null,
      "outputs": []
    },
    {
      "cell_type": "code",
      "source": [
        "qbin_discretizer = KBinsDiscretizer(n_bins=5, encode='ordinal', strategy='quantile')"
      ],
      "metadata": {
        "id": "Rd3IRBwEzyfm"
      },
      "execution_count": null,
      "outputs": []
    },
    {
      "cell_type": "code",
      "source": [
        "X_train[trans_col_name]= qbin_discretizer.fit_transform(X_train[[col_name]])\n",
        "X_train_99[trans_col_name]= qbin_discretizer.fit_transform(X_train_99[[col_name]])"
      ],
      "metadata": {
        "id": "vzGU9BmGzzsh"
      },
      "execution_count": null,
      "outputs": []
    },
    {
      "cell_type": "code",
      "source": [
        "qbin_discretizer.bin_edges_[0]"
      ],
      "metadata": {
        "id": "azO9abYMz06N"
      },
      "execution_count": null,
      "outputs": []
    },
    {
      "cell_type": "code",
      "source": [
        "fig, axes = plt.subplots(nrows=2, figsize=(12,8))\n",
        "sns.histplot(data=X_train_99, x=col_name, ax=axes[0], kde=True)\n",
        "axes[0].set_title('Histogram with whole training data')\n",
        "for edge in qbin_discretizer.bin_edges_[0]: # quantile bins\n",
        "  line = axes[0].axvline(edge, color='b')\n",
        "axes[0].legend([line], ['Quantile bin Edges'], fontsize=10)\n",
        "sns.countplot(x=X_train_99[trans_col_name])\n",
        "axes[1].set_title(f'Quantile binning result ({n_bins} bins)')\n",
        "plt.tight_layout()"
      ],
      "metadata": {
        "id": "NbFsz1nez1-s"
      },
      "execution_count": null,
      "outputs": []
    },
    {
      "cell_type": "markdown",
      "source": [
        "**Encoding categorical predictors**"
      ],
      "metadata": {
        "id": "Sxcixaw6z6HG"
      }
    },
    {
      "cell_type": "code",
      "source": [
        "!mkdir data"
      ],
      "metadata": {
        "id": "kbwUcBIKz5Cz"
      },
      "execution_count": null,
      "outputs": []
    },
    {
      "cell_type": "code",
      "source": [
        "import gdown\n",
        "\n",
        "urls = ['https://drive.google.com/uc?export=download&id=16AGQw1nM9NYILv2aSZaSNSn9jBPByWPq', # okc_train  https://drive.google.com/file/d/16AGQw1nM9NYILv2aSZaSNSn9jBPByWPq/view?usp=sharing\n",
        "        ]\n",
        "outputs = ['okc_train.csv']\n",
        "for url,output in zip(urls,outputs):\n",
        "  gdown.download(url, f'data/{output}', quiet=False)"
      ],
      "metadata": {
        "id": "Y1iRwOHm0ACd"
      },
      "execution_count": null,
      "outputs": []
    },
    {
      "cell_type": "code",
      "source": [
        "df = pd.read_csv('data/okc_train.csv',index_col=0)"
      ],
      "metadata": {
        "id": "8crVQgMZ0BdZ"
      },
      "execution_count": null,
      "outputs": []
    },
    {
      "cell_type": "code",
      "source": [
        "df.head()"
      ],
      "metadata": {
        "id": "agT-EXya0DQ6"
      },
      "execution_count": null,
      "outputs": []
    },
    {
      "cell_type": "code",
      "source": [
        "df['drinks'].value_counts()"
      ],
      "metadata": {
        "id": "6pHu50Cr0Eqg"
      },
      "execution_count": null,
      "outputs": []
    },
    {
      "cell_type": "code",
      "source": [
        "df['diet'].value_counts()"
      ],
      "metadata": {
        "id": "aRtBFezA0F2i"
      },
      "execution_count": null,
      "outputs": []
    },
    {
      "cell_type": "code",
      "source": [
        "df_test = pd.DataFrame({\n",
        "... 'City': ['SF', 'SF', 'SF', 'NYC', 'NYC', 'NYC',\n",
        "... 'Seattle', 'Seattle', 'Seattle'],\n",
        "... 'Rent': [3999, 4000, 4001, 3499, 3500, 3501, 2499, 2500, 2501]\n",
        "... })"
      ],
      "metadata": {
        "id": "v5fUmYMF0HUS"
      },
      "execution_count": null,
      "outputs": []
    },
    {
      "cell_type": "code",
      "source": [
        "df_test"
      ],
      "metadata": {
        "id": "MdNbpjoA0IsK"
      },
      "execution_count": null,
      "outputs": []
    },
    {
      "cell_type": "code",
      "source": [
        "!pip install category_encoders"
      ],
      "metadata": {
        "id": "dAjJ6n3Q0J4M"
      },
      "execution_count": null,
      "outputs": []
    },
    {
      "cell_type": "markdown",
      "source": [
        "One-Hot **Encoder**"
      ],
      "metadata": {
        "id": "n6aAcUQl0Pwb"
      }
    },
    {
      "cell_type": "code",
      "source": [
        "col = 'drinks'"
      ],
      "metadata": {
        "id": "aWySykZz0RpA"
      },
      "execution_count": null,
      "outputs": []
    },
    {
      "cell_type": "code",
      "source": [
        "from category_encoders import OneHotEncoder"
      ],
      "metadata": {
        "id": "Ah9WfRlu0SmW"
      },
      "execution_count": null,
      "outputs": []
    },
    {
      "cell_type": "code",
      "source": [
        "onehot_enc = OneHotEncoder( use_cat_names=True,handle_missing='indicator', handle_unknown='indicator' ) # using default (valu"
      ],
      "metadata": {
        "id": "9oqVjVe10Tkn"
      },
      "execution_count": null,
      "outputs": []
    },
    {
      "cell_type": "code",
      "source": [
        "onehot_enc.fit_transform(df[[col]])"
      ],
      "metadata": {
        "id": "MWWxKzSy0V_e"
      },
      "execution_count": null,
      "outputs": []
    },
    {
      "cell_type": "code",
      "source": [
        "onehot_enc.mapping[0]['mapping']"
      ],
      "metadata": {
        "id": "F5yBp0BJ0XRQ"
      },
      "execution_count": null,
      "outputs": []
    },
    {
      "cell_type": "code",
      "source": [
        "ex_enc = OneHotEncoder(use_cat_names=True)\n",
        "ex_map = ex_enc.fit_transform(df_test)\n",
        "ex_enc.mapping[0]['mapping']"
      ],
      "metadata": {
        "id": "1kGZE6as0YWX"
      },
      "execution_count": null,
      "outputs": []
    },
    {
      "cell_type": "markdown",
      "source": [
        "Dummy **Coding**"
      ],
      "metadata": {
        "id": "AWuJUi0k3CsE"
      }
    },
    {
      "cell_type": "code",
      "source": [
        "col='drinks'"
      ],
      "metadata": {
        "id": "jlyZ8CmI3EYB"
      },
      "execution_count": null,
      "outputs": []
    },
    {
      "cell_type": "code",
      "source": [
        "from sklearn.preprocessing import OneHotEncoder as OneHotEncoder_sk"
      ],
      "metadata": {
        "id": "TblT82Xf3F_1"
      },
      "execution_count": null,
      "outputs": []
    },
    {
      "cell_type": "code",
      "source": [
        "dummy_enc = OneHotEncoder_sk(drop='first', sparse=False)"
      ],
      "metadata": {
        "id": "sxv2AVs_3HT5"
      },
      "execution_count": null,
      "outputs": []
    },
    {
      "cell_type": "code",
      "source": [
        "dummy_enc.fit_transform(df[[col]])"
      ],
      "metadata": {
        "id": "_lD52bSI3I0l"
      },
      "execution_count": null,
      "outputs": []
    },
    {
      "cell_type": "code",
      "source": [
        "dummy_enc.get_feature_names_out ()"
      ],
      "metadata": {
        "id": "sYBPbGCU3J28"
      },
      "execution_count": null,
      "outputs": []
    },
    {
      "cell_type": "code",
      "source": [
        "dummy_enc.categories_"
      ],
      "metadata": {
        "id": "Y5Kiv9SF3LTv"
      },
      "execution_count": null,
      "outputs": []
    },
    {
      "cell_type": "code",
      "source": [
        "dummy_df2 = pd.get_dummies(df[col], prefix='dr', drop_first=True) #dummy_nabool\n",
        "dummy_df2.head()"
      ],
      "metadata": {
        "id": "VjoSMaMa3NGA"
      },
      "execution_count": null,
      "outputs": []
    },
    {
      "cell_type": "code",
      "source": [
        "dummy_df2.drop_duplicates()"
      ],
      "metadata": {
        "id": "vS1OcBob3Oqb"
      },
      "execution_count": null,
      "outputs": []
    },
    {
      "cell_type": "markdown",
      "source": [
        "Binary **Encoder**"
      ],
      "metadata": {
        "id": "rRobLCtV3RNV"
      }
    },
    {
      "cell_type": "code",
      "source": [
        "from category_encoders import BinaryEncoder"
      ],
      "metadata": {
        "id": "LSKMsPrC3Ufr"
      },
      "execution_count": null,
      "outputs": []
    },
    {
      "cell_type": "code",
      "source": [
        "bin_encoder = BinaryEncoder()"
      ],
      "metadata": {
        "id": "VJ43Fbuc3VmY"
      },
      "execution_count": null,
      "outputs": []
    },
    {
      "cell_type": "code",
      "source": [
        "bin_encoder.fit_transform(df[col])"
      ],
      "metadata": {
        "id": "jUJf8aiJ3Wzy"
      },
      "execution_count": null,
      "outputs": []
    },
    {
      "cell_type": "code",
      "source": [
        "bin_encoder.base_n_encoder.mapping[0]['mapping']"
      ],
      "metadata": {
        "id": "LG7r5sY33X7w"
      },
      "execution_count": null,
      "outputs": []
    },
    {
      "cell_type": "code",
      "source": [
        "ex_enc = BinaryEncoder()\n",
        "ex_map = ex_enc.fit_transform(df_test)\n",
        "ex_enc.base_n_encoder.mapping[0]['mapping']"
      ],
      "metadata": {
        "id": "U5JHlQ7E3ZNj"
      },
      "execution_count": null,
      "outputs": []
    },
    {
      "cell_type": "code",
      "source": [
        "ex_enc.base_n_encoder.ordinal_encoder.category_mapping[0]['mapping']"
      ],
      "metadata": {
        "id": "RegRNqDp3avm"
      },
      "execution_count": null,
      "outputs": []
    },
    {
      "cell_type": "markdown",
      "source": [
        "Frequency or Count **Encoder**"
      ],
      "metadata": {
        "id": "CGUC_Dhx3dqy"
      }
    },
    {
      "cell_type": "code",
      "source": [
        "from category_encoders import CountEncoder"
      ],
      "metadata": {
        "id": "BlDRxWsi3f-8"
      },
      "execution_count": null,
      "outputs": []
    },
    {
      "cell_type": "code",
      "source": [
        "count_enc = CountEncoder(  )"
      ],
      "metadata": {
        "id": "YuBrt13u3g_J"
      },
      "execution_count": null,
      "outputs": []
    },
    {
      "cell_type": "code",
      "source": [
        "count_enc.fit_transform(df[col])"
      ],
      "metadata": {
        "id": "bARGbvt53iGo"
      },
      "execution_count": null,
      "outputs": []
    },
    {
      "cell_type": "code",
      "source": [
        "count_enc.mapping"
      ],
      "metadata": {
        "id": "_EvWuMAD3jPp"
      },
      "execution_count": null,
      "outputs": []
    },
    {
      "cell_type": "markdown",
      "source": [
        "Let's try using the group merge **functions**"
      ],
      "metadata": {
        "id": "gllQc6ih3mjT"
      }
    },
    {
      "cell_type": "code",
      "source": [
        "count_enc = CountEncoder(combine_min_nan_groups=True, min_group_size=500, min_group_name='others')"
      ],
      "metadata": {
        "id": "Nk6nyhdo3px5"
      },
      "execution_count": null,
      "outputs": []
    },
    {
      "cell_type": "code",
      "source": [
        "count_enc.fit_transform(df[col])"
      ],
      "metadata": {
        "id": "uIm6jCjH3qy8"
      },
      "execution_count": null,
      "outputs": []
    },
    {
      "cell_type": "code",
      "source": [
        "count_enc.mapping['drinks']"
      ],
      "metadata": {
        "id": "cxNy7ake3r-5"
      },
      "execution_count": null,
      "outputs": []
    },
    {
      "cell_type": "markdown",
      "source": [
        "Ordinal **Encoder**"
      ],
      "metadata": {
        "id": "pFT2Dq7b3uJ_"
      }
    },
    {
      "cell_type": "code",
      "source": [
        "from category_encoders import OrdinalEncoder"
      ],
      "metadata": {
        "id": "yvlgLpdm3s5C"
      },
      "execution_count": null,
      "outputs": []
    },
    {
      "cell_type": "code",
      "source": [
        "ord_enc = OrdinalEncoder()"
      ],
      "metadata": {
        "id": "c4OTooNW3yJx"
      },
      "execution_count": null,
      "outputs": []
    },
    {
      "cell_type": "code",
      "source": [
        "ord_enc.fit_transform(df[col])"
      ],
      "metadata": {
        "id": "XZZ7DbEm3zFs"
      },
      "execution_count": null,
      "outputs": []
    },
    {
      "cell_type": "code",
      "source": [
        "ord_enc.category_mapping[0]['mapping']"
      ],
      "metadata": {
        "id": "Hsn9w8xy30CH"
      },
      "execution_count": null,
      "outputs": []
    },
    {
      "cell_type": "code",
      "source": [
        ""
      ],
      "metadata": {
        "id": "l3Jd7WjM31K3"
      },
      "execution_count": null,
      "outputs": []
    }
  ]
}
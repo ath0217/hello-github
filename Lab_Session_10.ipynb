{
  "nbformat": 4,
  "nbformat_minor": 0,
  "metadata": {
    "colab": {
      "name": "Lab Session # 10.ipynb",
      "private_outputs": true,
      "provenance": [],
      "authorship_tag": "ABX9TyOAzHLiMYUhFU8SEGpb+g48",
      "include_colab_link": true
    },
    "kernelspec": {
      "name": "python3",
      "display_name": "Python 3"
    },
    "language_info": {
      "name": "python"
    }
  },
  "cells": [
    {
      "cell_type": "markdown",
      "metadata": {
        "id": "view-in-github",
        "colab_type": "text"
      },
      "source": [
        "<a href=\"https://colab.research.google.com/github/ath0217/hello-github/blob/main/Lab_Session_10.ipynb\" target=\"_parent\"><img src=\"https://colab.research.google.com/assets/colab-badge.svg\" alt=\"Open In Colab\"/></a>"
      ]
    },
    {
      "cell_type": "markdown",
      "source": [
        "**Importing libraries**"
      ],
      "metadata": {
        "id": "Z8W8fFxMrW6e"
      }
    },
    {
      "cell_type": "code",
      "execution_count": null,
      "metadata": {
        "id": "f28gSl_QrSZX"
      },
      "outputs": [],
      "source": [
        "import pandas as pd\n",
        "import numpy as np\n",
        "import matplotlib.pyplot as plt\n",
        "import seaborn as sns\n",
        "import plotly.express as px\n",
        "import plotly.graph_objects as go"
      ]
    },
    {
      "cell_type": "code",
      "source": [
        "sns.set_style(\"darkgrid\")"
      ],
      "metadata": {
        "id": "iR7sviJXrauz"
      },
      "execution_count": null,
      "outputs": []
    },
    {
      "cell_type": "code",
      "source": [
        "!mkdir data"
      ],
      "metadata": {
        "id": "cCj-GhDprc3_"
      },
      "execution_count": null,
      "outputs": []
    },
    {
      "cell_type": "code",
      "source": [
        "import gdown\n",
        "\n",
        "urls = ['https://drive.google.com/uc?export=download&id=1ULDuvWPWD3LmxpQ6FKUHe1prjdM8LmSY', # hitters  https://drive.google.com/file/d/1ULDuvWPWD3LmxpQ6FKUHe1prjdM8LmSY/view?usp=sharing\n",
        "        'https://drive.google.com/uc?export=download&id=1ofzUqu2idUmxe_DAOPghkR_SCcvLpPgN', # churn_data  https://drive.google.com/file/d/1ofzUqu2idUmxe_DAOPghkR_SCcvLpPgN/view?usp=sharing\n",
        "      ]\n",
        "outputs = ['hitters.csv','churn_data.csv']\n",
        "for url,output in zip(urls,outputs):\n",
        "  gdown.download(url, f'data/{output}', quiet=False)"
      ],
      "metadata": {
        "id": "7K4_MX2wrd_k"
      },
      "execution_count": null,
      "outputs": []
    },
    {
      "cell_type": "markdown",
      "source": [
        "**Regularized linear models**\n"
      ],
      "metadata": {
        "id": "SOu1q9mkrjVu"
      }
    },
    {
      "cell_type": "code",
      "source": [
        "from sklearn.preprocessing import scale \n",
        "from sklearn import model_selection\n",
        "from sklearn.linear_model import LinearRegression, Ridge, RidgeCV, Lasso, LassoCV, ElasticNet, ElasticNetCV\n",
        "from sklearn.model_selection import KFold, cross_val_score,train_test_split\n",
        "from sklearn.metrics import mean_squared_error"
      ],
      "metadata": {
        "id": "3AAl1CE5rg3I"
      },
      "execution_count": null,
      "outputs": []
    },
    {
      "cell_type": "code",
      "source": [
        "df = pd.read_csv('data/hitters.csv', index_col=0).dropna()\n",
        "df.index.name = 'Player'\n",
        "df.info()"
      ],
      "metadata": {
        "id": "R1wk7QjQrmNZ"
      },
      "execution_count": null,
      "outputs": []
    },
    {
      "cell_type": "code",
      "source": [
        "df.head(3)"
      ],
      "metadata": {
        "id": "0JveZ4vGrntQ"
      },
      "execution_count": null,
      "outputs": []
    },
    {
      "cell_type": "code",
      "source": [
        "dummies = pd.get_dummies(df[['League', 'Division', 'NewLeague']])\n",
        "dummies.info()\n",
        "print(dummies.head())"
      ],
      "metadata": {
        "id": "6ez5EDGYrpPl"
      },
      "execution_count": null,
      "outputs": []
    },
    {
      "cell_type": "code",
      "source": [
        "y = df.Salary\n",
        "\n",
        "# Drop the column with the independent variable (Salary), and columns for which we created dummy variables\n",
        "X_ = df.drop(['Salary', 'League', 'Division', 'NewLeague'], axis=1).astype('float64')\n",
        "# Define the feature set X.\n",
        "X = pd.concat([X_, dummies[['League_N', 'Division_W', 'NewLeague_N']]], axis=1)\n",
        "X.info()"
      ],
      "metadata": {
        "id": "2t4rFcT_rqb7"
      },
      "execution_count": null,
      "outputs": []
    },
    {
      "cell_type": "code",
      "source": [
        "X.head(5)"
      ],
      "metadata": {
        "id": "fhYtZQfEsndk"
      },
      "execution_count": null,
      "outputs": []
    },
    {
      "cell_type": "code",
      "source": [
        "X_train, X_test, y_train, y_test = train_test_split(X,y,random_state=714,test_size=0.20)"
      ],
      "metadata": {
        "id": "N-8VX5FOspS0"
      },
      "execution_count": null,
      "outputs": []
    },
    {
      "cell_type": "code",
      "source": [
        "alphas = 10**np.linspace(10,-2,100)*0.5\n",
        "print('{:.4f}'.format(alphas[0]))\n",
        "print('{:.4f}'.format(alphas[24]))\n",
        "print('{:.4f}'.format(alphas[49]))\n",
        "print('{:.4f}'.format(alphas[74]))\n",
        "print('{:.4f}'.format(alphas[99]))"
      ],
      "metadata": {
        "id": "SM4srUtvsqr3"
      },
      "execution_count": null,
      "outputs": []
    },
    {
      "cell_type": "code",
      "source": [
        "ridge = Ridge()\n",
        "coefs = []\n",
        "\n",
        "for a in alphas:\n",
        "    ridge.set_params(alpha=a)\n",
        "    ridge.fit(scale(X_train), y_train)\n",
        "    coefs.append(ridge.coef_)\n",
        "\n",
        "ax = plt.gca()\n",
        "ax.plot(alphas, coefs)\n",
        "ax.set_xscale('log')\n",
        "ax.set_xlim(ax.get_xlim()[::-1])  # reverse axis\n",
        "plt.axis('tight')\n",
        "plt.xlabel('alpha')\n",
        "plt.ylabel('weights')\n",
        "plt.title('Ridge coefficients as a function of the regularization');"
      ],
      "metadata": {
        "id": "DrUqG6QystA1"
      },
      "execution_count": null,
      "outputs": []
    },
    {
      "cell_type": "code",
      "source": [
        "ridgecv = RidgeCV(alphas = alphas)\n",
        "ridgecv.fit(X_train, y_train)\n",
        "print('Best alpha: ', ridgecv.alpha_)\n",
        "y_pred = ridgecv.predict(X_test)\n",
        "print('Test MSE: ',mean_squared_error(y_test,y_pred))"
      ],
      "metadata": {
        "id": "lP2zjLdgs1IP"
      },
      "execution_count": null,
      "outputs": []
    },
    {
      "cell_type": "code",
      "source": [
        "lasso = Lasso(max_iter=10000)\n",
        "coefs = []\n",
        "\n",
        "for a in alphas:\n",
        "    lasso.set_params(alpha=a)\n",
        "    lasso.fit(scale(X_train), y_train)\n",
        "    coefs.append(lasso.coef_)\n",
        "\n",
        "ax = plt.gca()\n",
        "ax.plot(alphas, coefs)\n",
        "ax.set_xscale('log')\n",
        "ax.set_xlim(ax.get_xlim()[::-1])  # reverse axis\n",
        "plt.axis('tight')\n",
        "plt.xlabel('alpha')\n",
        "plt.ylabel('weights')\n",
        "plt.title('Lasso coefficients as a function of the regularization');"
      ],
      "metadata": {
        "id": "CsNXamrps3D2"
      },
      "execution_count": null,
      "outputs": []
    },
    {
      "cell_type": "code",
      "source": [
        "lassocv = LassoCV(alphas = alphas,max_iter=10000)\n",
        "lassocv.fit(X_train, y_train)\n",
        "print('Best alpha: ', lassocv.alpha_)\n",
        "y_pred = lassocv.predict(X_test)\n",
        "print('Test MSE: ',mean_squared_error(y_test,y_pred))"
      ],
      "metadata": {
        "id": "wNyTBF7Vs4qv"
      },
      "execution_count": null,
      "outputs": []
    },
    {
      "cell_type": "code",
      "source": [
        "ridge.coef_<-0"
      ],
      "metadata": {
        "id": "ElzJizwUtP53"
      },
      "execution_count": null,
      "outputs": []
    },
    {
      "cell_type": "code",
      "source": [
        "eln = ElasticNet(max_iter=10000)\n",
        "coefs = []\n",
        "\n",
        "for a in alphas:\n",
        "    eln.set_params(alpha=a)\n",
        "    eln.fit(scale(X_train), y_train)\n",
        "    coefs.append(eln.coef_)\n",
        "\n",
        "ax = plt.gca()\n",
        "ax.plot(alphas, coefs)\n",
        "ax.set_xscale('log')\n",
        "ax.set_xlim(ax.get_xlim()[::-1])  # reverse axis\n",
        "plt.axis('tight')\n",
        "plt.xlabel('alpha')\n",
        "plt.ylabel('weights')\n",
        "plt.title('Elastic Net coefficients as a function of the regularization');"
      ],
      "metadata": {
        "id": "OCDQ-wB1s6fO"
      },
      "execution_count": null,
      "outputs": []
    },
    {
      "cell_type": "code",
      "source": [
        "elasticcv = ElasticNetCV(alphas = alphas,max_iter=10000)\n",
        "elasticcv.fit(X_train, y_train)\n",
        "print('Best alpha: ', elasticcv.alpha_)\n",
        "y_pred = elasticcv.predict(X_test)\n",
        "print('Test MSE: ',mean_squared_error(y_test,y_pred))"
      ],
      "metadata": {
        "id": "hY2phCiCs8Fp"
      },
      "execution_count": null,
      "outputs": []
    },
    {
      "cell_type": "markdown",
      "source": [
        "**Decision Analytic Thinking**"
      ],
      "metadata": {
        "id": "62Nko8eEt9eM"
      }
    },
    {
      "cell_type": "code",
      "source": [
        "from sklearn.tree import DecisionTreeClassifier\n",
        "from sklearn.ensemble import RandomForestClassifier, GradientBoostingClassifier\n",
        "from sklearn.discriminant_analysis import LinearDiscriminantAnalysis, QuadraticDiscriminantAnalysis\n",
        "from sklearn.dummy import DummyClassifier\n",
        "from sklearn.model_selection import GridSearchCV\n",
        "from sklearn.linear_model import LogisticRegressionCV\n",
        "from sklearn.metrics import make_scorer, f1_score, confusion_matrix, accuracy_score,ConfusionMatrixDisplay"
      ],
      "metadata": {
        "id": "81LNO-xcs9pw"
      },
      "execution_count": null,
      "outputs": []
    },
    {
      "cell_type": "code",
      "source": [
        "churn = pd.read_csv('data/churn_data.csv', index_col=0)\n",
        "churn.head(3)"
      ],
      "metadata": {
        "id": "a_FNg_87_rE6"
      },
      "execution_count": null,
      "outputs": []
    },
    {
      "cell_type": "code",
      "source": [
        "churn.info()"
      ],
      "metadata": {
        "id": "sPpGdXT2_st-"
      },
      "execution_count": null,
      "outputs": []
    },
    {
      "cell_type": "code",
      "source": [
        "churn = pd.get_dummies(data= churn, columns=['REPORTED_SATISFACTION',\t'REPORTED_USAGE_LEVEL',\t'CONSIDERING_CHANGE_OF_PLAN'])\n",
        "churn = churn[[c for c in churn if c not in ['LEAVE']] \n",
        "       + ['LEAVE']]\n",
        "churn.info()"
      ],
      "metadata": {
        "id": "XAj9cgRI_tpp"
      },
      "execution_count": null,
      "outputs": []
    },
    {
      "cell_type": "code",
      "source": [
        "codes, uniques = pd.factorize(churn['LEAVE'])\n",
        "churn['LEAVE'] = codes\n",
        "print(uniques)"
      ],
      "metadata": {
        "id": "m5YmiBZ-_vRT"
      },
      "execution_count": null,
      "outputs": []
    },
    {
      "cell_type": "code",
      "source": [
        "churn.head()"
      ],
      "metadata": {
        "id": "0HDMeVnj_w4j"
      },
      "execution_count": null,
      "outputs": []
    },
    {
      "cell_type": "code",
      "source": [
        "sns.countplot(data=churn, x='LEAVE')"
      ],
      "metadata": {
        "id": "GFU6zDjC_x74"
      },
      "execution_count": null,
      "outputs": []
    },
    {
      "cell_type": "code",
      "source": [
        "X= churn.drop(['LEAVE'],axis=1)\n",
        "y= churn['LEAVE']"
      ],
      "metadata": {
        "id": "JT2KsLjs_zDM"
      },
      "execution_count": null,
      "outputs": []
    },
    {
      "cell_type": "code",
      "source": [
        "\n",
        "X_train, X_test, y_train, y_test = train_test_split(X,y,random_state=714,test_size=0.20,stratify=y)"
      ],
      "metadata": {
        "id": "hP7sdyra_0GZ"
      },
      "execution_count": null,
      "outputs": []
    },
    {
      "cell_type": "code",
      "source": [
        "models = [(DummyClassifier(),{}),\n",
        "          (DecisionTreeClassifier(class_weight='balanced'),{'max_depth':[None,2,4,6], 'ccp_alpha':[0,0.1,1]}),\n",
        "          (RandomForestClassifier(class_weight='balanced'),{'max_depth':[None,2,4,6],'n_estimators':[25,50,100]}),\n",
        "          (GradientBoostingClassifier(),{'max_depth':[None,2,4,6],'n_estimators':[25,50,100]}),\n",
        "          (LinearDiscriminantAnalysis(),{}),\n",
        "          (QuadraticDiscriminantAnalysis(),{}),\n",
        "          (LogisticRegressionCV(max_iter=500, solver='liblinear'),{'penalty':['l1','l2']})\n",
        "          ]"
      ],
      "metadata": {
        "id": "z-vIiphz_1hO"
      },
      "execution_count": null,
      "outputs": []
    },
    {
      "cell_type": "code",
      "source": [
        "%%time\n",
        "f1 = make_scorer(f1_score)\n",
        "best_models = []\n",
        "for model, param in models:\n",
        "  gds = GridSearchCV(model, scoring=f1, refit=True, param_grid=param, cv =3)\n",
        "  gds.fit(X_train,y_train)\n",
        "  best_models.append(gds.best_estimator_)"
      ],
      "metadata": {
        "id": "YeiVs91b_3Ki"
      },
      "execution_count": null,
      "outputs": []
    },
    {
      "cell_type": "code",
      "source": [
        "confusion_matrices = []\n",
        "for model in best_models:\n",
        "  y_pred = model.predict(X_test)\n",
        "  confusion_matrices.append(confusion_matrix(y_test,y_pred))\n",
        "  print(model.__class__.__name__,'score: ',accuracy_score(y_test,y_pred))"
      ],
      "metadata": {
        "id": "EGUJEGL6_4ow"
      },
      "execution_count": null,
      "outputs": []
    },
    {
      "cell_type": "code",
      "source": [
        "sns.set_style(\"ticks\")"
      ],
      "metadata": {
        "id": "Yp6j90ooAOGW"
      },
      "execution_count": null,
      "outputs": []
    },
    {
      "cell_type": "code",
      "source": [
        "disp  = ConfusionMatrixDisplay(confusion_matrices[0],display_labels=uniques)\n",
        "disp.plot()"
      ],
      "metadata": {
        "id": "sourezggAPYP"
      },
      "execution_count": null,
      "outputs": []
    },
    {
      "cell_type": "code",
      "source": [
        "cost_benefit_matrix = np.array([[0,0],\n",
        "                                [-1,99]])\n",
        "print(cost_benefit_matrix)"
      ],
      "metadata": {
        "id": "xTxjsvkjAQlE"
      },
      "execution_count": null,
      "outputs": []
    },
    {
      "cell_type": "code",
      "source": [
        "\n",
        "confusion_matrices[0]"
      ],
      "metadata": {
        "id": "h--Lw0sxAR3F"
      },
      "execution_count": null,
      "outputs": []
    },
    {
      "cell_type": "code",
      "source": [
        "for i, (conf_mat, model) in enumerate(zip(confusion_matrices, models)):\n",
        "  print(model[0].__class__.__name__)  \n",
        "  disp  = ConfusionMatrixDisplay(conf_mat,display_labels=uniques)\n",
        "  disp.plot()\n",
        "  plt.show()"
      ],
      "metadata": {
        "id": "56-M3-C4AStD"
      },
      "execution_count": null,
      "outputs": []
    },
    {
      "cell_type": "code",
      "source": [
        "\n",
        "for conf_mat, model in zip(confusion_matrices, models):\n",
        "  print('Expected value of ', model[0].__class__.__name__,\": \", np.multiply(conf_mat,cost_benefit_matrix).sum())"
      ],
      "metadata": {
        "id": "54jPZZ1gAUEK"
      },
      "execution_count": null,
      "outputs": []
    },
    {
      "cell_type": "code",
      "source": [
        ""
      ],
      "metadata": {
        "id": "N719eePVAVc6"
      },
      "execution_count": null,
      "outputs": []
    }
  ]
}
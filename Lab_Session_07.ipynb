{
  "nbformat": 4,
  "nbformat_minor": 0,
  "metadata": {
    "colab": {
      "name": "Lab Session #07.ipynb",
      "private_outputs": true,
      "provenance": [],
      "authorship_tag": "ABX9TyM5VzZQdZxNClUedLYCMCEX",
      "include_colab_link": true
    },
    "kernelspec": {
      "name": "python3",
      "display_name": "Python 3"
    },
    "language_info": {
      "name": "python"
    }
  },
  "cells": [
    {
      "cell_type": "markdown",
      "metadata": {
        "id": "view-in-github",
        "colab_type": "text"
      },
      "source": [
        "<a href=\"https://colab.research.google.com/github/ath0217/hello-github/blob/main/Lab_Session_07.ipynb\" target=\"_parent\"><img src=\"https://colab.research.google.com/assets/colab-badge.svg\" alt=\"Open In Colab\"/></a>"
      ]
    },
    {
      "cell_type": "code",
      "execution_count": null,
      "metadata": {
        "id": "obKFYjQJTMHy"
      },
      "outputs": [],
      "source": [
        "import pandas as pd\n",
        "import numpy as np\n",
        "import matplotlib.pyplot as plt\n",
        "import seaborn as sns\n",
        "import plotly.express as px\n",
        "import plotly.graph_objects as go"
      ]
    },
    {
      "cell_type": "code",
      "source": [
        "sns.set_style(\"darkgrid\")"
      ],
      "metadata": {
        "id": "DAUj1ho4TRYe"
      },
      "execution_count": null,
      "outputs": []
    },
    {
      "cell_type": "code",
      "source": [
        "!mkdir data"
      ],
      "metadata": {
        "id": "kNmxm_qCTXeh"
      },
      "execution_count": null,
      "outputs": []
    },
    {
      "cell_type": "code",
      "source": [
        "import gdown\n",
        "\n",
        "urls = ['https://drive.google.com/uc?export=download&id=1G5dtIOtywpDBgREbsf7iDVExz6LVg4DM', # heart  https://drive.google.com/file/d/1G5dtIOtywpDBgREbsf7iDVExz6LVg4DM/view?usp=sharing\n",
        "        'https://drive.google.com/uc?export=download&id=1ULDuvWPWD3LmxpQ6FKUHe1prjdM8LmSY' # hitters https://drive.google.com/file/d/1ULDuvWPWD3LmxpQ6FKUHe1prjdM8LmSY/view?usp=sharing\n",
        "        ]\n",
        "outputs = ['heart.csv','hitters.csv']\n",
        "for url,output in zip(urls,outputs):\n",
        "  gdown.download(url, f'data/{output}', quiet=False)"
      ],
      "metadata": {
        "id": "u0DvUM3KTZeG"
      },
      "execution_count": null,
      "outputs": []
    },
    {
      "cell_type": "markdown",
      "source": [
        "**Decision Tree**\n"
      ],
      "metadata": {
        "id": "114VKA7HT0VW"
      }
    },
    {
      "cell_type": "code",
      "source": [
        "from sklearn.tree import DecisionTreeClassifier, DecisionTreeRegressor, plot_tree\n",
        "\n",
        "from sklearn.model_selection import KFold,LeaveOneOut\n",
        "from sklearn.model_selection import train_test_split\n",
        "\n",
        "\n",
        "from sklearn.metrics import mean_squared_error, r2_score, accuracy_score, classification_report\n",
        "\n",
        "from mlxtend.plotting import plot_decision_regions"
      ],
      "metadata": {
        "id": "pGa-JesSTa48"
      },
      "execution_count": null,
      "outputs": []
    },
    {
      "cell_type": "markdown",
      "source": [
        "**Decision tree for regression**"
      ],
      "metadata": {
        "id": "UKapUnYGT8iO"
      }
    },
    {
      "cell_type": "code",
      "source": [
        "hit = pd.read_csv('data/hitters.csv')\n",
        "hit.info()"
      ],
      "metadata": {
        "id": "TZqjQu_7T7WF"
      },
      "execution_count": null,
      "outputs": []
    },
    {
      "cell_type": "code",
      "source": [
        "hit.head(3)"
      ],
      "metadata": {
        "id": "h06LgvyFT_4L"
      },
      "execution_count": null,
      "outputs": []
    },
    {
      "cell_type": "code",
      "source": [
        "hit.dropna(inplace=True)"
      ],
      "metadata": {
        "id": "oqbRBaTGUBY0"
      },
      "execution_count": null,
      "outputs": []
    },
    {
      "cell_type": "code",
      "source": [
        "X= hit[['Years','Hits']]\n",
        "y = hit['Salary']"
      ],
      "metadata": {
        "id": "KUeQ3TPbUCfn"
      },
      "execution_count": null,
      "outputs": []
    },
    {
      "cell_type": "code",
      "source": [
        "sns.scatterplot(data=hit, x='Years', y='Hits', hue='Salary')"
      ],
      "metadata": {
        "id": "C1OMKckTUD11"
      },
      "execution_count": null,
      "outputs": []
    },
    {
      "cell_type": "code",
      "source": [
        "dtr = DecisionTreeRegressor(max_depth=2, random_state=714)\n",
        "dtr.fit(X,y)"
      ],
      "metadata": {
        "id": "sV62c7MpUFF2"
      },
      "execution_count": null,
      "outputs": []
    },
    {
      "cell_type": "code",
      "source": [
        "plt.figure(figsize=(20,10))\n",
        "plot_tree(dtr,feature_names=X.columns)"
      ],
      "metadata": {
        "id": "mqWITWroUGMl"
      },
      "execution_count": null,
      "outputs": []
    },
    {
      "cell_type": "code",
      "source": [
        "plot_decision_regions(X.values, y.astype(np.integer).values, clf=dtr, legend=None)"
      ],
      "metadata": {
        "id": "G6ovJIruUHX9"
      },
      "execution_count": null,
      "outputs": []
    },
    {
      "cell_type": "markdown",
      "source": [
        "**Decision tree for classification**"
      ],
      "metadata": {
        "id": "m_7dzI1fVMd7"
      }
    },
    {
      "cell_type": "code",
      "source": [
        "heart = pd.read_csv('data/heart.csv', usecols=range(1,15))\n",
        "heart.dropna(inplace=True)\n",
        "heart.info()"
      ],
      "metadata": {
        "id": "cxhd8Yt7UIkF"
      },
      "execution_count": null,
      "outputs": []
    },
    {
      "cell_type": "code",
      "source": [
        "heart.head(3)"
      ],
      "metadata": {
        "id": "qZBq9ckJVQFc"
      },
      "execution_count": null,
      "outputs": []
    },
    {
      "cell_type": "code",
      "source": [
        "X= pd.get_dummies(data=heart.drop(['AHD'],axis=1), columns=['ChestPain','Thal'])\n",
        "y, levels = heart['AHD'].factorize()\n",
        "\n",
        "print(levels)"
      ],
      "metadata": {
        "id": "xmwF-OU1VRE6"
      },
      "execution_count": null,
      "outputs": []
    },
    {
      "cell_type": "code",
      "source": [
        "X_train, X_test, y_train, y_test = train_test_split(X,y,test_size=.20,random_state=714)"
      ],
      "metadata": {
        "id": "VHm7MWiIVSRa"
      },
      "execution_count": null,
      "outputs": []
    },
    {
      "cell_type": "code",
      "source": [
        "clf = DecisionTreeClassifier(max_depth=3,random_state=714)\n",
        "clf.fit(X_train,y_train)"
      ],
      "metadata": {
        "id": "2RQfNaXxVTe-"
      },
      "execution_count": null,
      "outputs": []
    },
    {
      "cell_type": "code",
      "source": [
        "plt.figure(figsize=(20,10))\n",
        "plot_tree(clf,feature_names=X.columns)"
      ],
      "metadata": {
        "id": "IIt5GXEiVUi_"
      },
      "execution_count": null,
      "outputs": []
    },
    {
      "cell_type": "code",
      "source": [
        "y_pred = clf.predict(X_test)\n",
        "print(classification_report(y_test,y_pred))"
      ],
      "metadata": {
        "id": "HiVrGoW6VVzB"
      },
      "execution_count": null,
      "outputs": []
    },
    {
      "cell_type": "markdown",
      "source": [
        "**Simple bagging**"
      ],
      "metadata": {
        "id": "7P3R-vfwVZCU"
      }
    },
    {
      "cell_type": "code",
      "source": [
        "from sklearn.ensemble import BaggingClassifier, BaggingRegressor"
      ],
      "metadata": {
        "id": "u3YwI2HVVXZT"
      },
      "execution_count": null,
      "outputs": []
    },
    {
      "cell_type": "code",
      "source": [
        "X= hit[['Years','Hits']]\n",
        "y = np.log(hit['Salary'])"
      ],
      "metadata": {
        "id": "BpBgnPzDVdRM"
      },
      "execution_count": null,
      "outputs": []
    },
    {
      "cell_type": "code",
      "source": [
        "cv = KFold(n_splits=10, shuffle=True, random_state=714)\n",
        "cv"
      ],
      "metadata": {
        "id": "eoy3-CnLVeo-"
      },
      "execution_count": null,
      "outputs": []
    },
    {
      "cell_type": "code",
      "source": [
        "%%time\n",
        "B = [5,10,25,50,75,100,200,300,400,500]\n",
        "mses=[]\n",
        "cv = KFold(n_splits=10, shuffle=True, random_state=714)\n",
        "# this is 10-fold CV\n",
        "for k, (train_index, test_index) in enumerate(cv.split(X,y)):\n",
        "  mses.append([])\n",
        "  X_train, X_test = X.iloc[train_index], X.iloc[test_index]\n",
        "  y_train, y_test = y.iloc[train_index], y.iloc[test_index]      \n",
        "  # this is running 10 different Baggings with different B\n",
        "  dtr = DecisionTreeRegressor(random_state=714)\n",
        "  dtr.fit(X_train,y_train)\n",
        "  y_pred_dt = dtr.predict(X_test)\n",
        "  mse_dt = mean_squared_error(y_test,y_pred_dt)\n",
        "  mses[k].append(mse_dt)\n",
        "  for b in B:                     \n",
        "    bag = BaggingRegressor(n_estimators=b)\n",
        "    bag.fit(X_train, y_train)\n",
        "    #plotting the results\n",
        "    y_pred_bag = bag.predict(X_test)\n",
        "    mse_bag = mean_squared_error(y_test,y_pred_bag)\n",
        "    mses[k].append(mse_bag)"
      ],
      "metadata": {
        "id": "y-jfZjm7VgHm"
      },
      "execution_count": null,
      "outputs": []
    },
    {
      "cell_type": "code",
      "source": [
        "np.array(mses).shape"
      ],
      "metadata": {
        "id": "NlDCkEo5Vhkb"
      },
      "execution_count": null,
      "outputs": []
    },
    {
      "cell_type": "code",
      "source": [
        "sns.lineplot(x=[1]+B, y=np.array(mses).mean(axis=0),marker='o')\n",
        "#plt.ylim((16,28))\n",
        "plt.xlabel('Trees')\n",
        "plt.ylabel('$MSE_{Test}$')"
      ],
      "metadata": {
        "id": "FiT35jbUV06M"
      },
      "execution_count": null,
      "outputs": []
    },
    {
      "cell_type": "code",
      "source": [
        "print(np.array(mses).mean(axis=0))\n",
        "print(np.array(mses).mean(axis=0).min())"
      ],
      "metadata": {
        "id": "M9MKos-GV2lO"
      },
      "execution_count": null,
      "outputs": []
    },
    {
      "cell_type": "markdown",
      "source": [
        "**Random Forest**"
      ],
      "metadata": {
        "id": "p6DewCJAW40l"
      }
    },
    {
      "cell_type": "code",
      "source": [
        "from sklearn.ensemble import RandomForestRegressor, RandomForestClassifier"
      ],
      "metadata": {
        "id": "vhoQXjS5V4Db"
      },
      "execution_count": null,
      "outputs": []
    },
    {
      "cell_type": "code",
      "source": [
        "%%time\n",
        "B = [5,10,25,50,75,100,200,300,400,500]\n",
        "mses_rfr=[]\n",
        "cv = KFold(n_splits=10, shuffle=True, random_state=714)\n",
        "# this is 10-fold CV\n",
        "for k, (train_index, test_index) in enumerate(cv.split(X,y)):\n",
        "  mses_rfr.append([])\n",
        "  X_train, X_test = X.iloc[train_index], X.iloc[test_index]\n",
        "  y_train, y_test = y.iloc[train_index], y.iloc[test_index]      \n",
        "  # this is running 10 different RF with different B\n",
        "  dtr = DecisionTreeRegressor(random_state=714)\n",
        "  dtr.fit(X_train,y_train)\n",
        "  y_pred_dt = dtr.predict(X_test)\n",
        "  mse_dt = mean_squared_error(y_test,y_pred_dt)\n",
        "  mses_rfr[k].append(mse_dt)\n",
        "  for b in B:                     \n",
        "    rfr = RandomForestRegressor(n_estimators=b)\n",
        "    rfr.fit(X_train, y_train)\n",
        "    #plotting the results\n",
        "    y_pred_rfr = rfr.predict(X_test)\n",
        "    mse_rfr = mean_squared_error(y_test,y_pred_rfr)\n",
        "    mses_rfr[k].append(mse_rfr)"
      ],
      "metadata": {
        "id": "ONyDlLL3W8yR"
      },
      "execution_count": null,
      "outputs": []
    },
    {
      "cell_type": "code",
      "source": [
        "sns.lineplot(x=[1]+B, y=np.array(mses_rfr).mean(axis=0),marker='o')\n",
        "#plt.ylim((16,28))\n",
        "plt.xlabel('Trees')\n",
        "plt.ylabel('$MSE_{Test}$')"
      ],
      "metadata": {
        "id": "ub0USYxQW-5t"
      },
      "execution_count": null,
      "outputs": []
    },
    {
      "cell_type": "code",
      "source": [
        "print(np.array(mses_rfr).mean(axis=0))\n",
        "print(np.array(mses_rfr).mean(axis=0).min())"
      ],
      "metadata": {
        "id": "pFaEfUigX8JH"
      },
      "execution_count": null,
      "outputs": []
    },
    {
      "cell_type": "markdown",
      "source": [
        "**Classification with RF**"
      ],
      "metadata": {
        "id": "dEf9eeUrYA-A"
      }
    },
    {
      "cell_type": "code",
      "source": [
        "X= pd.get_dummies(data=heart.drop(['AHD'],axis=1), columns=['ChestPain','Thal'])\n",
        "y, levels = heart['AHD'].factorize()\n",
        "\n",
        "print(levels)"
      ],
      "metadata": {
        "id": "a_j496KoYAYk"
      },
      "execution_count": null,
      "outputs": []
    },
    {
      "cell_type": "code",
      "source": [
        "%%time\n",
        "B = [5,50,100,200,300,400,500]\n",
        "accuracy_rfp=[]\n",
        "accuracy_rfp2=[]\n",
        "accuracy_rfsqrtp=[]\n",
        "accuracy_rflogp=[]\n",
        "cv = KFold(n_splits=10, shuffle=True, random_state=714)\n",
        "# this is 10-fold CV\n",
        "for k, (train_index, test_index) in enumerate(cv.split(X,y)):\n",
        "  accuracy_rfp.append([])\n",
        "  accuracy_rfp2.append([])\n",
        "  accuracy_rfsqrtp.append([])\n",
        "  accuracy_rflogp.append([])\n",
        "  X_train, X_test = X.iloc[train_index], X.iloc[test_index]\n",
        "  y_train, y_test = y[train_index], y[test_index]      \n",
        "  # this is running 10 different RF with different max_features\n",
        "  for b in B:                     \n",
        "    rfp = RandomForestClassifier(n_estimators=b, max_features=None,random_state=714)\n",
        "    rfp2 = RandomForestClassifier(n_estimators=b, max_features=0.5,random_state=714)\n",
        "    rfsqrtp = RandomForestClassifier(n_estimators=b, max_features='sqrt',random_state=714)\n",
        "    rflogp = RandomForestClassifier(n_estimators=b, max_features='log2',random_state=7)\n",
        "    rfp.fit(X_train, y_train)\n",
        "    rfp2.fit(X_train, y_train)\n",
        "    rfsqrtp.fit(X_train, y_train)\n",
        "    rflogp.fit(X_train, y_train)\n",
        "    #plotting the results\n",
        "    y_pred_rfp = rfp.predict(X_test)\n",
        "    y_pred_rfp2 = rfp2.predict(X_test)\n",
        "    y_pred_rfsqrtp = rfsqrtp.predict(X_test)\n",
        "    y_pred_rflogp = rflogp.predict(X_test)\n",
        "    acc_rfp = accuracy_score(y_test,y_pred_rfp)\n",
        "    acc_rfp2 = accuracy_score(y_test,y_pred_rfp2)\n",
        "    acc_rfsqrtp = accuracy_score(y_test,y_pred_rfsqrtp)\n",
        "    acc_rflogp = accuracy_score(y_test,y_pred_rflogp)\n",
        "    accuracy_rfp[k].append(acc_rfp)\n",
        "    accuracy_rfp2[k].append(acc_rfp2)\n",
        "    accuracy_rfsqrtp[k].append(acc_rfsqrtp)\n",
        "    accuracy_rflogp[k].append(acc_rflogp)"
      ],
      "metadata": {
        "id": "3JOQbltMYDzq"
      },
      "execution_count": null,
      "outputs": []
    },
    {
      "cell_type": "code",
      "source": [
        "np.array(accuracy_rflogp).shape"
      ],
      "metadata": {
        "id": "mje6mI-VYFyG"
      },
      "execution_count": null,
      "outputs": []
    },
    {
      "cell_type": "code",
      "source": [
        "plt.figure(figsize=(12,6))\n",
        "sns.lineplot(x=B, y=np.array(accuracy_rfp).mean(axis=0),marker='o')\n",
        "sns.lineplot(x=B, y=np.array(accuracy_rfp2).mean(axis=0),marker='o')\n",
        "sns.lineplot(x=B, y=np.array(accuracy_rfsqrtp).mean(axis=0),marker='o')\n",
        "sns.lineplot(x=B, y=np.array(accuracy_rflogp).mean(axis=0),marker='o')\n",
        "plt.legend(['$m=p$','$m=p/2$','$m=\\sqrt{p}$','$m=log_2(p)$'])\n",
        "#plt.ylim((16,28))\n",
        "plt.xlabel('Number of Trees')\n",
        "plt.ylabel('$Accuracy_{Test}$')"
      ],
      "metadata": {
        "id": "Jc_7oX2taLJO"
      },
      "execution_count": null,
      "outputs": []
    },
    {
      "cell_type": "code",
      "source": [
        "\n",
        "accuracy_dt = []\n",
        "cv = KFold(n_splits=10, shuffle=True, random_state=714)\n",
        "# this is 10-fold CV\n",
        "for k, (train_index, test_index) in enumerate(cv.split(X,y)):  \n",
        "  X_train, X_test = X.iloc[train_index], X.iloc[test_index]\n",
        "  y_train, y_test = y[train_index], y[test_index]   \n",
        "  clf = DecisionTreeClassifier(random_state=714)\n",
        "  clf.fit(X_train,y_train)\n",
        "  y_pred_dt = clf.predict(X_test)\n",
        "  acc_dt = accuracy_score(y_test,y_pred_dt)\n",
        "  accuracy_dt.append(acc_dt)"
      ],
      "metadata": {
        "id": "-TL8Onp8aMe6"
      },
      "execution_count": null,
      "outputs": []
    },
    {
      "cell_type": "code",
      "source": [
        "print(np.array(accuracy_dt))\n",
        "print(np.array(accuracy_dt).mean())"
      ],
      "metadata": {
        "id": "CeiV61dZaNjm"
      },
      "execution_count": null,
      "outputs": []
    },
    {
      "cell_type": "code",
      "source": [
        ""
      ],
      "metadata": {
        "id": "coonXeCFaPt7"
      },
      "execution_count": null,
      "outputs": []
    }
  ]
}